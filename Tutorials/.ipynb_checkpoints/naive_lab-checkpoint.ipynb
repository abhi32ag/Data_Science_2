{
 "cells": [
  {
   "cell_type": "code",
   "execution_count": 1,
   "metadata": {
    "collapsed": true
   },
   "outputs": [],
   "source": [
    "import numpy as np\n",
    "import matplotlib.pyplot as plt"
   ]
  },
  {
   "cell_type": "code",
   "execution_count": 11,
   "metadata": {
    "collapsed": false
   },
   "outputs": [],
   "source": [
    "X = np.arange(100).reshape(-1,1)\n",
    "eps = np.random.normal(0,1,X.shape)"
   ]
  },
  {
   "cell_type": "code",
   "execution_count": 12,
   "metadata": {
    "collapsed": false
   },
   "outputs": [],
   "source": [
    "y = 0.5 + 0*X + eps"
   ]
  },
  {
   "cell_type": "code",
   "execution_count": 18,
   "metadata": {
    "collapsed": false
   },
   "outputs": [],
   "source": [
    "constant_col = np.array([1 for z in range(X.shape[0])]).reshape(-1,1)"
   ]
  },
  {
   "cell_type": "code",
   "execution_count": 19,
   "metadata": {
    "collapsed": false
   },
   "outputs": [],
   "source": [
    "data = np.append(constant_col, X, 1)"
   ]
  },
  {
   "cell_type": "code",
   "execution_count": 22,
   "metadata": {
    "collapsed": false
   },
   "outputs": [
    {
     "data": {
      "text/plain": [
       "array([[ 1,  0],\n",
       "       [ 1,  1],\n",
       "       [ 1,  2],\n",
       "       [ 1,  3],\n",
       "       [ 1,  4],\n",
       "       [ 1,  5],\n",
       "       [ 1,  6],\n",
       "       [ 1,  7],\n",
       "       [ 1,  8],\n",
       "       [ 1,  9],\n",
       "       [ 1, 10],\n",
       "       [ 1, 11],\n",
       "       [ 1, 12],\n",
       "       [ 1, 13],\n",
       "       [ 1, 14],\n",
       "       [ 1, 15],\n",
       "       [ 1, 16],\n",
       "       [ 1, 17],\n",
       "       [ 1, 18],\n",
       "       [ 1, 19],\n",
       "       [ 1, 20],\n",
       "       [ 1, 21],\n",
       "       [ 1, 22],\n",
       "       [ 1, 23],\n",
       "       [ 1, 24],\n",
       "       [ 1, 25],\n",
       "       [ 1, 26],\n",
       "       [ 1, 27],\n",
       "       [ 1, 28],\n",
       "       [ 1, 29],\n",
       "       [ 1, 30],\n",
       "       [ 1, 31],\n",
       "       [ 1, 32],\n",
       "       [ 1, 33],\n",
       "       [ 1, 34],\n",
       "       [ 1, 35],\n",
       "       [ 1, 36],\n",
       "       [ 1, 37],\n",
       "       [ 1, 38],\n",
       "       [ 1, 39],\n",
       "       [ 1, 40],\n",
       "       [ 1, 41],\n",
       "       [ 1, 42],\n",
       "       [ 1, 43],\n",
       "       [ 1, 44],\n",
       "       [ 1, 45],\n",
       "       [ 1, 46],\n",
       "       [ 1, 47],\n",
       "       [ 1, 48],\n",
       "       [ 1, 49],\n",
       "       [ 1, 50],\n",
       "       [ 1, 51],\n",
       "       [ 1, 52],\n",
       "       [ 1, 53],\n",
       "       [ 1, 54],\n",
       "       [ 1, 55],\n",
       "       [ 1, 56],\n",
       "       [ 1, 57],\n",
       "       [ 1, 58],\n",
       "       [ 1, 59],\n",
       "       [ 1, 60],\n",
       "       [ 1, 61],\n",
       "       [ 1, 62],\n",
       "       [ 1, 63],\n",
       "       [ 1, 64],\n",
       "       [ 1, 65],\n",
       "       [ 1, 66],\n",
       "       [ 1, 67],\n",
       "       [ 1, 68],\n",
       "       [ 1, 69],\n",
       "       [ 1, 70],\n",
       "       [ 1, 71],\n",
       "       [ 1, 72],\n",
       "       [ 1, 73],\n",
       "       [ 1, 74],\n",
       "       [ 1, 75],\n",
       "       [ 1, 76],\n",
       "       [ 1, 77],\n",
       "       [ 1, 78],\n",
       "       [ 1, 79],\n",
       "       [ 1, 80],\n",
       "       [ 1, 81],\n",
       "       [ 1, 82],\n",
       "       [ 1, 83],\n",
       "       [ 1, 84],\n",
       "       [ 1, 85],\n",
       "       [ 1, 86],\n",
       "       [ 1, 87],\n",
       "       [ 1, 88],\n",
       "       [ 1, 89],\n",
       "       [ 1, 90],\n",
       "       [ 1, 91],\n",
       "       [ 1, 92],\n",
       "       [ 1, 93],\n",
       "       [ 1, 94],\n",
       "       [ 1, 95],\n",
       "       [ 1, 96],\n",
       "       [ 1, 97],\n",
       "       [ 1, 98],\n",
       "       [ 1, 99]])"
      ]
     },
     "execution_count": 22,
     "metadata": {},
     "output_type": "execute_result"
    }
   ],
   "source": [
    "data"
   ]
  },
  {
   "cell_type": "code",
   "execution_count": 24,
   "metadata": {
    "collapsed": false
   },
   "outputs": [],
   "source": [
    "beta = np.dot(np.linalg.inv(np.dot(data.T,data)),np.dot(data.T,y))"
   ]
  },
  {
   "cell_type": "code",
   "execution_count": 25,
   "metadata": {
    "collapsed": false
   },
   "outputs": [
    {
     "data": {
      "text/plain": [
       "array([[ 0.45947347],\n",
       "       [ 0.00147958]])"
      ]
     },
     "execution_count": 25,
     "metadata": {},
     "output_type": "execute_result"
    }
   ],
   "source": [
    "beta"
   ]
  },
  {
   "cell_type": "code",
   "execution_count": null,
   "metadata": {
    "collapsed": true
   },
   "outputs": [],
   "source": []
  }
 ],
 "metadata": {
  "kernelspec": {
   "display_name": "Python 2",
   "language": "python",
   "name": "python2"
  },
  "language_info": {
   "codemirror_mode": {
    "name": "ipython",
    "version": 2
   },
   "file_extension": ".py",
   "mimetype": "text/x-python",
   "name": "python",
   "nbconvert_exporter": "python",
   "pygments_lexer": "ipython2",
   "version": "2.7.11"
  }
 },
 "nbformat": 4,
 "nbformat_minor": 0
}
