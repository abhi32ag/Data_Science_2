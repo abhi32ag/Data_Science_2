{
 "cells": [
  {
   "cell_type": "code",
   "execution_count": 9,
   "metadata": {
    "collapsed": true
   },
   "outputs": [],
   "source": [
    "import numpy as np\n",
    "import matplotlib.pyplot as plt\n",
    "%matplotlib inline"
   ]
  },
  {
   "cell_type": "code",
   "execution_count": 11,
   "metadata": {
    "collapsed": false
   },
   "outputs": [],
   "source": [
    "X = np.arange(100).reshape(-1,1)\n",
    "eps = np.random.normal(0,1,X.shape)"
   ]
  },
  {
   "cell_type": "code",
   "execution_count": 12,
   "metadata": {
    "collapsed": false
   },
   "outputs": [],
   "source": [
    "y = 0.5 + 0*X + eps"
   ]
  },
  {
   "cell_type": "code",
   "execution_count": 18,
   "metadata": {
    "collapsed": false
   },
   "outputs": [],
   "source": [
    "constant_col = np.array([1 for z in range(X.shape[0])]).reshape(-1,1)"
   ]
  },
  {
   "cell_type": "code",
   "execution_count": 19,
   "metadata": {
    "collapsed": false
   },
   "outputs": [],
   "source": [
    "data = np.append(constant_col, X, 1)"
   ]
  },
  {
   "cell_type": "code",
   "execution_count": 24,
   "metadata": {
    "collapsed": false
   },
   "outputs": [],
   "source": [
    "beta = np.dot(np.linalg.inv(np.dot(data.T,data)),np.dot(data.T,y))\n",
    "beta"
   ]
  },
  {
   "cell_type": "code",
   "execution_count": 2,
   "metadata": {
    "collapsed": false
   },
   "outputs": [],
   "source": [
    "beta_list = []"
   ]
  },
  {
   "cell_type": "code",
   "execution_count": 3,
   "metadata": {
    "collapsed": false
   },
   "outputs": [],
   "source": [
    "for _ in range(1000): \n",
    "    X = np.arange(100).reshape(-1,1)\n",
    "    eps = np.random.normal(0,1,X.shape)\n",
    "    y = 0.5 + 0*X + eps\n",
    "    constant_col = np.array([1 for z in range(X.shape[0])]).reshape(-1,1)\n",
    "    data = np.append(constant_col, X, 1)\n",
    "    beta = np.dot(np.linalg.inv(np.dot(data.T,data)),np.dot(data.T,y))\n",
    "    beta_list.append(np.asscalar(beta[1]))"
   ]
  },
  {
   "cell_type": "code",
   "execution_count": 13,
   "metadata": {
    "collapsed": false
   },
   "outputs": [
    {
     "data": {
      "text/plain": [
       "(array([  1.,   0.,   0.,   1.,   1.,   0.,   0.,   7.,   2.,   1.,   7.,\n",
       "          8.,  10.,  16.,  23.,  23.,  32.,  33.,  40.,  41.,  56.,  52.,\n",
       "         55.,  57.,  62.,  39.,  63.,  50.,  45.,  43.,  36.,  31.,  43.,\n",
       "         27.,  27.,  16.,   8.,  12.,   7.,   8.,   3.,   3.,   3.,   4.,\n",
       "          1.,   1.,   0.,   1.,   0.,   1.]),\n",
       " array([-0.0124526 , -0.01194848, -0.01144435, -0.01094022, -0.0104361 ,\n",
       "        -0.00993197, -0.00942785, -0.00892372, -0.00841959, -0.00791547,\n",
       "        -0.00741134, -0.00690721, -0.00640309, -0.00589896, -0.00539484,\n",
       "        -0.00489071, -0.00438658, -0.00388246, -0.00337833, -0.0028742 ,\n",
       "        -0.00237008, -0.00186595, -0.00136183, -0.0008577 , -0.00035357,\n",
       "         0.00015055,  0.00065468,  0.00115881,  0.00166293,  0.00216706,\n",
       "         0.00267119,  0.00317531,  0.00367944,  0.00418356,  0.00468769,\n",
       "         0.00519182,  0.00569594,  0.00620007,  0.0067042 ,  0.00720832,\n",
       "         0.00771245,  0.00821657,  0.0087207 ,  0.00922483,  0.00972895,\n",
       "         0.01023308,  0.01073721,  0.01124133,  0.01174546,  0.01224958,\n",
       "         0.01275371]),\n",
       " <a list of 50 Patch objects>)"
      ]
     },
     "execution_count": 13,
     "metadata": {},
     "output_type": "execute_result"
    },
    {
     "data": {
      "image/png": "[encoded data removed]",
      "text/plain": [
       "<matplotlib.figure.Figure at 0x110997d50>"
      ]
     },
     "metadata": {},
     "output_type": "display_data"
    }
   ],
   "source": [
    "import seaborn as sns; sns.set()\n",
    "plt.figure(figsize = (16,9))\n",
    "plt.hist(beta_list, bins=50)"
   ]
  },
  {
   "cell_type": "code",
   "execution_count": null,
   "metadata": {
    "collapsed": true
   },
   "outputs": [],
   "source": []
  }
 ],
 "metadata": {
  "kernelspec": {
   "display_name": "Python 2",
   "language": "python",
   "name": "python2"
  },
  "language_info": {
   "codemirror_mode": {
    "name": "ipython",
    "version": 2
   },
   "file_extension": ".py",
   "mimetype": "text/x-python",
   "name": "python",
   "nbconvert_exporter": "python",
   "pygments_lexer": "ipython2",
   "version": "2.7.11"
  }
 },
 "nbformat": 4,
 "nbformat_minor": 0
}
