{
 "cells": [
  {
   "cell_type": "markdown",
   "metadata": {
    "ein.tags": [
     "worksheet-0"
    ],
    "slideshow": {
     "slide_type": "-"
    }
   },
   "source": [
    "### In-class exercise for Tue, 2017-04-12.  If submitted by midnight, Thu, April 13th, you will earn 3 participation credits."
   ]
  },
  {
   "cell_type": "code",
   "execution_count": 1,
   "metadata": {
    "autoscroll": "json-false",
    "collapsed": false,
    "ein.tags": [
     "worksheet-0"
    ],
    "slideshow": {
     "slide_type": "-"
    }
   },
   "outputs": [],
   "source": [
    "import numpy as np\n",
    "import pandas as pd"
   ]
  },
  {
   "cell_type": "markdown",
   "metadata": {
    "ein.tags": [
     "worksheet-0"
    ],
    "slideshow": {
     "slide_type": "-"
    }
   },
   "source": [
    "## 1. Solve the following system of equations:\n",
    "\n",
    "x1 + 2\\*x2 = 7\n",
    "-x2 + x3 = 6\n",
    "x1 - 4\\*x2 + x3 = -2\n",
    "\n",
    "Use linear algebra (feel free to check your LA result with other methods if you have nothing better to do ;-) \n"
   ]
  },
  {
   "cell_type": "code",
   "execution_count": 2,
   "metadata": {
    "autoscroll": "json-false",
    "collapsed": false,
    "ein.tags": [
     "worksheet-0"
    ],
    "slideshow": {
     "slide_type": "-"
    }
   },
   "outputs": [
    {
     "data": {
      "text/plain": [
       "array([[ 1.],\n",
       "       [ 3.],\n",
       "       [ 9.]])"
      ]
     },
     "execution_count": 2,
     "metadata": {},
     "output_type": "execute_result"
    }
   ],
   "source": [
    "A = np.array([[1,2,0],[0,-1,1],[1,-4,1]])\n",
    "B = np.array([[7],[6],[-2]])\n",
    "ans = np.dot(np.linalg.inv(A),B)\n",
    "ans"
   ]
  },
  {
   "cell_type": "markdown",
   "metadata": {
    "ein.tags": [
     "worksheet-0"
    ],
    "slideshow": {
     "slide_type": "-"
    }
   },
   "source": [
    "## 2. Condition number\n",
    "Read the AmesHousing dataset documentation.  It is sales price data for Ames, IA, the variable 'SalePrice' represents the sale price in USD.  We are working toward predicting the price based on the observed features.  (but we don't get that far...)\n",
    "\n",
    "Determine the data type and import this data into python.  Ensure you imported it correctly."
   ]
  },
  {
   "cell_type": "code",
   "execution_count": 3,
   "metadata": {
    "autoscroll": "json-false",
    "collapsed": false,
    "ein.tags": [
     "worksheet-0"
    ],
    "slideshow": {
     "slide_type": "-"
    }
   },
   "outputs": [
    {
     "data": {
      "text/plain": [
       "Order               int64\n",
       "PID                 int64\n",
       "MS SubClass         int64\n",
       "MS Zoning          object\n",
       "Lot Frontage      float64\n",
       "Lot Area            int64\n",
       "Street             object\n",
       "Alley              object\n",
       "Lot Shape          object\n",
       "Land Contour       object\n",
       "Utilities          object\n",
       "Lot Config         object\n",
       "Land Slope         object\n",
       "Neighborhood       object\n",
       "Condition 1        object\n",
       "Condition 2        object\n",
       "Bldg Type          object\n",
       "House Style        object\n",
       "Overall Qual        int64\n",
       "Overall Cond        int64\n",
       "Year Built          int64\n",
       "Year Remod/Add      int64\n",
       "Roof Style         object\n",
       "Roof Matl          object\n",
       "Exterior 1st       object\n",
       "Exterior 2nd       object\n",
       "Mas Vnr Type       object\n",
       "Mas Vnr Area      float64\n",
       "Exter Qual         object\n",
       "Exter Cond         object\n",
       "                   ...   \n",
       "Bedroom AbvGr       int64\n",
       "Kitchen AbvGr       int64\n",
       "Kitchen Qual       object\n",
       "TotRms AbvGrd       int64\n",
       "Functional         object\n",
       "Fireplaces          int64\n",
       "Fireplace Qu       object\n",
       "Garage Type        object\n",
       "Garage Yr Blt     float64\n",
       "Garage Finish      object\n",
       "Garage Cars       float64\n",
       "Garage Area       float64\n",
       "Garage Qual        object\n",
       "Garage Cond        object\n",
       "Paved Drive        object\n",
       "Wood Deck SF        int64\n",
       "Open Porch SF       int64\n",
       "Enclosed Porch      int64\n",
       "3Ssn Porch          int64\n",
       "Screen Porch        int64\n",
       "Pool Area           int64\n",
       "Pool QC            object\n",
       "Fence              object\n",
       "Misc Feature       object\n",
       "Misc Val            int64\n",
       "Mo Sold             int64\n",
       "Yr Sold             int64\n",
       "Sale Type          object\n",
       "Sale Condition     object\n",
       "SalePrice           int64\n",
       "dtype: object"
      ]
     },
     "execution_count": 3,
     "metadata": {},
     "output_type": "execute_result"
    }
   ],
   "source": [
    "house_data = pd.read_csv('/Users/abhi/Documents/UW/Courses/Spring_Quarter_17/INFX-574/Data_Science_2/Assignments/Lab/ameshousing.csv', sep = '\\t')\n",
    "house_data.head()\n",
    "house_data.dtypes"
   ]
  },
  {
   "cell_type": "markdown",
   "metadata": {
    "ein.tags": [
     "worksheet-0"
    ],
    "slideshow": {
     "slide_type": "-"
    }
   },
   "source": [
    "2.1 The dataset includes a large number of variables.  Some of these are numeric (continuous), some are categoric (nominal) and others are ordered (ordinal).  However, many statistical methods can only handle numeric variables.\n",
    "\n",
    "Look at variable 'Street'.  Is it numeric, categorical, or ordered?"
   ]
  },
  {
   "cell_type": "code",
   "execution_count": 4,
   "metadata": {
    "autoscroll": "json-false",
    "collapsed": false,
    "ein.tags": [
     "worksheet-0"
    ],
    "slideshow": {
     "slide_type": "-"
    }
   },
   "outputs": [
    {
     "data": {
      "text/plain": [
       "count     2930\n",
       "unique       2\n",
       "top       Pave\n",
       "freq      2918\n",
       "Name: Street, dtype: object"
      ]
     },
     "execution_count": 4,
     "metadata": {},
     "output_type": "execute_result"
    }
   ],
   "source": [
    "house_data['Street'].describe()"
   ]
  },
  {
   "cell_type": "markdown",
   "metadata": {
    "ein.tags": [
     "worksheet-0"
    ],
    "slideshow": {
     "slide_type": "-"
    }
   },
   "source": [
    "2.2 A standard approach to handle categorical variables is to create *dummies* out of these.  This can be achieved by 'pd.get_dummies()' function.  Transform 'Street' into dummies.  How many of these do you need in your calculations?"
   ]
  },
  {
   "cell_type": "code",
   "execution_count": 5,
   "metadata": {
    "autoscroll": "json-false",
    "collapsed": false,
    "ein.tags": [
     "worksheet-0"
    ],
    "slideshow": {
     "slide_type": "-"
    }
   },
   "outputs": [
    {
     "data": {
      "text/plain": [
       "Order               int64\n",
       "PID                 int64\n",
       "MS SubClass         int64\n",
       "MS Zoning          object\n",
       "Lot Frontage      float64\n",
       "Lot Area            int64\n",
       "Street             object\n",
       "Alley              object\n",
       "Lot Shape          object\n",
       "Land Contour       object\n",
       "Utilities          object\n",
       "Lot Config         object\n",
       "Land Slope         object\n",
       "Neighborhood       object\n",
       "Condition 1        object\n",
       "Condition 2        object\n",
       "Bldg Type          object\n",
       "House Style        object\n",
       "Overall Qual        int64\n",
       "Overall Cond        int64\n",
       "Year Built          int64\n",
       "Year Remod/Add      int64\n",
       "Roof Style         object\n",
       "Roof Matl          object\n",
       "Exterior 1st       object\n",
       "Exterior 2nd       object\n",
       "Mas Vnr Type       object\n",
       "Mas Vnr Area      float64\n",
       "Exter Qual         object\n",
       "Exter Cond         object\n",
       "                   ...   \n",
       "Kitchen Qual       object\n",
       "TotRms AbvGrd       int64\n",
       "Functional         object\n",
       "Fireplaces          int64\n",
       "Fireplace Qu       object\n",
       "Garage Type        object\n",
       "Garage Yr Blt     float64\n",
       "Garage Finish      object\n",
       "Garage Cars       float64\n",
       "Garage Area       float64\n",
       "Garage Qual        object\n",
       "Garage Cond        object\n",
       "Paved Drive        object\n",
       "Wood Deck SF        int64\n",
       "Open Porch SF       int64\n",
       "Enclosed Porch      int64\n",
       "3Ssn Porch          int64\n",
       "Screen Porch        int64\n",
       "Pool Area           int64\n",
       "Pool QC            object\n",
       "Fence              object\n",
       "Misc Feature       object\n",
       "Misc Val            int64\n",
       "Mo Sold             int64\n",
       "Yr Sold             int64\n",
       "Sale Type          object\n",
       "Sale Condition     object\n",
       "SalePrice           int64\n",
       "Grvl               object\n",
       "Pave               object\n",
       "dtype: object"
      ]
     },
     "execution_count": 5,
     "metadata": {},
     "output_type": "execute_result"
    }
   ],
   "source": [
    "house_data['Grvl'],house_data['Pave'] = mat = pd.get_dummies(house_data['Street'])\n",
    "house_data.dtypes"
   ]
  },
  {
   "cell_type": "markdown",
   "metadata": {},
   "source": [
    "Only one of the 2 is needed cause 1.0 in one columns means 0.0 in the other "
   ]
  },
  {
   "cell_type": "markdown",
   "metadata": {
    "ein.tags": [
     "worksheet-0"
    ],
    "slideshow": {
     "slide_type": "-"
    }
   },
   "source": [
    "2.3 The statistical methods typically require to be fed the *design matrix*, a matrix that includes only numeric vectors for each observation.  In case of categorical features, the design matrix will contain the corresponding rows of dummies.  Create the design matrix of the 'Street' variable.  You may use 'pd.DataFrame.as_matrix()' function."
   ]
  },
  {
   "cell_type": "code",
   "execution_count": 6,
   "metadata": {
    "autoscroll": "json-false",
    "collapsed": false,
    "ein.tags": [
     "worksheet-0"
    ],
    "slideshow": {
     "slide_type": "-"
    }
   },
   "outputs": [],
   "source": [
    "design_matrix = pd.DataFrame.as_matrix(mat)\n"
   ]
  },
  {
   "cell_type": "markdown",
   "metadata": {
    "ein.tags": [
     "worksheet-0"
    ],
    "slideshow": {
     "slide_type": "-"
    }
   },
   "source": [
    "2.4 Select another feature and add to the design matrix.  If you select a categorical one, it should be converted to dummies as above.  If it is numeric, you may take it as-is.  Ordered features may be transformed to ordered numbers (such as 1,2,3,4...).  Add the data from the new variable to your design matrix.  You may use 'numpy.hstack()' to concatenate matrices column-wise.\n"
   ]
  },
  {
   "cell_type": "code",
   "execution_count": 7,
   "metadata": {
    "autoscroll": "json-false",
    "collapsed": false,
    "ein.tags": [
     "worksheet-0"
    ],
    "slideshow": {
     "slide_type": "-"
    }
   },
   "outputs": [],
   "source": [
    "sale_matrix = pd.DataFrame.as_matrix(house_data,columns = ['SalePrice'])\n",
    "big_matrix = np.hstack((design_matrix,sale_matrix))"
   ]
  },
  {
   "cell_type": "markdown",
   "metadata": {
    "ein.tags": [
     "worksheet-0"
    ],
    "slideshow": {
     "slide_type": "-"
    }
   },
   "source": [
    "2.5 Is this matrix (near) singular?  Which variables (if any) cause\n",
    "the singularity?  Proceed like this:\n",
    "a) take the first column from your design matrix.  You will have nx1 matrix. \n",
    "b) compute the condition number of it  (you may use 'np.linalg.cond()').\n",
    "c) print it\n",
    "d) add the next column and proceed to b)\n",
    "\n",
    "Now look how the condition number changes when you add the columns.  When it jump substantially, you have added a significant bit of multicollinearity into your design matrix.  However, condition numbers up to thousands is usually not a problem.\n"
   ]
  },
  {
   "cell_type": "code",
   "execution_count": 10,
   "metadata": {
    "autoscroll": "json-false",
    "collapsed": false,
    "ein.tags": [
     "worksheet-0"
    ],
    "slideshow": {
     "slide_type": "-"
    }
   },
   "outputs": [
    {
     "name": "stdout",
     "output_type": "stream",
     "text": [
      "15.5938021876\n",
      "3100042.00479\n"
     ]
    }
   ],
   "source": [
    "print np.linalg.cond(design_matrix)\n",
    "\n",
    "\n",
    "print np.linalg.cond(big_matrix)"
   ]
  },
  {
   "cell_type": "markdown",
   "metadata": {
    "ein.tags": [
     "worksheet-0"
    ],
    "slideshow": {
     "slide_type": "-"
    }
   },
   "source": [
    "Add 1-2 additional variables to your design matrix and repeat the process. "
   ]
  },
  {
   "cell_type": "code",
   "execution_count": null,
   "metadata": {
    "collapsed": true
   },
   "outputs": [],
   "source": []
  },
  {
   "cell_type": "code",
   "execution_count": null,
   "metadata": {
    "collapsed": true
   },
   "outputs": [],
   "source": []
  },
  {
   "cell_type": "code",
   "execution_count": null,
   "metadata": {
    "collapsed": true
   },
   "outputs": [],
   "source": []
  },
  {
   "cell_type": "code",
   "execution_count": null,
   "metadata": {
    "collapsed": true
   },
   "outputs": [],
   "source": []
  }
 ],
 "metadata": {
  "anaconda-cloud": {},
  "kernelspec": {
   "display_name": "Python 2",
   "language": "python",
   "name": "python2"
  },
  "language_info": {
   "codemirror_mode": {
    "name": "ipython",
    "version": 2
   },
   "file_extension": ".py",
   "mimetype": "text/x-python",
   "name": "python",
   "nbconvert_exporter": "python",
   "pygments_lexer": "ipython2",
   "version": "2.7.11"
  }
 },
 "nbformat": 4,
 "nbformat_minor": 2
}
