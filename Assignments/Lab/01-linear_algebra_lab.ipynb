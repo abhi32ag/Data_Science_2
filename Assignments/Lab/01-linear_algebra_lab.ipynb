{
 "cells": [
  {
   "cell_type": "markdown",
   "metadata": {
    "ein.tags": [
     "worksheet-0"
    ],
    "slideshow": {
     "slide_type": "-"
    }
   },
   "source": [
    "### In-class exercise for Tue, 2017-04-12.  If submitted by midnight, Thu, April 13th, you will earn 3 participation credits."
   ]
  },
  {
   "cell_type": "code",
   "execution_count": 1,
   "metadata": {
    "autoscroll": "json-false",
    "collapsed": false,
    "ein.tags": [
     "worksheet-0"
    ],
    "slideshow": {
     "slide_type": "-"
    }
   },
   "outputs": [],
   "source": [
    "import numpy as np\n",
    "import pandas as pd"
   ]
  },
  {
   "cell_type": "markdown",
   "metadata": {
    "ein.tags": [
     "worksheet-0"
    ],
    "slideshow": {
     "slide_type": "-"
    }
   },
   "source": [
    "## 1. Solve the following system of equations:\n",
    "\n",
    "x1 + 2\\*x2 = 7\n",
    "-x2 + x3 = 6\n",
    "x1 - 4\\*x2 + x3 = -2\n",
    "\n",
    "Use linear algebra (feel free to check your LA result with other methods if you have nothing better to do ;-) \n"
   ]
  },
  {
   "cell_type": "code",
   "execution_count": null,
   "metadata": {
    "autoscroll": "json-false",
    "collapsed": false,
    "ein.tags": [
     "worksheet-0"
    ],
    "slideshow": {
     "slide_type": "-"
    }
   },
   "outputs": [],
   "source": []
  },
  {
   "cell_type": "markdown",
   "metadata": {
    "ein.tags": [
     "worksheet-0"
    ],
    "slideshow": {
     "slide_type": "-"
    }
   },
   "source": [
    "## 2. Condition number\n",
    "Read the AmesHousing dataset documentation.  It is sales price data for Ames, IA, the variable 'SalePrice' represents the sale price in USD.  We are working toward predicting the price based on the observed features.  (but we don't get that far...)\n",
    "\n",
    "Determine the data type and import this data into python.  Ensure you imported it correctly."
   ]
  },
  {
   "cell_type": "code",
   "execution_count": null,
   "metadata": {
    "autoscroll": "json-false",
    "collapsed": false,
    "ein.tags": [
     "worksheet-0"
    ],
    "slideshow": {
     "slide_type": "-"
    }
   },
   "outputs": [],
   "source": []
  },
  {
   "cell_type": "markdown",
   "metadata": {
    "ein.tags": [
     "worksheet-0"
    ],
    "slideshow": {
     "slide_type": "-"
    }
   },
   "source": [
    "2.1 The dataset includes a large number of variables.  Some of these are numeric (continuous), some are categoric (nominal) and others are ordered (ordinal).  However, many statistical methods can only handle numeric variables.\n",
    "\n",
    "Look at variable 'Street'.  Is it numeric, categorical, or ordered?"
   ]
  },
  {
   "cell_type": "code",
   "execution_count": null,
   "metadata": {
    "autoscroll": "json-false",
    "collapsed": false,
    "ein.tags": [
     "worksheet-0"
    ],
    "slideshow": {
     "slide_type": "-"
    }
   },
   "outputs": [],
   "source": []
  },
  {
   "cell_type": "markdown",
   "metadata": {
    "ein.tags": [
     "worksheet-0"
    ],
    "slideshow": {
     "slide_type": "-"
    }
   },
   "source": [
    "2.2 A standard approach to handle categorical variables is to create *dummies* out of these.  This can be achieved by 'pd.get_dummies()' function.  Transform 'Street' into dummies.  How many of these do you need in your calculations?"
   ]
  },
  {
   "cell_type": "code",
   "execution_count": null,
   "metadata": {
    "autoscroll": "json-false",
    "collapsed": false,
    "ein.tags": [
     "worksheet-0"
    ],
    "slideshow": {
     "slide_type": "-"
    }
   },
   "outputs": [],
   "source": []
  },
  {
   "cell_type": "markdown",
   "metadata": {
    "ein.tags": [
     "worksheet-0"
    ],
    "slideshow": {
     "slide_type": "-"
    }
   },
   "source": [
    "2.3 The statistical methods typically require to be fed the *design matrix*, a matrix that includes only numeric vectors for each observation.  In case of categorical features, the design matrix will contain the corresponding rows of dummies.  Create the design matrix of the 'Street' variable.  You may use 'pd.DataFrame.as_matrix()' function."
   ]
  },
  {
   "cell_type": "code",
   "execution_count": null,
   "metadata": {
    "autoscroll": "json-false",
    "collapsed": false,
    "ein.tags": [
     "worksheet-0"
    ],
    "slideshow": {
     "slide_type": "-"
    }
   },
   "outputs": [],
   "source": []
  },
  {
   "cell_type": "markdown",
   "metadata": {
    "ein.tags": [
     "worksheet-0"
    ],
    "slideshow": {
     "slide_type": "-"
    }
   },
   "source": [
    "2.4 Select another feature and add to the design matrix.  If you select a categorical one, it should be converted to dummies as above.  If it is numeric, you may take it as-is.  Ordered features may be transformed to ordered numbers (such as 1,2,3,4...).  Add the data from the new variable to your design matrix.  You may use 'numpy.hstack()' to concatenate matrices column-wise.\n"
   ]
  },
  {
   "cell_type": "code",
   "execution_count": null,
   "metadata": {
    "autoscroll": "json-false",
    "collapsed": false,
    "ein.tags": [
     "worksheet-0"
    ],
    "slideshow": {
     "slide_type": "-"
    }
   },
   "outputs": [],
   "source": []
  },
  {
   "cell_type": "markdown",
   "metadata": {
    "ein.tags": [
     "worksheet-0"
    ],
    "slideshow": {
     "slide_type": "-"
    }
   },
   "source": [
    "2.5 Is this matrix (near) singular?  Which variables (if any) cause\n",
    "the singularity?  Proceed like this:\n",
    "a) take the first column from your design matrix.  You will have nx1 matrix. \n",
    "b) compute the condition number of it  (you may use 'np.linalg.cond()').\n",
    "c) print it\n",
    "d) add the next column and proceed to b)\n",
    "\n",
    "Now look how the condition number changes when you add the columns.  When it jump substantially, you have added a significant bit of multicollinearity into your design matrix.  However, condition numbers up to thousands is usually not a problem.\n"
   ]
  },
  {
   "cell_type": "code",
   "execution_count": null,
   "metadata": {
    "autoscroll": "json-false",
    "collapsed": false,
    "ein.tags": [
     "worksheet-0"
    ],
    "slideshow": {
     "slide_type": "-"
    }
   },
   "outputs": [],
   "source": []
  },
  {
   "cell_type": "markdown",
   "metadata": {
    "ein.tags": [
     "worksheet-0"
    ],
    "slideshow": {
     "slide_type": "-"
    }
   },
   "source": [
    "Add 1-2 additional variables to your design matrix and repeat the process. "
   ]
  }
 ],
 "metadata": {
  "anaconda-cloud": {},
  "kernelspec": {
   "display_name": "Python [default]",
   "language": "python",
   "name": "python2"
  },
  "language_info": {
   "codemirror_mode": {
    "name": "ipython",
    "version": 2
   },
   "file_extension": ".py",
   "mimetype": "text/x-python",
   "name": "python",
   "nbconvert_exporter": "python",
   "pygments_lexer": "ipython2",
   "version": "2.7.9"
  }
 },
 "nbformat": 4,
 "nbformat_minor": 2
}
