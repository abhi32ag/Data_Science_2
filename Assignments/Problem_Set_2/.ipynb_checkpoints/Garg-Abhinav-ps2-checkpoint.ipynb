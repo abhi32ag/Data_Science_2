{
 "cells": [
  {
   "cell_type": "markdown",
   "metadata": {
    "ein.tags": [
     "worksheet-0"
    ],
    "slideshow": {
     "slide_type": "-"
    }
   },
   "source": [
    "# Problem Set 2, due April 27th at 3:30 pm\n",
    "\n",
    "**Please Note:** This assignment will likely take you a _long_ time, especially if you are new to Python. Start early!"
   ]
  },
  {
   "cell_type": "markdown",
   "metadata": {
    "ein.tags": [
     "worksheet-0"
    ],
    "slideshow": {
     "slide_type": "-"
    }
   },
   "source": [
    "## Introduction to the assignment\n",
    "\n",
    "For this assignment, you will be using data from the [Progresa program](http://en.wikipedia.org/wiki/Oportunidades), a government social assistance program in Mexico. This program, as well as the details of its impact, are described in the paper \"[School subsidies for the poor: evaluating the Mexican Progresa poverty program](http://www.sciencedirect.com/science/article/pii/S0304387803001858)\", by Paul Shultz (available on Canvas). Please familiarize yourself with the PROGRESA program before beginning this problem set, so you have a rough sense of where the data come from and how they were generated. If you just proceed into the problem set without understanding Progresa or the data, it will be very difficult!\n",
    "\n",
    "The goal of this problem set is to implement some of the basic econometric techniques that you are learning in class to measure the impact of Progresa on secondary school enrollment rates. The timeline of the program was:\n",
    "\n",
    " * Baseline survey conducted in 1997\n",
    " * Intervention begins in 1998, \"Wave 1\" of data collected in 1998\n",
    " * \"Wave 2 of data\" collected in 1999\n",
    " * Evaluation ends in 2000, at which point the control villages were treated. \n",
    " \n",
    "When you are ready, download the progresa_sample.csv data from Canvas. The data are actual data collected to evaluate the impact of the Progresa program.  In this file, each row corresponds to an observation taken for a given child for a given year. There are two years of data (1997 and 1998), and just under 40,000 children who are surveyed in each year. For each child-year observation, the following variables are collected:\n",
    "\n",
    "| Variable name | Description|\n",
    "|---------|---------|\n",
    "|year\t  |year in which data is collected\n",
    "|sex\t  |male = 1|\n",
    "|indig\t  |indigenous = 1|\n",
    "|dist_sec |nearest distance to a secondary school|\n",
    "|sc\t      |enrolled in school in year of survey|\n",
    "|grc      |grade enrolled|\n",
    "|fam_n    |family size|\n",
    "|min_dist |\tmin distance to an urban center|\n",
    "|dist_cap |\tmin distance to the capital|\n",
    "|poor     |\tpoor = 'pobre'|\n",
    "|progresa |treatment = 'basal'|\n",
    "|hohedu\t  |years of schooling of head of household|\n",
    "|hohwag\t  |monthly wages of head of household|\n",
    "|welfare_index|\twelfare index used to classify poor|\n",
    "|hohsex\t  |gender of head of household (male=1)|\n",
    "|hohage   |age of head of household|\n",
    "|age      |years old|\n",
    "|folnum\t  |individual id|\n",
    "|village  |\tvillage id|\n",
    "|sc97\t  |schooling in 1997|"
   ]
  },
  {
   "cell_type": "code",
   "execution_count": 1,
   "metadata": {
    "autoscroll": "json-false",
    "collapsed": false,
    "ein.tags": [
     "worksheet-0"
    ],
    "slideshow": {
     "slide_type": "-"
    }
   },
   "outputs": [
    {
     "name": "stdout",
     "output_type": "stream",
     "text": [
      "2.7.11 |Anaconda 4.0.0 (x86_64)| (default, Dec  6 2015, 18:57:58) \n",
      "[GCC 4.2.1 (Apple Inc. build 5577)]\n"
     ]
    }
   ],
   "source": [
    "import sys; print(sys.version)\n",
    "%matplotlib inline\n"
   ]
  },
  {
   "cell_type": "code",
   "execution_count": 2,
   "metadata": {
    "collapsed": true
   },
   "outputs": [],
   "source": [
    "import pandas as pd \n",
    "import numpy as np \n",
    "import seaborn as sns; sns.set()\n",
    "%matplotlib inline\n",
    "import matplotlib.pyplot as plt\n",
    "import sklearn "
   ]
  },
  {
   "cell_type": "code",
   "execution_count": 3,
   "metadata": {
    "collapsed": false
   },
   "outputs": [
    {
     "data": {
      "text/html": [
       "<div>\n",
       "<table border=\"1\" class=\"dataframe\">\n",
       "  <thead>\n",
       "    <tr style=\"text-align: right;\">\n",
       "      <th></th>\n",
       "      <th>year</th>\n",
       "      <th>sex</th>\n",
       "      <th>indig</th>\n",
       "      <th>dist_sec</th>\n",
       "      <th>sc</th>\n",
       "      <th>grc</th>\n",
       "      <th>fam_n</th>\n",
       "      <th>min_dist</th>\n",
       "      <th>dist_cap</th>\n",
       "      <th>poor</th>\n",
       "      <th>...</th>\n",
       "      <th>hohedu</th>\n",
       "      <th>hohwag</th>\n",
       "      <th>welfare_index</th>\n",
       "      <th>hohsex</th>\n",
       "      <th>hohage</th>\n",
       "      <th>age</th>\n",
       "      <th>village</th>\n",
       "      <th>folnum</th>\n",
       "      <th>grc97</th>\n",
       "      <th>sc97</th>\n",
       "    </tr>\n",
       "  </thead>\n",
       "  <tbody>\n",
       "    <tr>\n",
       "      <th>0</th>\n",
       "      <td>97</td>\n",
       "      <td>0.0</td>\n",
       "      <td>0.0</td>\n",
       "      <td>4.473</td>\n",
       "      <td>1.0</td>\n",
       "      <td>7.0</td>\n",
       "      <td>7</td>\n",
       "      <td>21.168384</td>\n",
       "      <td>21.168384</td>\n",
       "      <td>pobre</td>\n",
       "      <td>...</td>\n",
       "      <td>6</td>\n",
       "      <td>0.0</td>\n",
       "      <td>583.0</td>\n",
       "      <td>1.0</td>\n",
       "      <td>35.0</td>\n",
       "      <td>13</td>\n",
       "      <td>163</td>\n",
       "      <td>1</td>\n",
       "      <td>7</td>\n",
       "      <td>1.0</td>\n",
       "    </tr>\n",
       "    <tr>\n",
       "      <th>1</th>\n",
       "      <td>98</td>\n",
       "      <td>0.0</td>\n",
       "      <td>0.0</td>\n",
       "      <td>4.473</td>\n",
       "      <td>1.0</td>\n",
       "      <td>8.0</td>\n",
       "      <td>7</td>\n",
       "      <td>21.168384</td>\n",
       "      <td>21.168384</td>\n",
       "      <td>pobre</td>\n",
       "      <td>...</td>\n",
       "      <td>6</td>\n",
       "      <td>0.0</td>\n",
       "      <td>583.0</td>\n",
       "      <td>1.0</td>\n",
       "      <td>35.0</td>\n",
       "      <td>14</td>\n",
       "      <td>163</td>\n",
       "      <td>1</td>\n",
       "      <td>7</td>\n",
       "      <td>1.0</td>\n",
       "    </tr>\n",
       "    <tr>\n",
       "      <th>2</th>\n",
       "      <td>97</td>\n",
       "      <td>1.0</td>\n",
       "      <td>0.0</td>\n",
       "      <td>4.473</td>\n",
       "      <td>1.0</td>\n",
       "      <td>6.0</td>\n",
       "      <td>7</td>\n",
       "      <td>21.168384</td>\n",
       "      <td>21.168384</td>\n",
       "      <td>pobre</td>\n",
       "      <td>...</td>\n",
       "      <td>6</td>\n",
       "      <td>0.0</td>\n",
       "      <td>583.0</td>\n",
       "      <td>1.0</td>\n",
       "      <td>35.0</td>\n",
       "      <td>12</td>\n",
       "      <td>163</td>\n",
       "      <td>2</td>\n",
       "      <td>6</td>\n",
       "      <td>1.0</td>\n",
       "    </tr>\n",
       "    <tr>\n",
       "      <th>3</th>\n",
       "      <td>98</td>\n",
       "      <td>1.0</td>\n",
       "      <td>0.0</td>\n",
       "      <td>4.473</td>\n",
       "      <td>1.0</td>\n",
       "      <td>7.0</td>\n",
       "      <td>7</td>\n",
       "      <td>21.168384</td>\n",
       "      <td>21.168384</td>\n",
       "      <td>pobre</td>\n",
       "      <td>...</td>\n",
       "      <td>6</td>\n",
       "      <td>0.0</td>\n",
       "      <td>583.0</td>\n",
       "      <td>1.0</td>\n",
       "      <td>35.0</td>\n",
       "      <td>13</td>\n",
       "      <td>163</td>\n",
       "      <td>2</td>\n",
       "      <td>6</td>\n",
       "      <td>1.0</td>\n",
       "    </tr>\n",
       "    <tr>\n",
       "      <th>4</th>\n",
       "      <td>97</td>\n",
       "      <td>0.0</td>\n",
       "      <td>0.0</td>\n",
       "      <td>4.473</td>\n",
       "      <td>1.0</td>\n",
       "      <td>2.0</td>\n",
       "      <td>7</td>\n",
       "      <td>21.168384</td>\n",
       "      <td>21.168384</td>\n",
       "      <td>pobre</td>\n",
       "      <td>...</td>\n",
       "      <td>6</td>\n",
       "      <td>0.0</td>\n",
       "      <td>583.0</td>\n",
       "      <td>1.0</td>\n",
       "      <td>35.0</td>\n",
       "      <td>8</td>\n",
       "      <td>163</td>\n",
       "      <td>3</td>\n",
       "      <td>2</td>\n",
       "      <td>1.0</td>\n",
       "    </tr>\n",
       "  </tbody>\n",
       "</table>\n",
       "<p>5 rows × 21 columns</p>\n",
       "</div>"
      ],
      "text/plain": [
       "   year  sex  indig  dist_sec   sc  grc  fam_n   min_dist   dist_cap   poor  \\\n",
       "0    97  0.0    0.0     4.473  1.0  7.0      7  21.168384  21.168384  pobre   \n",
       "1    98  0.0    0.0     4.473  1.0  8.0      7  21.168384  21.168384  pobre   \n",
       "2    97  1.0    0.0     4.473  1.0  6.0      7  21.168384  21.168384  pobre   \n",
       "3    98  1.0    0.0     4.473  1.0  7.0      7  21.168384  21.168384  pobre   \n",
       "4    97  0.0    0.0     4.473  1.0  2.0      7  21.168384  21.168384  pobre   \n",
       "\n",
       "   ...  hohedu  hohwag  welfare_index  hohsex  hohage  age  village  folnum  \\\n",
       "0  ...       6     0.0          583.0     1.0    35.0   13      163       1   \n",
       "1  ...       6     0.0          583.0     1.0    35.0   14      163       1   \n",
       "2  ...       6     0.0          583.0     1.0    35.0   12      163       2   \n",
       "3  ...       6     0.0          583.0     1.0    35.0   13      163       2   \n",
       "4  ...       6     0.0          583.0     1.0    35.0    8      163       3   \n",
       "\n",
       "   grc97  sc97  \n",
       "0      7   1.0  \n",
       "1      7   1.0  \n",
       "2      6   1.0  \n",
       "3      6   1.0  \n",
       "4      2   1.0  \n",
       "\n",
       "[5 rows x 21 columns]"
      ]
     },
     "execution_count": 3,
     "metadata": {},
     "output_type": "execute_result"
    }
   ],
   "source": [
    "progresa_data = pd.read_csv('/Users/abhi/Documents/UW/Courses/Spring_Quarter_17/INFX-574/data/Problem_Set_2/progresa_sample.csv')\n",
    "progresa_data.head()"
   ]
  },
  {
   "cell_type": "markdown",
   "metadata": {
    "ein.tags": [
     "worksheet-0"
    ],
    "slideshow": {
     "slide_type": "-"
    }
   },
   "source": [
    "---\n",
    "##Part 1: Descriptive analysis\n",
    "\n",
    "### 1.1\tSummary Statistics\n",
    "\n",
    "a) Present number of missing observations for every single variable\n"
   ]
  },
  {
   "cell_type": "code",
   "execution_count": 4,
   "metadata": {
    "autoscroll": "json-false",
    "collapsed": false,
    "ein.tags": [
     "worksheet-0"
    ],
    "slideshow": {
     "slide_type": "-"
    }
   },
   "outputs": [
    {
     "data": {
      "text/plain": [
       "year                0\n",
       "sex                24\n",
       "indig             300\n",
       "dist_sec            0\n",
       "sc               8453\n",
       "grc              6549\n",
       "fam_n               0\n",
       "min_dist            0\n",
       "dist_cap            0\n",
       "poor                0\n",
       "progresa            0\n",
       "hohedu              0\n",
       "hohwag              0\n",
       "welfare_index     210\n",
       "hohsex             20\n",
       "hohage             10\n",
       "age                 0\n",
       "village             0\n",
       "folnum              0\n",
       "grc97               0\n",
       "sc97             3872\n",
       "dtype: int64"
      ]
     },
     "execution_count": 4,
     "metadata": {},
     "output_type": "execute_result"
    }
   ],
   "source": [
    "progresa_data.isnull().sum(axis = 0)"
   ]
  },
  {
   "cell_type": "raw",
   "metadata": {},
   "source": [
    "Here we find the missing values using the isnull function and sum across all the rows to obtain the number of missing values in each variable "
   ]
  },
  {
   "cell_type": "markdown",
   "metadata": {
    "ein.tags": [
     "worksheet-0"
    ],
    "slideshow": {
     "slide_type": "-"
    }
   },
   "source": [
    "b) Present summary statistics (mean and standard deviation) for all of the demographic variables in the dataset (i.e., everything except year, folnum, village). Present these in a single table alphabetized by variable name. Do NOT simply expect the grader to scroll through your output!"
   ]
  },
  {
   "cell_type": "code",
   "execution_count": 5,
   "metadata": {
    "autoscroll": "json-false",
    "collapsed": false,
    "ein.tags": [
     "worksheet-0"
    ],
    "slideshow": {
     "slide_type": "-"
    }
   },
   "outputs": [
    {
     "name": "stderr",
     "output_type": "stream",
     "text": [
      "/anaconda/envs/gl-env/lib/python2.7/site-packages/ipykernel/__main__.py:1: FutureWarning: using '-' to provide set differences with Indexes is deprecated, use .difference()\n",
      "  if __name__ == '__main__':\n"
     ]
    },
    {
     "data": {
      "text/html": [
       "<div>\n",
       "<table border=\"1\" class=\"dataframe\">\n",
       "  <thead>\n",
       "    <tr style=\"text-align: right;\">\n",
       "      <th></th>\n",
       "      <th>age</th>\n",
       "      <th>dist_cap</th>\n",
       "      <th>dist_sec</th>\n",
       "      <th>fam_n</th>\n",
       "      <th>grc</th>\n",
       "      <th>grc97</th>\n",
       "      <th>hohage</th>\n",
       "      <th>hohedu</th>\n",
       "      <th>hohsex</th>\n",
       "      <th>hohwag</th>\n",
       "      <th>indig</th>\n",
       "      <th>min_dist</th>\n",
       "      <th>sc</th>\n",
       "      <th>sc97</th>\n",
       "      <th>sex</th>\n",
       "      <th>welfare_index</th>\n",
       "    </tr>\n",
       "  </thead>\n",
       "  <tbody>\n",
       "    <tr>\n",
       "      <th>count</th>\n",
       "      <td>77250.000000</td>\n",
       "      <td>77250.000000</td>\n",
       "      <td>77250.000000</td>\n",
       "      <td>77250.000000</td>\n",
       "      <td>70701.000000</td>\n",
       "      <td>77250.000000</td>\n",
       "      <td>77240.000000</td>\n",
       "      <td>77250.000000</td>\n",
       "      <td>77230.000000</td>\n",
       "      <td>77250.000000</td>\n",
       "      <td>76950.000000</td>\n",
       "      <td>77250.000000</td>\n",
       "      <td>68797.000000</td>\n",
       "      <td>73378.000000</td>\n",
       "      <td>77226.000000</td>\n",
       "      <td>77040.000000</td>\n",
       "    </tr>\n",
       "    <tr>\n",
       "      <th>mean</th>\n",
       "      <td>11.366460</td>\n",
       "      <td>147.674452</td>\n",
       "      <td>2.418910</td>\n",
       "      <td>7.215715</td>\n",
       "      <td>3.963537</td>\n",
       "      <td>3.705372</td>\n",
       "      <td>44.436717</td>\n",
       "      <td>2.768104</td>\n",
       "      <td>0.925185</td>\n",
       "      <td>586.985312</td>\n",
       "      <td>0.298324</td>\n",
       "      <td>103.447520</td>\n",
       "      <td>0.819818</td>\n",
       "      <td>0.813922</td>\n",
       "      <td>0.512211</td>\n",
       "      <td>690.346564</td>\n",
       "    </tr>\n",
       "    <tr>\n",
       "      <th>std</th>\n",
       "      <td>3.167744</td>\n",
       "      <td>76.063134</td>\n",
       "      <td>2.234109</td>\n",
       "      <td>2.352900</td>\n",
       "      <td>2.499063</td>\n",
       "      <td>2.572387</td>\n",
       "      <td>11.620372</td>\n",
       "      <td>2.656106</td>\n",
       "      <td>0.263095</td>\n",
       "      <td>788.133664</td>\n",
       "      <td>0.457525</td>\n",
       "      <td>42.089441</td>\n",
       "      <td>0.384342</td>\n",
       "      <td>0.389172</td>\n",
       "      <td>0.499854</td>\n",
       "      <td>139.491130</td>\n",
       "    </tr>\n",
       "    <tr>\n",
       "      <th>min</th>\n",
       "      <td>6.000000</td>\n",
       "      <td>9.465392</td>\n",
       "      <td>0.000000</td>\n",
       "      <td>1.000000</td>\n",
       "      <td>0.000000</td>\n",
       "      <td>0.000000</td>\n",
       "      <td>15.000000</td>\n",
       "      <td>0.000000</td>\n",
       "      <td>0.000000</td>\n",
       "      <td>0.000000</td>\n",
       "      <td>0.000000</td>\n",
       "      <td>9.465392</td>\n",
       "      <td>0.000000</td>\n",
       "      <td>0.000000</td>\n",
       "      <td>0.000000</td>\n",
       "      <td>180.000000</td>\n",
       "    </tr>\n",
       "    <tr>\n",
       "      <th>25%</th>\n",
       "      <td>9.000000</td>\n",
       "      <td>92.327050</td>\n",
       "      <td>0.574000</td>\n",
       "      <td>6.000000</td>\n",
       "      <td>2.000000</td>\n",
       "      <td>1.000000</td>\n",
       "      <td>36.000000</td>\n",
       "      <td>0.000000</td>\n",
       "      <td>1.000000</td>\n",
       "      <td>120.000000</td>\n",
       "      <td>0.000000</td>\n",
       "      <td>70.518238</td>\n",
       "      <td>1.000000</td>\n",
       "      <td>1.000000</td>\n",
       "      <td>0.000000</td>\n",
       "      <td>597.000000</td>\n",
       "    </tr>\n",
       "    <tr>\n",
       "      <th>50%</th>\n",
       "      <td>11.000000</td>\n",
       "      <td>132.001494</td>\n",
       "      <td>2.279000</td>\n",
       "      <td>7.000000</td>\n",
       "      <td>4.000000</td>\n",
       "      <td>4.000000</td>\n",
       "      <td>43.000000</td>\n",
       "      <td>2.000000</td>\n",
       "      <td>1.000000</td>\n",
       "      <td>500.000000</td>\n",
       "      <td>0.000000</td>\n",
       "      <td>111.228612</td>\n",
       "      <td>1.000000</td>\n",
       "      <td>1.000000</td>\n",
       "      <td>1.000000</td>\n",
       "      <td>685.000000</td>\n",
       "    </tr>\n",
       "    <tr>\n",
       "      <th>75%</th>\n",
       "      <td>14.000000</td>\n",
       "      <td>184.445225</td>\n",
       "      <td>3.582000</td>\n",
       "      <td>9.000000</td>\n",
       "      <td>6.000000</td>\n",
       "      <td>6.000000</td>\n",
       "      <td>51.000000</td>\n",
       "      <td>4.000000</td>\n",
       "      <td>1.000000</td>\n",
       "      <td>750.000000</td>\n",
       "      <td>1.000000</td>\n",
       "      <td>138.446009</td>\n",
       "      <td>1.000000</td>\n",
       "      <td>1.000000</td>\n",
       "      <td>1.000000</td>\n",
       "      <td>770.000000</td>\n",
       "    </tr>\n",
       "    <tr>\n",
       "      <th>max</th>\n",
       "      <td>17.000000</td>\n",
       "      <td>359.774457</td>\n",
       "      <td>14.879000</td>\n",
       "      <td>24.000000</td>\n",
       "      <td>14.000000</td>\n",
       "      <td>14.000000</td>\n",
       "      <td>98.000000</td>\n",
       "      <td>20.000000</td>\n",
       "      <td>1.000000</td>\n",
       "      <td>14000.000000</td>\n",
       "      <td>1.000000</td>\n",
       "      <td>170.457647</td>\n",
       "      <td>1.000000</td>\n",
       "      <td>1.000000</td>\n",
       "      <td>1.000000</td>\n",
       "      <td>1294.000000</td>\n",
       "    </tr>\n",
       "  </tbody>\n",
       "</table>\n",
       "</div>"
      ],
      "text/plain": [
       "                age      dist_cap      dist_sec         fam_n           grc  \\\n",
       "count  77250.000000  77250.000000  77250.000000  77250.000000  70701.000000   \n",
       "mean      11.366460    147.674452      2.418910      7.215715      3.963537   \n",
       "std        3.167744     76.063134      2.234109      2.352900      2.499063   \n",
       "min        6.000000      9.465392      0.000000      1.000000      0.000000   \n",
       "25%        9.000000     92.327050      0.574000      6.000000      2.000000   \n",
       "50%       11.000000    132.001494      2.279000      7.000000      4.000000   \n",
       "75%       14.000000    184.445225      3.582000      9.000000      6.000000   \n",
       "max       17.000000    359.774457     14.879000     24.000000     14.000000   \n",
       "\n",
       "              grc97        hohage        hohedu        hohsex        hohwag  \\\n",
       "count  77250.000000  77240.000000  77250.000000  77230.000000  77250.000000   \n",
       "mean       3.705372     44.436717      2.768104      0.925185    586.985312   \n",
       "std        2.572387     11.620372      2.656106      0.263095    788.133664   \n",
       "min        0.000000     15.000000      0.000000      0.000000      0.000000   \n",
       "25%        1.000000     36.000000      0.000000      1.000000    120.000000   \n",
       "50%        4.000000     43.000000      2.000000      1.000000    500.000000   \n",
       "75%        6.000000     51.000000      4.000000      1.000000    750.000000   \n",
       "max       14.000000     98.000000     20.000000      1.000000  14000.000000   \n",
       "\n",
       "              indig      min_dist            sc          sc97           sex  \\\n",
       "count  76950.000000  77250.000000  68797.000000  73378.000000  77226.000000   \n",
       "mean       0.298324    103.447520      0.819818      0.813922      0.512211   \n",
       "std        0.457525     42.089441      0.384342      0.389172      0.499854   \n",
       "min        0.000000      9.465392      0.000000      0.000000      0.000000   \n",
       "25%        0.000000     70.518238      1.000000      1.000000      0.000000   \n",
       "50%        0.000000    111.228612      1.000000      1.000000      1.000000   \n",
       "75%        1.000000    138.446009      1.000000      1.000000      1.000000   \n",
       "max        1.000000    170.457647      1.000000      1.000000      1.000000   \n",
       "\n",
       "       welfare_index  \n",
       "count   77040.000000  \n",
       "mean      690.346564  \n",
       "std       139.491130  \n",
       "min       180.000000  \n",
       "25%       597.000000  \n",
       "50%       685.000000  \n",
       "75%       770.000000  \n",
       "max      1294.000000  "
      ]
     },
     "execution_count": 5,
     "metadata": {},
     "output_type": "execute_result"
    }
   ],
   "source": [
    "x = progresa_data.columns - ['year', 'folnum', 'village']\n",
    "d= progresa_data[x].describe()\n",
    "d"
   ]
  },
  {
   "cell_type": "markdown",
   "metadata": {
    "ein.tags": [
     "worksheet-0"
    ],
    "slideshow": {
     "slide_type": "-"
    }
   },
   "source": [
    "### 1.2 Differences at baseline?\n",
    "\n",
    "Are the baseline (1997) demographic characteristics **for the poor**  different in treatment and control villages? Hint: Use a T-Test to determine whether there is a statistically significant difference in the average values of each of the variables in the dataset. Focus only on the data from 1997 for individuals who are poor (i.e., poor=='pobre').\n",
    "\n",
    "Present your results in a single table with the following columns and 14 (or so) rows:\n",
    "\n",
    "| Variable name | Average value (Treatment villages) | Average value (Control villages) | Difference (Treat - Control) | p-value |\n",
    "|------|------|------|------|------|\n",
    "|Male  |?     |?     |?     |?     |\n"
   ]
  },
  {
   "cell_type": "code",
   "execution_count": 38,
   "metadata": {
    "collapsed": false
   },
   "outputs": [],
   "source": [
    "import scipy as sc\n",
    "?sc.stats.ttest_ind()"
   ]
  },
  {
   "cell_type": "code",
   "execution_count": 6,
   "metadata": {
    "collapsed": false
   },
   "outputs": [],
   "source": [
    "prog = progresa_data[progresa_data['year'] == 97]\n",
    "s = prog[x]\n",
    "s = s[s['poor'] == 'pobre']\n",
    "control = s[s['progresa'] != 'basal']\n",
    "treatment = s[s['progresa'] == 'basal']\n",
    "d_control = control.describe()\n",
    "d_treatment = treatment.describe()\n",
    "avg_control = d_control[d_control.index == 'mean'].T\n",
    "avg_control = avg_control.rename(columns = {'mean': 'Average value (Control villages)'})\n",
    "avg_treatment = d_treatment[d_treatment.index == 'mean'].T\n",
    "avg_treatment= avg_treatment.rename(columns = {'mean': 'Average value (Treatment villages)'})\n",
    "test = pd.concat([avg_control,avg_treatment], axis = 1)"
   ]
  },
  {
   "cell_type": "code",
   "execution_count": 52,
   "metadata": {
    "collapsed": false
   },
   "outputs": [
    {
     "name": "stdout",
     "output_type": "stream",
     "text": [
      "count    12474.000000\n",
      "mean        10.742023\n",
      "std          3.099099\n",
      "min          6.000000\n",
      "25%          8.000000\n",
      "50%         11.000000\n",
      "75%         13.000000\n",
      "max         16.000000\n",
      "Name: age, dtype: float64\n",
      "count    20222.000000\n",
      "mean        10.716991\n",
      "std          3.104970\n",
      "min          6.000000\n",
      "25%          8.000000\n",
      "50%         11.000000\n",
      "75%         13.000000\n",
      "max         16.000000\n",
      "Name: age, dtype: float64\n"
     ]
    }
   ],
   "source": [
    "age_control = control['age']\n",
    "age_treatment = treatment['age']\n",
    "\n",
    "print age_control.describe()\n",
    "print age_treatment.describe()"
   ]
  },
  {
   "cell_type": "code",
   "execution_count": 9,
   "metadata": {
    "autoscroll": "json-false",
    "collapsed": false,
    "ein.tags": [
     "worksheet-0"
    ],
    "slideshow": {
     "slide_type": "-"
    }
   },
   "outputs": [],
   "source": [
    "test['Difference(Treatment-Control)'], test['p-value'] = sc.stats.ttest_ind(test['Average value (Treatment villages)'], test['Average value (Control villages)'])"
   ]
  },
  {
   "cell_type": "code",
   "execution_count": 10,
   "metadata": {
    "collapsed": false
   },
   "outputs": [
    {
     "data": {
      "text/html": [
       "<div>\n",
       "<table border=\"1\" class=\"dataframe\">\n",
       "  <thead>\n",
       "    <tr style=\"text-align: right;\">\n",
       "      <th></th>\n",
       "      <th>Average value (Control villages)</th>\n",
       "      <th>Average value (Treatment villages)</th>\n",
       "      <th>Difference(Treatment-Control)</th>\n",
       "      <th>p-value</th>\n",
       "    </tr>\n",
       "  </thead>\n",
       "  <tbody>\n",
       "    <tr>\n",
       "      <th>age</th>\n",
       "      <td>10.742023</td>\n",
       "      <td>10.716991</td>\n",
       "      <td>-0.028151</td>\n",
       "      <td>0.977728</td>\n",
       "    </tr>\n",
       "    <tr>\n",
       "      <th>dist_cap</th>\n",
       "      <td>153.769730</td>\n",
       "      <td>150.829074</td>\n",
       "      <td>-0.028151</td>\n",
       "      <td>0.977728</td>\n",
       "    </tr>\n",
       "    <tr>\n",
       "      <th>dist_sec</th>\n",
       "      <td>2.507662</td>\n",
       "      <td>2.453122</td>\n",
       "      <td>-0.028151</td>\n",
       "      <td>0.977728</td>\n",
       "    </tr>\n",
       "    <tr>\n",
       "      <th>fam_n</th>\n",
       "      <td>7.302469</td>\n",
       "      <td>7.281327</td>\n",
       "      <td>-0.028151</td>\n",
       "      <td>0.977728</td>\n",
       "    </tr>\n",
       "    <tr>\n",
       "      <th>grc</th>\n",
       "      <td>3.543050</td>\n",
       "      <td>3.531599</td>\n",
       "      <td>-0.028151</td>\n",
       "      <td>0.977728</td>\n",
       "    </tr>\n",
       "    <tr>\n",
       "      <th>grc97</th>\n",
       "      <td>3.543050</td>\n",
       "      <td>3.531599</td>\n",
       "      <td>-0.028151</td>\n",
       "      <td>0.977728</td>\n",
       "    </tr>\n",
       "    <tr>\n",
       "      <th>hohage</th>\n",
       "      <td>44.276918</td>\n",
       "      <td>43.648828</td>\n",
       "      <td>-0.028151</td>\n",
       "      <td>0.977728</td>\n",
       "    </tr>\n",
       "    <tr>\n",
       "      <th>hohedu</th>\n",
       "      <td>2.590348</td>\n",
       "      <td>2.663139</td>\n",
       "      <td>-0.028151</td>\n",
       "      <td>0.977728</td>\n",
       "    </tr>\n",
       "    <tr>\n",
       "      <th>hohsex</th>\n",
       "      <td>0.922947</td>\n",
       "      <td>0.924656</td>\n",
       "      <td>-0.028151</td>\n",
       "      <td>0.977728</td>\n",
       "    </tr>\n",
       "    <tr>\n",
       "      <th>hohwag</th>\n",
       "      <td>573.163558</td>\n",
       "      <td>544.339544</td>\n",
       "      <td>-0.028151</td>\n",
       "      <td>0.977728</td>\n",
       "    </tr>\n",
       "    <tr>\n",
       "      <th>indig</th>\n",
       "      <td>0.332207</td>\n",
       "      <td>0.325986</td>\n",
       "      <td>-0.028151</td>\n",
       "      <td>0.977728</td>\n",
       "    </tr>\n",
       "    <tr>\n",
       "      <th>min_dist</th>\n",
       "      <td>103.237854</td>\n",
       "      <td>107.152915</td>\n",
       "      <td>-0.028151</td>\n",
       "      <td>0.977728</td>\n",
       "    </tr>\n",
       "    <tr>\n",
       "      <th>sc</th>\n",
       "      <td>0.815186</td>\n",
       "      <td>0.822697</td>\n",
       "      <td>-0.028151</td>\n",
       "      <td>0.977728</td>\n",
       "    </tr>\n",
       "    <tr>\n",
       "      <th>sc97</th>\n",
       "      <td>0.815186</td>\n",
       "      <td>0.822697</td>\n",
       "      <td>-0.028151</td>\n",
       "      <td>0.977728</td>\n",
       "    </tr>\n",
       "    <tr>\n",
       "      <th>sex</th>\n",
       "      <td>0.505052</td>\n",
       "      <td>0.519317</td>\n",
       "      <td>-0.028151</td>\n",
       "      <td>0.977728</td>\n",
       "    </tr>\n",
       "    <tr>\n",
       "      <th>welfare_index</th>\n",
       "      <td>659.579100</td>\n",
       "      <td>655.428377</td>\n",
       "      <td>-0.028151</td>\n",
       "      <td>0.977728</td>\n",
       "    </tr>\n",
       "  </tbody>\n",
       "</table>\n",
       "</div>"
      ],
      "text/plain": [
       "               Average value (Control villages)  \\\n",
       "age                                   10.742023   \n",
       "dist_cap                             153.769730   \n",
       "dist_sec                               2.507662   \n",
       "fam_n                                  7.302469   \n",
       "grc                                    3.543050   \n",
       "grc97                                  3.543050   \n",
       "hohage                                44.276918   \n",
       "hohedu                                 2.590348   \n",
       "hohsex                                 0.922947   \n",
       "hohwag                               573.163558   \n",
       "indig                                  0.332207   \n",
       "min_dist                             103.237854   \n",
       "sc                                     0.815186   \n",
       "sc97                                   0.815186   \n",
       "sex                                    0.505052   \n",
       "welfare_index                        659.579100   \n",
       "\n",
       "               Average value (Treatment villages)  \\\n",
       "age                                     10.716991   \n",
       "dist_cap                               150.829074   \n",
       "dist_sec                                 2.453122   \n",
       "fam_n                                    7.281327   \n",
       "grc                                      3.531599   \n",
       "grc97                                    3.531599   \n",
       "hohage                                  43.648828   \n",
       "hohedu                                   2.663139   \n",
       "hohsex                                   0.924656   \n",
       "hohwag                                 544.339544   \n",
       "indig                                    0.325986   \n",
       "min_dist                               107.152915   \n",
       "sc                                       0.822697   \n",
       "sc97                                     0.822697   \n",
       "sex                                      0.519317   \n",
       "welfare_index                          655.428377   \n",
       "\n",
       "               Difference(Treatment-Control)   p-value  \n",
       "age                                -0.028151  0.977728  \n",
       "dist_cap                           -0.028151  0.977728  \n",
       "dist_sec                           -0.028151  0.977728  \n",
       "fam_n                              -0.028151  0.977728  \n",
       "grc                                -0.028151  0.977728  \n",
       "grc97                              -0.028151  0.977728  \n",
       "hohage                             -0.028151  0.977728  \n",
       "hohedu                             -0.028151  0.977728  \n",
       "hohsex                             -0.028151  0.977728  \n",
       "hohwag                             -0.028151  0.977728  \n",
       "indig                              -0.028151  0.977728  \n",
       "min_dist                           -0.028151  0.977728  \n",
       "sc                                 -0.028151  0.977728  \n",
       "sc97                               -0.028151  0.977728  \n",
       "sex                                -0.028151  0.977728  \n",
       "welfare_index                      -0.028151  0.977728  "
      ]
     },
     "execution_count": 10,
     "metadata": {},
     "output_type": "execute_result"
    }
   ],
   "source": [
    "test"
   ]
  },
  {
   "cell_type": "markdown",
   "metadata": {
    "ein.tags": [
     "worksheet-0"
    ],
    "slideshow": {
     "slide_type": "-"
    }
   },
   "source": [
    "### 1.3 Interpretation\n",
    "\n",
    "* A: Are there statistically significant differences between treatment and control villages as baseline? \n",
    "* B: Why does it matter if there are differences at baseline?\n",
    "* C: What does this imply about how to measure the impact of the treatment?"
   ]
  },
  {
   "cell_type": "code",
   "execution_count": null,
   "metadata": {
    "autoscroll": "json-false",
    "collapsed": false,
    "ein.tags": [
     "worksheet-0"
    ],
    "slideshow": {
     "slide_type": "-"
    }
   },
   "outputs": [],
   "source": []
  },
  {
   "cell_type": "markdown",
   "metadata": {
    "ein.tags": [
     "worksheet-0"
    ],
    "slideshow": {
     "slide_type": "-"
    }
   },
   "source": [
    "### 1.4 Graphical exploration, part 1\n",
    "\n",
    "For each level of household head education, compute the average enrollment rate in 1997. Create a scatterplot that shows this relationship. What do you notice?"
   ]
  },
  {
   "cell_type": "code",
   "execution_count": 23,
   "metadata": {
    "autoscroll": "json-false",
    "collapsed": false,
    "ein.tags": [
     "worksheet-0"
    ],
    "slideshow": {
     "slide_type": "-"
    }
   },
   "outputs": [
    {
     "name": "stdout",
     "output_type": "stream",
     "text": [
      "hohedu\n",
      "0    0.776137\n",
      "1    0.768537\n",
      "2    0.794552\n",
      "3    0.802956\n",
      "4    0.842951\n",
      "Name: sc, dtype: float64\n",
      "              sc\n",
      "hohedu          \n",
      "0       0.776137\n",
      "1       0.768537\n",
      "2       0.794552\n",
      "3       0.802956\n",
      "4       0.842951\n",
      "5       0.849835\n",
      "6       0.878469\n",
      "7       0.889535\n",
      "8       0.900000\n",
      "9       0.925023\n",
      "10      0.865385\n",
      "11      0.974359\n",
      "12      0.982955\n",
      "13      0.959459\n",
      "14      0.880952\n",
      "15      0.900000\n",
      "16      0.941176\n",
      "17      0.933333\n",
      "18      1.000000\n",
      "20      0.500000\n"
     ]
    },
    {
     "data": {
      "text/plain": [
       "([<matplotlib.axis.XTick at 0x1148478d0>,\n",
       "  <matplotlib.axis.XTick at 0x114855190>,\n",
       "  <matplotlib.axis.XTick at 0x11a8755d0>,\n",
       "  <matplotlib.axis.XTick at 0x11a875c10>,\n",
       "  <matplotlib.axis.XTick at 0x11a881310>,\n",
       "  <matplotlib.axis.XTick at 0x11a881a90>,\n",
       "  <matplotlib.axis.XTick at 0x11a88a250>,\n",
       "  <matplotlib.axis.XTick at 0x11a792a50>,\n",
       "  <matplotlib.axis.XTick at 0x11a8fdd50>,\n",
       "  <matplotlib.axis.XTick at 0x11a9032d0>,\n",
       "  <matplotlib.axis.XTick at 0x11a903a50>,\n",
       "  <matplotlib.axis.XTick at 0x11a90d210>,\n",
       "  <matplotlib.axis.XTick at 0x11a8f5990>,\n",
       "  <matplotlib.axis.XTick at 0x11a90d7d0>,\n",
       "  <matplotlib.axis.XTick at 0x11a90df50>,\n",
       "  <matplotlib.axis.XTick at 0x11a916710>,\n",
       "  <matplotlib.axis.XTick at 0x11a916e90>,\n",
       "  <matplotlib.axis.XTick at 0x11a91f650>,\n",
       "  <matplotlib.axis.XTick at 0x11a91fdd0>,\n",
       "  <matplotlib.axis.XTick at 0x11a928590>],\n",
       " <a list of 20 Text xticklabel objects>)"
      ]
     },
     "execution_count": 23,
     "metadata": {},
     "output_type": "execute_result"
    },
    {
     "data": {
      "image/png": "[encoded data removed]",
      "text/plain": [
       "<matplotlib.figure.Figure at 0x11a74ad50>"
      ]
     },
     "metadata": {},
     "output_type": "display_data"
    }
   ],
   "source": [
    "scatter = prog.pivot_table(values='sc', index = 'hohedu')\n",
    "print scatter.head()\n",
    "sframe = pd.DataFrame(scatter)\n",
    "print sframe\n",
    "sframe.reset_index().plot(kind = 'scatter', x = 'hohedu', y = 'sc')\n",
    "plt.xticks(sframe.index)"
   ]
  },
  {
   "cell_type": "markdown",
   "metadata": {
    "ein.tags": [
     "worksheet-0"
    ],
    "slideshow": {
     "slide_type": "-"
    }
   },
   "source": [
    "### 1.5 Graphical exploration, part 2\n",
    "\n",
    "Create a histogram of village enrollment rates **among poor households in treated villages**, before and after treatment. Specifically, for each village, calculate the average rate of enrollment of poor households in treated villages in 1997, then compute the average rate of enrollment of poor households in treated villages in 1998. Create two separate histograms showing the distribution of these average enrollments rates, one histogram for 1997 and one histogram for 1998. On each histogram, draw a vertical line that intersects the x-axis at the average value (across all households).\n",
    "* Does there appear to be a difference? Is this difference statistically significant?\n",
    "* Which D estimator in Schultz (2004) does this approach correspond to?"
   ]
  },
  {
   "cell_type": "code",
   "execution_count": 24,
   "metadata": {
    "autoscroll": "json-false",
    "collapsed": false,
    "ein.tags": [
     "worksheet-0"
    ],
    "slideshow": {
     "slide_type": "-"
    }
   },
   "outputs": [
    {
     "data": {
      "image/png": "[encoded data removed]",
      "text/plain": [
       "<matplotlib.figure.Figure at 0x11a94ed10>"
      ]
     },
     "metadata": {},
     "output_type": "display_data"
    }
   ],
   "source": [
    "v1 = prog[(prog['poor'] == 'pobre')&(prog['progresa'] == 'basal')]\n",
    "v2 = progresa_data[(progresa_data['poor'] == 'pobre')&(progresa_data['progresa']=='basal')&(progresa_data['year']==98)]\n",
    "all_avg_v1 = v1['sc'].mean()\n",
    "all_avg_v2 = v2['sc'].mean()\n",
    "groupby_v1 = v1.pivot_table(values='sc', index='village')\n",
    "groupby_v2 = v2.pivot_table(values='sc', index='village')\n",
    "fig, ax = plt.subplots(1,1)\n",
    "fig.set_figheight(6)\n",
    "fig.set_figwidth(10)\n",
    "g1 = groupby_v1.plot(ax = ax, kind='hist', title = 'Enrollment rate in poor treated villages(1997)', alpha=0.4)\n",
    "g1.axvline(x = all_avg_v1, linewidth = 2, color ='r', linestyle='--')\n",
    "g1.axvline(x = all_avg_v2, linewidth = 2, color ='b', linestyle='--')\n",
    "g2 = groupby_v2.plot(ax= ax, kind='hist', title = 'Enrollment rate in poor treated villages(1998)', alpha=0.3, color='g')"
   ]
  },
  {
   "cell_type": "code",
   "execution_count": null,
   "metadata": {
    "collapsed": false
   },
   "outputs": [],
   "source": []
  },
  {
   "cell_type": "markdown",
   "metadata": {
    "ein.tags": [
     "worksheet-0"
    ],
    "slideshow": {
     "slide_type": "-"
    }
   },
   "source": [
    "## Part 2: Measuring Impact\n",
    "\n",
    "### 2.1 Simple differences: T-test\n",
    "\n",
    "Start out by estimating the impact of Progresa using \"simple differences.\" Restricting yourself to data from 1998 (after treatment).\n",
    "* calculate the average enrollment rate among **poor** households in the Treatment villages and the average enrollment rate among **poor** households in the control villages.\n",
    "* Which difference estimator in Schultz (2004) does this approach correspond to?\n",
    "* Use a t-test to determine if this difference is statistically significant. What do you conclude?"
   ]
  },
  {
   "cell_type": "code",
   "execution_count": 37,
   "metadata": {
    "collapsed": false
   },
   "outputs": [
    {
     "data": {
      "text/plain": [
       "count    70701.000000\n",
       "mean         3.963537\n",
       "std          2.499063\n",
       "min          0.000000\n",
       "25%          2.000000\n",
       "50%          4.000000\n",
       "75%          6.000000\n",
       "max         14.000000\n",
       "Name: grc, dtype: float64"
      ]
     },
     "execution_count": 37,
     "metadata": {},
     "output_type": "execute_result"
    }
   ],
   "source": [
    "progresa_data['grc'].describe()"
   ]
  },
  {
   "cell_type": "code",
   "execution_count": 33,
   "metadata": {
    "autoscroll": "json-false",
    "collapsed": false,
    "ein.tags": [
     "worksheet-0"
    ],
    "slideshow": {
     "slide_type": "-"
    }
   },
   "outputs": [
    {
     "name": "stdout",
     "output_type": "stream",
     "text": [
      "grc\n",
      "0.0     0.962175\n",
      "1.0     0.966213\n",
      "2.0     0.948382\n",
      "3.0     0.935633\n",
      "4.0     0.933205\n",
      "5.0     0.915711\n",
      "6.0     0.517558\n",
      "7.0     0.930435\n",
      "8.0     0.926708\n",
      "9.0     0.428571\n",
      "10.0    0.900000\n",
      "11.0    1.000000\n",
      "Name: sc, dtype: float64\n",
      "grc\n",
      "0.0     0.979452\n",
      "1.0     0.951220\n",
      "2.0     0.933723\n",
      "3.0     0.904000\n",
      "4.0     0.894695\n",
      "5.0     0.896471\n",
      "6.0     0.413921\n",
      "7.0     0.927140\n",
      "8.0     0.938272\n",
      "9.0     0.375303\n",
      "10.0    0.846154\n",
      "11.0    1.000000\n",
      "Name: sc, dtype: float64\n"
     ]
    }
   ],
   "source": [
    "after_treatment_data = progresa_data[progresa_data['year'] == 98]\n",
    "\n",
    "filter_treatment = after_treatment_data[(after_treatment_data['poor'] == 'pobre') & \n",
    "                                     (after_treatment_data['progresa'] == 'basal')]\n",
    "filter_control = after_treatment_data[(after_treatment_data['poor'] == 'pobre') & \n",
    "                                     (after_treatment_data['progresa'] != 'basal')]\n",
    "filter_treatment_er = filter_treatment.pivot_table(values = 'sc', index = 'grc', aggfunc='mean')\n",
    "filter_control_er = filter_control.pivot_table(values = 'sc', index = 'grc', aggfunc='mean')\n",
    "print filter_treatment_er\n",
    "print filter_control_er"
   ]
  },
  {
   "cell_type": "code",
   "execution_count": 35,
   "metadata": {
    "collapsed": false
   },
   "outputs": [
    {
     "name": "stdout",
     "output_type": "stream",
     "text": [
      "0.312514540193 0.75759252147\n"
     ]
    }
   ],
   "source": [
    "d, p = sc.stats.ttest_ind(filter_treatment_er, filter_control_er)\n",
    "print d, p"
   ]
  },
  {
   "cell_type": "markdown",
   "metadata": {
    "ein.tags": [
     "worksheet-0"
    ],
    "slideshow": {
     "slide_type": "-"
    }
   },
   "source": [
    "### 2.2 Simple differences: Regression\n",
    "\n",
    "Estimate the effects of Progresa on enrollment using a regression model, by regressing the 1998 enrollment rates **of the poor** on treatment assignment. Discuss the following:\n",
    "\n",
    "* Based on this model, how much did Progresa increase the likelihood of a child enrolling?\n",
    "* How does your regression estimate compare to your t-test estimate from part 2.1?\n",
    "* Based on this regression model, can we reject the null hypothesis that the treatment effects are zero? \n",
    "* What is the counterfactual assumption underlying this regression?"
   ]
  },
  {
   "cell_type": "code",
   "execution_count": 0,
   "metadata": {
    "autoscroll": "json-false",
    "collapsed": false,
    "ein.tags": [
     "worksheet-0"
    ],
    "slideshow": {
     "slide_type": "-"
    }
   },
   "outputs": [],
   "source": []
  },
  {
   "cell_type": "markdown",
   "metadata": {
    "ein.tags": [
     "worksheet-0"
    ],
    "slideshow": {
     "slide_type": "-"
    }
   },
   "source": [
    "### 2.3 Multiple Regression\n",
    "\n",
    "Re-run the above regression estimated but this time include a set of control variables. Include, for instance, age, distance to a secondary school, gender, education of household head, indigenous, etc.\n",
    "\n",
    "* How do the controls affect the point estimate of treatment effect?\n",
    "* How do the controls affect the standard error on the treatment effect? \n",
    "* How do you interpret the differences (or similarities) between your estimates of 2.2 and 2.3?"
   ]
  },
  {
   "cell_type": "code",
   "execution_count": 0,
   "metadata": {
    "autoscroll": "json-false",
    "collapsed": false,
    "ein.tags": [
     "worksheet-0"
    ],
    "slideshow": {
     "slide_type": "-"
    }
   },
   "outputs": [],
   "source": []
  },
  {
   "cell_type": "markdown",
   "metadata": {
    "ein.tags": [
     "worksheet-0"
    ],
    "slideshow": {
     "slide_type": "-"
    }
   },
   "source": [
    "### 2.4 Difference-in-Difference, version 1 (tabular)\n",
    "\n",
    "Thus far, we have computed the effects of Progresa by estimating the difference in 1998 enrollment rates across villages. An alternative approach would be to compute the treatment effect using a difference-in-differences framework.\n",
    "\n",
    "Begin by estimating the average treatment effects of the program for poor households using data from 1997 and 1998. Specifically, calculate the difference (between 1997 and 1998) in enrollment rates among poor households in treated villages; then compute the difference (between 1997 and 1998) in enrollment rates among poor households in treated villages. The difference between these two differences is your estimate.\n",
    "\n",
    "* What is your estimate of the impact, and how does it compare to your earlier (simple difference) results?\n",
    "* What is the counterfactual assumption underlying this estimate? \n"
   ]
  },
  {
   "cell_type": "code",
   "execution_count": 0,
   "metadata": {
    "autoscroll": "json-false",
    "collapsed": false,
    "ein.tags": [
     "worksheet-0"
    ],
    "slideshow": {
     "slide_type": "-"
    }
   },
   "outputs": [],
   "source": []
  },
  {
   "cell_type": "markdown",
   "metadata": {
    "ein.tags": [
     "worksheet-0"
    ],
    "slideshow": {
     "slide_type": "-"
    }
   },
   "source": [
    "### 2.5 Difference-in-Difference, version 1 (regression)\n",
    "\n",
    "Now use a regression specification to estimate the average treatment effect of the program (on the poor) in a difference-in-differences framework. Include at least 5 control variables.\n",
    "\n",
    "* What is your estimate of the impact of Progresa? Be very specific in interpreting your coefficients and standard errors, and make sure to specify exactly what units you are measuring and estimating.\n",
    "* How do these estimates of the treatment effect compare to the estimates based on the simple difference?\n",
    "* How do these estimates compare to the difference-in-difference estimates from 2.4 above? What accounts for these differences?\n",
    "* What is the counterfactual assumption underlying this regression? "
   ]
  },
  {
   "cell_type": "code",
   "execution_count": 0,
   "metadata": {
    "autoscroll": "json-false",
    "collapsed": false,
    "ein.tags": [
     "worksheet-0"
    ],
    "slideshow": {
     "slide_type": "-"
    }
   },
   "outputs": [],
   "source": []
  },
  {
   "cell_type": "markdown",
   "metadata": {
    "ein.tags": [
     "worksheet-0"
    ],
    "slideshow": {
     "slide_type": "-"
    }
   },
   "source": [
    "### 2.6 Difference-in-Difference, version 2\n",
    "\n",
    "In the previous problem, you estimated a difference-in-differences model that compared changes in enrollment rates over time across treatment and control villages. An alternative approach would be to compare enrollment rates in 1998 between poor and non-poor across treatment and control villages. \n",
    "\n",
    "* How would we estimate this version of the treatment effects in a regression model? \n",
    "* What is the counterfactual assumption underlying this regression?\n",
    "* How do these treatment effects compare to the estimates above?\n",
    "* Discuss some possible explanations for differences or similarities "
   ]
  },
  {
   "cell_type": "code",
   "execution_count": 0,
   "metadata": {
    "autoscroll": "json-false",
    "collapsed": false,
    "ein.tags": [
     "worksheet-0"
    ],
    "slideshow": {
     "slide_type": "-"
    }
   },
   "outputs": [],
   "source": []
  },
  {
   "cell_type": "markdown",
   "metadata": {
    "ein.tags": [
     "worksheet-0"
    ],
    "slideshow": {
     "slide_type": "-"
    }
   },
   "source": [
    "### 2.7 Spillover effects (extra credit)\n",
    "\n",
    "Thus far, we have focused on the impact of PROGRESA on poor households. Repeat your analysis in 2.5, using a double-difference regression to estimate the impact of PROGRESA on non-poor households. In other words, compare the difference in enrollments between 1997 and 1998 for non-poor households in treatment villages with the difference in enrollments between 1997 and 1998 for non-poor households in control villages.\n",
    "\n",
    "* A: Describe one or two reasons why PROGRESA might have impacted non-poor households.\n",
    "* B: Do you observe any impacts of PROGRESA on the non-poor?\n",
    "* C: What is the identifying assumption that you are using to estimate the impact of PROGRESA on non-poor households."
   ]
  },
  {
   "cell_type": "code",
   "execution_count": 0,
   "metadata": {
    "autoscroll": "json-false",
    "collapsed": false,
    "ein.tags": [
     "worksheet-0"
    ],
    "slideshow": {
     "slide_type": "-"
    }
   },
   "outputs": [],
   "source": []
  },
  {
   "cell_type": "markdown",
   "metadata": {
    "ein.tags": [
     "worksheet-0"
    ],
    "slideshow": {
     "slide_type": "-"
    }
   },
   "source": [
    "### 2.8 Summary\n",
    "\n",
    "Based on all the analysis you have undertaken to date, do you thik that Progresa had a causal impact on the enrollment rates of poor households in Mexico?"
   ]
  },
  {
   "cell_type": "code",
   "execution_count": 0,
   "metadata": {
    "autoscroll": "json-false",
    "collapsed": false,
    "ein.tags": [
     "worksheet-0"
    ],
    "slideshow": {
     "slide_type": "-"
    }
   },
   "outputs": [],
   "source": []
  }
 ],
 "metadata": {
  "kernelspec": {
   "display_name": "Python 2",
   "language": "python",
   "name": "python2"
  },
  "language_info": {
   "codemirror_mode": {
    "name": "ipython",
    "version": 2
   },
   "file_extension": ".py",
   "mimetype": "text/x-python",
   "name": "python",
   "nbconvert_exporter": "python",
   "pygments_lexer": "ipython2",
   "version": "2.7.11"
  },
  "name": "ps2.ipynb"
 },
 "nbformat": 4,
 "nbformat_minor": 2
}
