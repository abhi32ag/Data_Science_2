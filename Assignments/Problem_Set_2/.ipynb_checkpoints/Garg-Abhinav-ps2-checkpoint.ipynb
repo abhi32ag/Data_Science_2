{
 "cells": [
  {
   "cell_type": "markdown",
   "metadata": {
    "ein.tags": [
     "worksheet-0"
    ],
    "slideshow": {
     "slide_type": "-"
    }
   },
   "source": [
    "# Problem Set 2, due April 27th at 3:30 pm\n",
    "\n",
    "**Please Note:** This assignment will likely take you a _long_ time, especially if you are new to Python. Start early!"
   ]
  },
  {
   "cell_type": "markdown",
   "metadata": {
    "ein.tags": [
     "worksheet-0"
    ],
    "slideshow": {
     "slide_type": "-"
    }
   },
   "source": [
    "## Introduction to the assignment\n",
    "\n",
    "For this assignment, you will be using data from the [Progresa program](http://en.wikipedia.org/wiki/Oportunidades), a government social assistance program in Mexico. This program, as well as the details of its impact, are described in the paper \"[School subsidies for the poor: evaluating the Mexican Progresa poverty program](http://www.sciencedirect.com/science/article/pii/S0304387803001858)\", by Paul Shultz (available on Canvas). Please familiarize yourself with the PROGRESA program before beginning this problem set, so you have a rough sense of where the data come from and how they were generated. If you just proceed into the problem set without understanding Progresa or the data, it will be very difficult!\n",
    "\n",
    "The goal of this problem set is to implement some of the basic econometric techniques that you are learning in class to measure the impact of Progresa on secondary school enrollment rates. The timeline of the program was:\n",
    "\n",
    " * Baseline survey conducted in 1997\n",
    " * Intervention begins in 1998, \"Wave 1\" of data collected in 1998\n",
    " * \"Wave 2 of data\" collected in 1999\n",
    " * Evaluation ends in 2000, at which point the control villages were treated. \n",
    " \n",
    "When you are ready, download the progresa_sample.csv data from Canvas. The data are actual data collected to evaluate the impact of the Progresa program.  In this file, each row corresponds to an observation taken for a given child for a given year. There are two years of data (1997 and 1998), and just under 40,000 children who are surveyed in each year. For each child-year observation, the following variables are collected:\n",
    "\n",
    "| Variable name | Description|\n",
    "|---------|---------|\n",
    "|year\t  |year in which data is collected\n",
    "|sex\t  |male = 1|\n",
    "|indig\t  |indigenous = 1|\n",
    "|dist_sec |nearest distance to a secondary school|\n",
    "|sc\t      |enrolled in school in year of survey|\n",
    "|grc      |grade enrolled|\n",
    "|fam_n    |family size|\n",
    "|min_dist |\tmin distance to an urban center|\n",
    "|dist_cap |\tmin distance to the capital|\n",
    "|poor     |\tpoor = 'pobre'|\n",
    "|progresa |treatment = 'basal'|\n",
    "|hohedu\t  |years of schooling of head of household|\n",
    "|hohwag\t  |monthly wages of head of household|\n",
    "|welfare_index|\twelfare index used to classify poor|\n",
    "|hohsex\t  |gender of head of household (male=1)|\n",
    "|hohage   |age of head of household|\n",
    "|age      |years old|\n",
    "|folnum\t  |individual id|\n",
    "|village  |\tvillage id|\n",
    "|sc97\t  |schooling in 1997|"
   ]
  },
  {
   "cell_type": "code",
   "execution_count": 1,
   "metadata": {
    "autoscroll": "json-false",
    "collapsed": false,
    "ein.tags": [
     "worksheet-0"
    ],
    "slideshow": {
     "slide_type": "-"
    }
   },
   "outputs": [
    {
     "name": "stdout",
     "output_type": "stream",
     "text": [
      "2.7.11 |Anaconda 4.0.0 (x86_64)| (default, Dec  6 2015, 18:57:58) \n",
      "[GCC 4.2.1 (Apple Inc. build 5577)]\n"
     ]
    }
   ],
   "source": [
    "import sys; print(sys.version)\n",
    "%matplotlib inline\n"
   ]
  },
  {
   "cell_type": "code",
   "execution_count": 2,
   "metadata": {
    "collapsed": true
   },
   "outputs": [],
   "source": [
    "import pandas as pd \n",
    "import numpy as np \n",
    "import seaborn as sns; sns.set()\n",
    "%matplotlib inline\n",
    "import matplotlib.pyplot as plt\n",
    "import sklearn "
   ]
  },
  {
   "cell_type": "code",
   "execution_count": 3,
   "metadata": {
    "collapsed": false
   },
   "outputs": [
    {
     "data": {
      "text/html": [
       "<div>\n",
       "<table border=\"1\" class=\"dataframe\">\n",
       "  <thead>\n",
       "    <tr style=\"text-align: right;\">\n",
       "      <th></th>\n",
       "      <th>year</th>\n",
       "      <th>sex</th>\n",
       "      <th>indig</th>\n",
       "      <th>dist_sec</th>\n",
       "      <th>sc</th>\n",
       "      <th>grc</th>\n",
       "      <th>fam_n</th>\n",
       "      <th>min_dist</th>\n",
       "      <th>dist_cap</th>\n",
       "      <th>poor</th>\n",
       "      <th>...</th>\n",
       "      <th>hohedu</th>\n",
       "      <th>hohwag</th>\n",
       "      <th>welfare_index</th>\n",
       "      <th>hohsex</th>\n",
       "      <th>hohage</th>\n",
       "      <th>age</th>\n",
       "      <th>village</th>\n",
       "      <th>folnum</th>\n",
       "      <th>grc97</th>\n",
       "      <th>sc97</th>\n",
       "    </tr>\n",
       "  </thead>\n",
       "  <tbody>\n",
       "    <tr>\n",
       "      <th>0</th>\n",
       "      <td>97</td>\n",
       "      <td>0.0</td>\n",
       "      <td>0.0</td>\n",
       "      <td>4.473</td>\n",
       "      <td>1.0</td>\n",
       "      <td>7.0</td>\n",
       "      <td>7</td>\n",
       "      <td>21.168384</td>\n",
       "      <td>21.168384</td>\n",
       "      <td>pobre</td>\n",
       "      <td>...</td>\n",
       "      <td>6</td>\n",
       "      <td>0.0</td>\n",
       "      <td>583.0</td>\n",
       "      <td>1.0</td>\n",
       "      <td>35.0</td>\n",
       "      <td>13</td>\n",
       "      <td>163</td>\n",
       "      <td>1</td>\n",
       "      <td>7</td>\n",
       "      <td>1.0</td>\n",
       "    </tr>\n",
       "    <tr>\n",
       "      <th>1</th>\n",
       "      <td>98</td>\n",
       "      <td>0.0</td>\n",
       "      <td>0.0</td>\n",
       "      <td>4.473</td>\n",
       "      <td>1.0</td>\n",
       "      <td>8.0</td>\n",
       "      <td>7</td>\n",
       "      <td>21.168384</td>\n",
       "      <td>21.168384</td>\n",
       "      <td>pobre</td>\n",
       "      <td>...</td>\n",
       "      <td>6</td>\n",
       "      <td>0.0</td>\n",
       "      <td>583.0</td>\n",
       "      <td>1.0</td>\n",
       "      <td>35.0</td>\n",
       "      <td>14</td>\n",
       "      <td>163</td>\n",
       "      <td>1</td>\n",
       "      <td>7</td>\n",
       "      <td>1.0</td>\n",
       "    </tr>\n",
       "    <tr>\n",
       "      <th>2</th>\n",
       "      <td>97</td>\n",
       "      <td>1.0</td>\n",
       "      <td>0.0</td>\n",
       "      <td>4.473</td>\n",
       "      <td>1.0</td>\n",
       "      <td>6.0</td>\n",
       "      <td>7</td>\n",
       "      <td>21.168384</td>\n",
       "      <td>21.168384</td>\n",
       "      <td>pobre</td>\n",
       "      <td>...</td>\n",
       "      <td>6</td>\n",
       "      <td>0.0</td>\n",
       "      <td>583.0</td>\n",
       "      <td>1.0</td>\n",
       "      <td>35.0</td>\n",
       "      <td>12</td>\n",
       "      <td>163</td>\n",
       "      <td>2</td>\n",
       "      <td>6</td>\n",
       "      <td>1.0</td>\n",
       "    </tr>\n",
       "    <tr>\n",
       "      <th>3</th>\n",
       "      <td>98</td>\n",
       "      <td>1.0</td>\n",
       "      <td>0.0</td>\n",
       "      <td>4.473</td>\n",
       "      <td>1.0</td>\n",
       "      <td>7.0</td>\n",
       "      <td>7</td>\n",
       "      <td>21.168384</td>\n",
       "      <td>21.168384</td>\n",
       "      <td>pobre</td>\n",
       "      <td>...</td>\n",
       "      <td>6</td>\n",
       "      <td>0.0</td>\n",
       "      <td>583.0</td>\n",
       "      <td>1.0</td>\n",
       "      <td>35.0</td>\n",
       "      <td>13</td>\n",
       "      <td>163</td>\n",
       "      <td>2</td>\n",
       "      <td>6</td>\n",
       "      <td>1.0</td>\n",
       "    </tr>\n",
       "    <tr>\n",
       "      <th>4</th>\n",
       "      <td>97</td>\n",
       "      <td>0.0</td>\n",
       "      <td>0.0</td>\n",
       "      <td>4.473</td>\n",
       "      <td>1.0</td>\n",
       "      <td>2.0</td>\n",
       "      <td>7</td>\n",
       "      <td>21.168384</td>\n",
       "      <td>21.168384</td>\n",
       "      <td>pobre</td>\n",
       "      <td>...</td>\n",
       "      <td>6</td>\n",
       "      <td>0.0</td>\n",
       "      <td>583.0</td>\n",
       "      <td>1.0</td>\n",
       "      <td>35.0</td>\n",
       "      <td>8</td>\n",
       "      <td>163</td>\n",
       "      <td>3</td>\n",
       "      <td>2</td>\n",
       "      <td>1.0</td>\n",
       "    </tr>\n",
       "  </tbody>\n",
       "</table>\n",
       "<p>5 rows × 21 columns</p>\n",
       "</div>"
      ],
      "text/plain": [
       "   year  sex  indig  dist_sec   sc  grc  fam_n   min_dist   dist_cap   poor  \\\n",
       "0    97  0.0    0.0     4.473  1.0  7.0      7  21.168384  21.168384  pobre   \n",
       "1    98  0.0    0.0     4.473  1.0  8.0      7  21.168384  21.168384  pobre   \n",
       "2    97  1.0    0.0     4.473  1.0  6.0      7  21.168384  21.168384  pobre   \n",
       "3    98  1.0    0.0     4.473  1.0  7.0      7  21.168384  21.168384  pobre   \n",
       "4    97  0.0    0.0     4.473  1.0  2.0      7  21.168384  21.168384  pobre   \n",
       "\n",
       "   ...  hohedu  hohwag  welfare_index  hohsex  hohage  age  village  folnum  \\\n",
       "0  ...       6     0.0          583.0     1.0    35.0   13      163       1   \n",
       "1  ...       6     0.0          583.0     1.0    35.0   14      163       1   \n",
       "2  ...       6     0.0          583.0     1.0    35.0   12      163       2   \n",
       "3  ...       6     0.0          583.0     1.0    35.0   13      163       2   \n",
       "4  ...       6     0.0          583.0     1.0    35.0    8      163       3   \n",
       "\n",
       "   grc97  sc97  \n",
       "0      7   1.0  \n",
       "1      7   1.0  \n",
       "2      6   1.0  \n",
       "3      6   1.0  \n",
       "4      2   1.0  \n",
       "\n",
       "[5 rows x 21 columns]"
      ]
     },
     "execution_count": 3,
     "metadata": {},
     "output_type": "execute_result"
    }
   ],
   "source": [
    "progresa_data = pd.read_csv('/Users/abhi/Documents/UW/Courses/Spring_Quarter_17/INFX-574/data/Problem_Set_2/progresa_sample.csv')\n",
    "progresa_data.head()"
   ]
  },
  {
   "cell_type": "markdown",
   "metadata": {
    "ein.tags": [
     "worksheet-0"
    ],
    "slideshow": {
     "slide_type": "-"
    }
   },
   "source": [
    "---\n",
    "##Part 1: Descriptive analysis\n",
    "\n",
    "### 1.1\tSummary Statistics\n",
    "\n",
    "a) Present number of missing observations for every single variable\n"
   ]
  },
  {
   "cell_type": "code",
   "execution_count": 4,
   "metadata": {
    "autoscroll": "json-false",
    "collapsed": false,
    "ein.tags": [
     "worksheet-0"
    ],
    "slideshow": {
     "slide_type": "-"
    }
   },
   "outputs": [
    {
     "data": {
      "text/plain": [
       "year                0\n",
       "sex                24\n",
       "indig             300\n",
       "dist_sec            0\n",
       "sc               8453\n",
       "grc              6549\n",
       "fam_n               0\n",
       "min_dist            0\n",
       "dist_cap            0\n",
       "poor                0\n",
       "progresa            0\n",
       "hohedu              0\n",
       "hohwag              0\n",
       "welfare_index     210\n",
       "hohsex             20\n",
       "hohage             10\n",
       "age                 0\n",
       "village             0\n",
       "folnum              0\n",
       "grc97               0\n",
       "sc97             3872\n",
       "dtype: int64"
      ]
     },
     "execution_count": 4,
     "metadata": {},
     "output_type": "execute_result"
    }
   ],
   "source": [
    "progresa_data.isnull().sum(axis = 0)"
   ]
  },
  {
   "cell_type": "raw",
   "metadata": {},
   "source": [
    "Here we find the missing values using the isnull function and sum across all the rows to obtain the number of missing values in each variable "
   ]
  },
  {
   "cell_type": "markdown",
   "metadata": {
    "ein.tags": [
     "worksheet-0"
    ],
    "slideshow": {
     "slide_type": "-"
    }
   },
   "source": [
    "b) Present summary statistics (mean and standard deviation) for all of the demographic variables in the dataset (i.e., everything except year, folnum, village). Present these in a single table alphabetized by variable name. Do NOT simply expect the grader to scroll through your output!"
   ]
  },
  {
   "cell_type": "code",
   "execution_count": 5,
   "metadata": {
    "autoscroll": "json-false",
    "collapsed": false,
    "ein.tags": [
     "worksheet-0"
    ],
    "slideshow": {
     "slide_type": "-"
    }
   },
   "outputs": [
    {
     "name": "stderr",
     "output_type": "stream",
     "text": [
      "/anaconda/envs/gl-env/lib/python2.7/site-packages/ipykernel/__main__.py:1: FutureWarning: using '-' to provide set differences with Indexes is deprecated, use .difference()\n",
      "  if __name__ == '__main__':\n"
     ]
    },
    {
     "data": {
      "text/html": [
       "<div>\n",
       "<table border=\"1\" class=\"dataframe\">\n",
       "  <thead>\n",
       "    <tr style=\"text-align: right;\">\n",
       "      <th></th>\n",
       "      <th>age</th>\n",
       "      <th>dist_cap</th>\n",
       "      <th>dist_sec</th>\n",
       "      <th>fam_n</th>\n",
       "      <th>grc</th>\n",
       "      <th>grc97</th>\n",
       "      <th>hohage</th>\n",
       "      <th>hohedu</th>\n",
       "      <th>hohsex</th>\n",
       "      <th>hohwag</th>\n",
       "      <th>indig</th>\n",
       "      <th>min_dist</th>\n",
       "      <th>sc</th>\n",
       "      <th>sc97</th>\n",
       "      <th>sex</th>\n",
       "      <th>welfare_index</th>\n",
       "    </tr>\n",
       "  </thead>\n",
       "  <tbody>\n",
       "    <tr>\n",
       "      <th>count</th>\n",
       "      <td>77250.000000</td>\n",
       "      <td>77250.000000</td>\n",
       "      <td>77250.000000</td>\n",
       "      <td>77250.000000</td>\n",
       "      <td>70701.000000</td>\n",
       "      <td>77250.000000</td>\n",
       "      <td>77240.000000</td>\n",
       "      <td>77250.000000</td>\n",
       "      <td>77230.000000</td>\n",
       "      <td>77250.000000</td>\n",
       "      <td>76950.000000</td>\n",
       "      <td>77250.000000</td>\n",
       "      <td>68797.000000</td>\n",
       "      <td>73378.000000</td>\n",
       "      <td>77226.000000</td>\n",
       "      <td>77040.000000</td>\n",
       "    </tr>\n",
       "    <tr>\n",
       "      <th>mean</th>\n",
       "      <td>11.366460</td>\n",
       "      <td>147.674452</td>\n",
       "      <td>2.418910</td>\n",
       "      <td>7.215715</td>\n",
       "      <td>3.963537</td>\n",
       "      <td>3.705372</td>\n",
       "      <td>44.436717</td>\n",
       "      <td>2.768104</td>\n",
       "      <td>0.925185</td>\n",
       "      <td>586.985312</td>\n",
       "      <td>0.298324</td>\n",
       "      <td>103.447520</td>\n",
       "      <td>0.819818</td>\n",
       "      <td>0.813922</td>\n",
       "      <td>0.512211</td>\n",
       "      <td>690.346564</td>\n",
       "    </tr>\n",
       "    <tr>\n",
       "      <th>std</th>\n",
       "      <td>3.167744</td>\n",
       "      <td>76.063134</td>\n",
       "      <td>2.234109</td>\n",
       "      <td>2.352900</td>\n",
       "      <td>2.499063</td>\n",
       "      <td>2.572387</td>\n",
       "      <td>11.620372</td>\n",
       "      <td>2.656106</td>\n",
       "      <td>0.263095</td>\n",
       "      <td>788.133664</td>\n",
       "      <td>0.457525</td>\n",
       "      <td>42.089441</td>\n",
       "      <td>0.384342</td>\n",
       "      <td>0.389172</td>\n",
       "      <td>0.499854</td>\n",
       "      <td>139.491130</td>\n",
       "    </tr>\n",
       "    <tr>\n",
       "      <th>min</th>\n",
       "      <td>6.000000</td>\n",
       "      <td>9.465392</td>\n",
       "      <td>0.000000</td>\n",
       "      <td>1.000000</td>\n",
       "      <td>0.000000</td>\n",
       "      <td>0.000000</td>\n",
       "      <td>15.000000</td>\n",
       "      <td>0.000000</td>\n",
       "      <td>0.000000</td>\n",
       "      <td>0.000000</td>\n",
       "      <td>0.000000</td>\n",
       "      <td>9.465392</td>\n",
       "      <td>0.000000</td>\n",
       "      <td>0.000000</td>\n",
       "      <td>0.000000</td>\n",
       "      <td>180.000000</td>\n",
       "    </tr>\n",
       "    <tr>\n",
       "      <th>25%</th>\n",
       "      <td>9.000000</td>\n",
       "      <td>92.327050</td>\n",
       "      <td>0.574000</td>\n",
       "      <td>6.000000</td>\n",
       "      <td>2.000000</td>\n",
       "      <td>1.000000</td>\n",
       "      <td>36.000000</td>\n",
       "      <td>0.000000</td>\n",
       "      <td>1.000000</td>\n",
       "      <td>120.000000</td>\n",
       "      <td>0.000000</td>\n",
       "      <td>70.518238</td>\n",
       "      <td>1.000000</td>\n",
       "      <td>1.000000</td>\n",
       "      <td>0.000000</td>\n",
       "      <td>597.000000</td>\n",
       "    </tr>\n",
       "    <tr>\n",
       "      <th>50%</th>\n",
       "      <td>11.000000</td>\n",
       "      <td>132.001494</td>\n",
       "      <td>2.279000</td>\n",
       "      <td>7.000000</td>\n",
       "      <td>4.000000</td>\n",
       "      <td>4.000000</td>\n",
       "      <td>43.000000</td>\n",
       "      <td>2.000000</td>\n",
       "      <td>1.000000</td>\n",
       "      <td>500.000000</td>\n",
       "      <td>0.000000</td>\n",
       "      <td>111.228612</td>\n",
       "      <td>1.000000</td>\n",
       "      <td>1.000000</td>\n",
       "      <td>1.000000</td>\n",
       "      <td>685.000000</td>\n",
       "    </tr>\n",
       "    <tr>\n",
       "      <th>75%</th>\n",
       "      <td>14.000000</td>\n",
       "      <td>184.445225</td>\n",
       "      <td>3.582000</td>\n",
       "      <td>9.000000</td>\n",
       "      <td>6.000000</td>\n",
       "      <td>6.000000</td>\n",
       "      <td>51.000000</td>\n",
       "      <td>4.000000</td>\n",
       "      <td>1.000000</td>\n",
       "      <td>750.000000</td>\n",
       "      <td>1.000000</td>\n",
       "      <td>138.446009</td>\n",
       "      <td>1.000000</td>\n",
       "      <td>1.000000</td>\n",
       "      <td>1.000000</td>\n",
       "      <td>770.000000</td>\n",
       "    </tr>\n",
       "    <tr>\n",
       "      <th>max</th>\n",
       "      <td>17.000000</td>\n",
       "      <td>359.774457</td>\n",
       "      <td>14.879000</td>\n",
       "      <td>24.000000</td>\n",
       "      <td>14.000000</td>\n",
       "      <td>14.000000</td>\n",
       "      <td>98.000000</td>\n",
       "      <td>20.000000</td>\n",
       "      <td>1.000000</td>\n",
       "      <td>14000.000000</td>\n",
       "      <td>1.000000</td>\n",
       "      <td>170.457647</td>\n",
       "      <td>1.000000</td>\n",
       "      <td>1.000000</td>\n",
       "      <td>1.000000</td>\n",
       "      <td>1294.000000</td>\n",
       "    </tr>\n",
       "  </tbody>\n",
       "</table>\n",
       "</div>"
      ],
      "text/plain": [
       "                age      dist_cap      dist_sec         fam_n           grc  \\\n",
       "count  77250.000000  77250.000000  77250.000000  77250.000000  70701.000000   \n",
       "mean      11.366460    147.674452      2.418910      7.215715      3.963537   \n",
       "std        3.167744     76.063134      2.234109      2.352900      2.499063   \n",
       "min        6.000000      9.465392      0.000000      1.000000      0.000000   \n",
       "25%        9.000000     92.327050      0.574000      6.000000      2.000000   \n",
       "50%       11.000000    132.001494      2.279000      7.000000      4.000000   \n",
       "75%       14.000000    184.445225      3.582000      9.000000      6.000000   \n",
       "max       17.000000    359.774457     14.879000     24.000000     14.000000   \n",
       "\n",
       "              grc97        hohage        hohedu        hohsex        hohwag  \\\n",
       "count  77250.000000  77240.000000  77250.000000  77230.000000  77250.000000   \n",
       "mean       3.705372     44.436717      2.768104      0.925185    586.985312   \n",
       "std        2.572387     11.620372      2.656106      0.263095    788.133664   \n",
       "min        0.000000     15.000000      0.000000      0.000000      0.000000   \n",
       "25%        1.000000     36.000000      0.000000      1.000000    120.000000   \n",
       "50%        4.000000     43.000000      2.000000      1.000000    500.000000   \n",
       "75%        6.000000     51.000000      4.000000      1.000000    750.000000   \n",
       "max       14.000000     98.000000     20.000000      1.000000  14000.000000   \n",
       "\n",
       "              indig      min_dist            sc          sc97           sex  \\\n",
       "count  76950.000000  77250.000000  68797.000000  73378.000000  77226.000000   \n",
       "mean       0.298324    103.447520      0.819818      0.813922      0.512211   \n",
       "std        0.457525     42.089441      0.384342      0.389172      0.499854   \n",
       "min        0.000000      9.465392      0.000000      0.000000      0.000000   \n",
       "25%        0.000000     70.518238      1.000000      1.000000      0.000000   \n",
       "50%        0.000000    111.228612      1.000000      1.000000      1.000000   \n",
       "75%        1.000000    138.446009      1.000000      1.000000      1.000000   \n",
       "max        1.000000    170.457647      1.000000      1.000000      1.000000   \n",
       "\n",
       "       welfare_index  \n",
       "count   77040.000000  \n",
       "mean      690.346564  \n",
       "std       139.491130  \n",
       "min       180.000000  \n",
       "25%       597.000000  \n",
       "50%       685.000000  \n",
       "75%       770.000000  \n",
       "max      1294.000000  "
      ]
     },
     "execution_count": 5,
     "metadata": {},
     "output_type": "execute_result"
    }
   ],
   "source": [
    "x = progresa_data.columns - ['year', 'folnum', 'village']\n",
    "d= progresa_data[x].describe()\n",
    "d"
   ]
  },
  {
   "cell_type": "code",
   "execution_count": 13,
   "metadata": {
    "collapsed": false
   },
   "outputs": [
    {
     "data": {
      "text/html": [
       "<div>\n",
       "<table border=\"1\" class=\"dataframe\">\n",
       "  <thead>\n",
       "    <tr style=\"text-align: right;\">\n",
       "      <th></th>\n",
       "      <th>mean</th>\n",
       "      <th>std</th>\n",
       "    </tr>\n",
       "  </thead>\n",
       "  <tbody>\n",
       "    <tr>\n",
       "      <th>age</th>\n",
       "      <td>11.366460</td>\n",
       "      <td>3.167744</td>\n",
       "    </tr>\n",
       "    <tr>\n",
       "      <th>dist_cap</th>\n",
       "      <td>147.674452</td>\n",
       "      <td>76.063134</td>\n",
       "    </tr>\n",
       "    <tr>\n",
       "      <th>dist_sec</th>\n",
       "      <td>2.418910</td>\n",
       "      <td>2.234109</td>\n",
       "    </tr>\n",
       "    <tr>\n",
       "      <th>fam_n</th>\n",
       "      <td>7.215715</td>\n",
       "      <td>2.352900</td>\n",
       "    </tr>\n",
       "    <tr>\n",
       "      <th>grc</th>\n",
       "      <td>3.963537</td>\n",
       "      <td>2.499063</td>\n",
       "    </tr>\n",
       "    <tr>\n",
       "      <th>grc97</th>\n",
       "      <td>3.705372</td>\n",
       "      <td>2.572387</td>\n",
       "    </tr>\n",
       "    <tr>\n",
       "      <th>hohage</th>\n",
       "      <td>44.436717</td>\n",
       "      <td>11.620372</td>\n",
       "    </tr>\n",
       "    <tr>\n",
       "      <th>hohedu</th>\n",
       "      <td>2.768104</td>\n",
       "      <td>2.656106</td>\n",
       "    </tr>\n",
       "    <tr>\n",
       "      <th>hohsex</th>\n",
       "      <td>0.925185</td>\n",
       "      <td>0.263095</td>\n",
       "    </tr>\n",
       "    <tr>\n",
       "      <th>hohwag</th>\n",
       "      <td>586.985312</td>\n",
       "      <td>788.133664</td>\n",
       "    </tr>\n",
       "    <tr>\n",
       "      <th>indig</th>\n",
       "      <td>0.298324</td>\n",
       "      <td>0.457525</td>\n",
       "    </tr>\n",
       "    <tr>\n",
       "      <th>min_dist</th>\n",
       "      <td>103.447520</td>\n",
       "      <td>42.089441</td>\n",
       "    </tr>\n",
       "    <tr>\n",
       "      <th>sc</th>\n",
       "      <td>0.819818</td>\n",
       "      <td>0.384342</td>\n",
       "    </tr>\n",
       "    <tr>\n",
       "      <th>sc97</th>\n",
       "      <td>0.813922</td>\n",
       "      <td>0.389172</td>\n",
       "    </tr>\n",
       "    <tr>\n",
       "      <th>sex</th>\n",
       "      <td>0.512211</td>\n",
       "      <td>0.499854</td>\n",
       "    </tr>\n",
       "    <tr>\n",
       "      <th>welfare_index</th>\n",
       "      <td>690.346564</td>\n",
       "      <td>139.491130</td>\n",
       "    </tr>\n",
       "  </tbody>\n",
       "</table>\n",
       "</div>"
      ],
      "text/plain": [
       "                     mean         std\n",
       "age             11.366460    3.167744\n",
       "dist_cap       147.674452   76.063134\n",
       "dist_sec         2.418910    2.234109\n",
       "fam_n            7.215715    2.352900\n",
       "grc              3.963537    2.499063\n",
       "grc97            3.705372    2.572387\n",
       "hohage          44.436717   11.620372\n",
       "hohedu           2.768104    2.656106\n",
       "hohsex           0.925185    0.263095\n",
       "hohwag         586.985312  788.133664\n",
       "indig            0.298324    0.457525\n",
       "min_dist       103.447520   42.089441\n",
       "sc               0.819818    0.384342\n",
       "sc97             0.813922    0.389172\n",
       "sex              0.512211    0.499854\n",
       "welfare_index  690.346564  139.491130"
      ]
     },
     "execution_count": 13,
     "metadata": {},
     "output_type": "execute_result"
    }
   ],
   "source": [
    "mean = d[d.index == 'mean'].T\n",
    "std = d[d.index == 'std'].T\n",
    "pd.concat([mean,std], axis = 1)\n"
   ]
  },
  {
   "cell_type": "markdown",
   "metadata": {
    "ein.tags": [
     "worksheet-0"
    ],
    "slideshow": {
     "slide_type": "-"
    }
   },
   "source": [
    "### 1.2 Differences at baseline?\n",
    "\n",
    "Are the baseline (1997) demographic characteristics **for the poor**  different in treatment and control villages? Hint: Use a T-Test to determine whether there is a statistically significant difference in the average values of each of the variables in the dataset. Focus only on the data from 1997 for individuals who are poor (i.e., poor=='pobre').\n",
    "\n",
    "Present your results in a single table with the following columns and 14 (or so) rows:\n",
    "\n",
    "| Variable name | Average value (Treatment villages) | Average value (Control villages) | Difference (Treat - Control) | p-value |\n",
    "|------|------|------|------|------|\n",
    "|Male  |?     |?     |?     |?     |\n"
   ]
  },
  {
   "cell_type": "code",
   "execution_count": 16,
   "metadata": {
    "collapsed": false
   },
   "outputs": [],
   "source": [
    "import scipy as sc"
   ]
  },
  {
   "cell_type": "code",
   "execution_count": 17,
   "metadata": {
    "collapsed": false
   },
   "outputs": [],
   "source": [
    "prog = progresa_data[progresa_data['year'] == 97]\n",
    "s = prog[x]\n",
    "s = s[s['poor'] == 'pobre']\n",
    "control = s[s['progresa'] != 'basal']\n",
    "treatment = s[s['progresa'] == 'basal']\n",
    "d_control = control.describe()\n",
    "d_treatment = treatment.describe()\n",
    "avg_control = d_control[d_control.index == 'mean'].T\n",
    "avg_control = avg_control.rename(columns = {'mean': 'Average value (Control villages)'})\n",
    "avg_treatment = d_treatment[d_treatment.index == 'mean'].T\n",
    "avg_treatment= avg_treatment.rename(columns = {'mean': 'Average value (Treatment villages)'})\n",
    "test = pd.concat([avg_control,avg_treatment], axis = 1)"
   ]
  },
  {
   "cell_type": "code",
   "execution_count": 54,
   "metadata": {
    "collapsed": true
   },
   "outputs": [],
   "source": [
    "diff = [] \n",
    "pv = [] \n",
    "def calc_diff(s1, s2,diff, pv):\n",
    "    d, p = sc.stats.ttest_ind(s1,s2)\n",
    "    diff.append(d)\n",
    "    pv.append(p)\n",
    "    return "
   ]
  },
  {
   "cell_type": "code",
   "execution_count": 48,
   "metadata": {
    "collapsed": false
   },
   "outputs": [
    {
     "data": {
      "text/html": [
       "<div>\n",
       "<table border=\"1\" class=\"dataframe\">\n",
       "  <thead>\n",
       "    <tr style=\"text-align: right;\">\n",
       "      <th></th>\n",
       "      <th>Average value (Control villages)</th>\n",
       "      <th>Average value (Treatment villages)</th>\n",
       "      <th>diff</th>\n",
       "      <th>pv</th>\n",
       "    </tr>\n",
       "  </thead>\n",
       "  <tbody>\n",
       "    <tr>\n",
       "      <th>age</th>\n",
       "      <td>10.742023</td>\n",
       "      <td>10.716991</td>\n",
       "      <td>-0.708630</td>\n",
       "      <td>4.785594e-01</td>\n",
       "    </tr>\n",
       "    <tr>\n",
       "      <th>dist_cap</th>\n",
       "      <td>153.769730</td>\n",
       "      <td>150.829074</td>\n",
       "      <td>-3.339081</td>\n",
       "      <td>8.415005e-04</td>\n",
       "    </tr>\n",
       "    <tr>\n",
       "      <th>dist_sec</th>\n",
       "      <td>2.507662</td>\n",
       "      <td>2.453122</td>\n",
       "      <td>-2.100433</td>\n",
       "      <td>3.569843e-02</td>\n",
       "    </tr>\n",
       "    <tr>\n",
       "      <th>fam_n</th>\n",
       "      <td>7.302469</td>\n",
       "      <td>7.281327</td>\n",
       "      <td>-0.794167</td>\n",
       "      <td>4.271039e-01</td>\n",
       "    </tr>\n",
       "    <tr>\n",
       "      <th>grc</th>\n",
       "      <td>3.543050</td>\n",
       "      <td>3.531599</td>\n",
       "      <td>-0.400196</td>\n",
       "      <td>6.890151e-01</td>\n",
       "    </tr>\n",
       "    <tr>\n",
       "      <th>grc97</th>\n",
       "      <td>3.543050</td>\n",
       "      <td>3.531599</td>\n",
       "      <td>-0.400196</td>\n",
       "      <td>6.890151e-01</td>\n",
       "    </tr>\n",
       "    <tr>\n",
       "      <th>hohage</th>\n",
       "      <td>44.276918</td>\n",
       "      <td>43.648828</td>\n",
       "      <td>NaN</td>\n",
       "      <td>NaN</td>\n",
       "    </tr>\n",
       "    <tr>\n",
       "      <th>hohedu</th>\n",
       "      <td>2.590348</td>\n",
       "      <td>2.663139</td>\n",
       "      <td>2.541229</td>\n",
       "      <td>1.105093e-02</td>\n",
       "    </tr>\n",
       "    <tr>\n",
       "      <th>hohsex</th>\n",
       "      <td>0.922947</td>\n",
       "      <td>0.924656</td>\n",
       "      <td>NaN</td>\n",
       "      <td>NaN</td>\n",
       "    </tr>\n",
       "    <tr>\n",
       "      <th>hohwag</th>\n",
       "      <td>573.163558</td>\n",
       "      <td>544.339544</td>\n",
       "      <td>-3.594588</td>\n",
       "      <td>3.253835e-04</td>\n",
       "    </tr>\n",
       "    <tr>\n",
       "      <th>indig</th>\n",
       "      <td>0.332207</td>\n",
       "      <td>0.325986</td>\n",
       "      <td>NaN</td>\n",
       "      <td>NaN</td>\n",
       "    </tr>\n",
       "    <tr>\n",
       "      <th>min_dist</th>\n",
       "      <td>103.237854</td>\n",
       "      <td>107.152915</td>\n",
       "      <td>8.206584</td>\n",
       "      <td>2.358312e-16</td>\n",
       "    </tr>\n",
       "    <tr>\n",
       "      <th>sc</th>\n",
       "      <td>0.815186</td>\n",
       "      <td>0.822697</td>\n",
       "      <td>NaN</td>\n",
       "      <td>NaN</td>\n",
       "    </tr>\n",
       "    <tr>\n",
       "      <th>sc97</th>\n",
       "      <td>0.815186</td>\n",
       "      <td>0.822697</td>\n",
       "      <td>NaN</td>\n",
       "      <td>NaN</td>\n",
       "    </tr>\n",
       "    <tr>\n",
       "      <th>sex</th>\n",
       "      <td>0.505052</td>\n",
       "      <td>0.519317</td>\n",
       "      <td>NaN</td>\n",
       "      <td>NaN</td>\n",
       "    </tr>\n",
       "    <tr>\n",
       "      <th>welfare_index</th>\n",
       "      <td>659.579100</td>\n",
       "      <td>655.428377</td>\n",
       "      <td>NaN</td>\n",
       "      <td>NaN</td>\n",
       "    </tr>\n",
       "  </tbody>\n",
       "</table>\n",
       "</div>"
      ],
      "text/plain": [
       "               Average value (Control villages)  \\\n",
       "age                                   10.742023   \n",
       "dist_cap                             153.769730   \n",
       "dist_sec                               2.507662   \n",
       "fam_n                                  7.302469   \n",
       "grc                                    3.543050   \n",
       "grc97                                  3.543050   \n",
       "hohage                                44.276918   \n",
       "hohedu                                 2.590348   \n",
       "hohsex                                 0.922947   \n",
       "hohwag                               573.163558   \n",
       "indig                                  0.332207   \n",
       "min_dist                             103.237854   \n",
       "sc                                     0.815186   \n",
       "sc97                                   0.815186   \n",
       "sex                                    0.505052   \n",
       "welfare_index                        659.579100   \n",
       "\n",
       "               Average value (Treatment villages)      diff            pv  \n",
       "age                                     10.716991 -0.708630  4.785594e-01  \n",
       "dist_cap                               150.829074 -3.339081  8.415005e-04  \n",
       "dist_sec                                 2.453122 -2.100433  3.569843e-02  \n",
       "fam_n                                    7.281327 -0.794167  4.271039e-01  \n",
       "grc                                      3.531599 -0.400196  6.890151e-01  \n",
       "grc97                                    3.531599 -0.400196  6.890151e-01  \n",
       "hohage                                  43.648828       NaN           NaN  \n",
       "hohedu                                   2.663139  2.541229  1.105093e-02  \n",
       "hohsex                                   0.924656       NaN           NaN  \n",
       "hohwag                                 544.339544 -3.594588  3.253835e-04  \n",
       "indig                                    0.325986       NaN           NaN  \n",
       "min_dist                               107.152915  8.206584  2.358312e-16  \n",
       "sc                                       0.822697       NaN           NaN  \n",
       "sc97                                     0.822697       NaN           NaN  \n",
       "sex                                      0.519317       NaN           NaN  \n",
       "welfare_index                          655.428377       NaN           NaN  "
      ]
     },
     "execution_count": 48,
     "metadata": {},
     "output_type": "execute_result"
    }
   ],
   "source": [
    "for thing in test.index:\n",
    "    calc_diff(treatment[thing], control[thing])\n",
    "\n",
    "test['diff'] = diff\n",
    "test['pv'] = pv\n",
    "test"
   ]
  },
  {
   "cell_type": "markdown",
   "metadata": {
    "ein.tags": [
     "worksheet-0"
    ],
    "slideshow": {
     "slide_type": "-"
    }
   },
   "source": [
    "### 1.3 Interpretation\n",
    "\n",
    "* A: Are there statistically significant differences between treatment and control villages as baseline? \n",
    "* B: Why does it matter if there are differences at baseline?\n",
    "* C: What does this imply about how to measure the impact of the treatment?"
   ]
  },
  {
   "cell_type": "markdown",
   "metadata": {
    "autoscroll": "json-false",
    "collapsed": false,
    "ein.tags": [
     "worksheet-0"
    ],
    "slideshow": {
     "slide_type": "-"
    }
   },
   "source": [
    "<b> A </b> : "
   ]
  },
  {
   "cell_type": "code",
   "execution_count": null,
   "metadata": {
    "collapsed": true
   },
   "outputs": [],
   "source": []
  },
  {
   "cell_type": "markdown",
   "metadata": {
    "ein.tags": [
     "worksheet-0"
    ],
    "slideshow": {
     "slide_type": "-"
    }
   },
   "source": [
    "### 1.4 Graphical exploration, part 1\n",
    "\n",
    "For each level of household head education, compute the average enrollment rate in 1997. Create a scatterplot that shows this relationship. What do you notice?"
   ]
  },
  {
   "cell_type": "code",
   "execution_count": 23,
   "metadata": {
    "autoscroll": "json-false",
    "collapsed": false,
    "ein.tags": [
     "worksheet-0"
    ],
    "slideshow": {
     "slide_type": "-"
    }
   },
   "outputs": [
    {
     "name": "stdout",
     "output_type": "stream",
     "text": [
      "hohedu\n",
      "0    0.776137\n",
      "1    0.768537\n",
      "2    0.794552\n",
      "3    0.802956\n",
      "4    0.842951\n",
      "Name: sc, dtype: float64\n",
      "              sc\n",
      "hohedu          \n",
      "0       0.776137\n",
      "1       0.768537\n",
      "2       0.794552\n",
      "3       0.802956\n",
      "4       0.842951\n",
      "5       0.849835\n",
      "6       0.878469\n",
      "7       0.889535\n",
      "8       0.900000\n",
      "9       0.925023\n",
      "10      0.865385\n",
      "11      0.974359\n",
      "12      0.982955\n",
      "13      0.959459\n",
      "14      0.880952\n",
      "15      0.900000\n",
      "16      0.941176\n",
      "17      0.933333\n",
      "18      1.000000\n",
      "20      0.500000\n"
     ]
    },
    {
     "data": {
      "text/plain": [
       "([<matplotlib.axis.XTick at 0x1148478d0>,\n",
       "  <matplotlib.axis.XTick at 0x114855190>,\n",
       "  <matplotlib.axis.XTick at 0x11a8755d0>,\n",
       "  <matplotlib.axis.XTick at 0x11a875c10>,\n",
       "  <matplotlib.axis.XTick at 0x11a881310>,\n",
       "  <matplotlib.axis.XTick at 0x11a881a90>,\n",
       "  <matplotlib.axis.XTick at 0x11a88a250>,\n",
       "  <matplotlib.axis.XTick at 0x11a792a50>,\n",
       "  <matplotlib.axis.XTick at 0x11a8fdd50>,\n",
       "  <matplotlib.axis.XTick at 0x11a9032d0>,\n",
       "  <matplotlib.axis.XTick at 0x11a903a50>,\n",
       "  <matplotlib.axis.XTick at 0x11a90d210>,\n",
       "  <matplotlib.axis.XTick at 0x11a8f5990>,\n",
       "  <matplotlib.axis.XTick at 0x11a90d7d0>,\n",
       "  <matplotlib.axis.XTick at 0x11a90df50>,\n",
       "  <matplotlib.axis.XTick at 0x11a916710>,\n",
       "  <matplotlib.axis.XTick at 0x11a916e90>,\n",
       "  <matplotlib.axis.XTick at 0x11a91f650>,\n",
       "  <matplotlib.axis.XTick at 0x11a91fdd0>,\n",
       "  <matplotlib.axis.XTick at 0x11a928590>],\n",
       " <a list of 20 Text xticklabel objects>)"
      ]
     },
     "execution_count": 23,
     "metadata": {},
     "output_type": "execute_result"
    },
    {
     "data": {
      "image/png": "[encoded data removed]",
      "text/plain": [
       "<matplotlib.figure.Figure at 0x11a74ad50>"
      ]
     },
     "metadata": {},
     "output_type": "display_data"
    }
   ],
   "source": [
    "scatter = prog.pivot_table(values='sc', index = 'hohedu')\n",
    "print scatter.head()\n",
    "sframe = pd.DataFrame(scatter)\n",
    "print sframe\n",
    "sframe.reset_index().plot(kind = 'scatter', x = 'hohedu', y = 'sc')\n",
    "plt.xticks(sframe.index)"
   ]
  },
  {
   "cell_type": "markdown",
   "metadata": {
    "ein.tags": [
     "worksheet-0"
    ],
    "slideshow": {
     "slide_type": "-"
    }
   },
   "source": [
    "### 1.5 Graphical exploration, part 2\n",
    "\n",
    "Create a histogram of village enrollment rates **among poor households in treated villages**, before and after treatment. Specifically, for each village, calculate the average rate of enrollment of poor households in treated villages in 1997, then compute the average rate of enrollment of poor households in treated villages in 1998. Create two separate histograms showing the distribution of these average enrollments rates, one histogram for 1997 and one histogram for 1998. On each histogram, draw a vertical line that intersects the x-axis at the average value (across all households).\n",
    "* Does there appear to be a difference? Is this difference statistically significant?\n",
    "* Which D estimator in Schultz (2004) does this approach correspond to?"
   ]
  },
  {
   "cell_type": "code",
   "execution_count": 67,
   "metadata": {
    "autoscroll": "json-false",
    "collapsed": false,
    "ein.tags": [
     "worksheet-0"
    ],
    "slideshow": {
     "slide_type": "-"
    }
   },
   "outputs": [
    {
     "data": {
      "image/png": "[encoded data removed]",
      "text/plain": [
       "<matplotlib.figure.Figure at 0x115781f90>"
      ]
     },
     "metadata": {},
     "output_type": "display_data"
    }
   ],
   "source": [
    "v1 = prog[(prog['poor'] == 'pobre')&(prog['progresa'] == 'basal')]\n",
    "v2 = progresa_data[(progresa_data['poor'] == 'pobre')&(progresa_data['progresa']=='basal')&(progresa_data['year']==98)]\n",
    "all_avg_v1 = v1['sc'].mean()\n",
    "all_avg_v2 = v2['sc'].mean()\n",
    "groupby_v1 = v1.pivot_table(values='sc', index='village')\n",
    "groupby_v2 = v2.pivot_table(values='sc', index='village')\n",
    "fig, ax = plt.subplots(1,1)\n",
    "fig.set_figheight(6)\n",
    "fig.set_figwidth(10)\n",
    "g1 = groupby_v1.plot(ax = ax, kind='hist', title = 'Enrollment rate in poor treated villages(1997)', alpha=0.4)\n",
    "g1.axvline(x = all_avg_v1, linewidth = 2, color ='r', linestyle='--')\n",
    "g1.axvline(x = all_avg_v2, linewidth = 2, color ='b', linestyle='--')\n",
    "g2 = groupby_v2.plot(ax= ax, kind='hist', title = 'Enrollment rate in poor treated villages(1997)', alpha=0.3, color='g')"
   ]
  },
  {
   "cell_type": "code",
   "execution_count": null,
   "metadata": {
    "collapsed": false
   },
   "outputs": [],
   "source": []
  },
  {
   "cell_type": "markdown",
   "metadata": {
    "ein.tags": [
     "worksheet-0"
    ],
    "slideshow": {
     "slide_type": "-"
    }
   },
   "source": [
    "## Part 2: Measuring Impact\n",
    "\n",
    "### 2.1 Simple differences: T-test\n",
    "\n",
    "Start out by estimating the impact of Progresa using \"simple differences.\" Restricting yourself to data from 1998 (after treatment).\n",
    "* calculate the average enrollment rate among **poor** households in the Treatment villages and the average enrollment rate among **poor** households in the control villages.\n",
    "* Which difference estimator in Schultz (2004) does this approach correspond to?\n",
    "* Use a t-test to determine if this difference is statistically significant. What do you conclude?"
   ]
  },
  {
   "cell_type": "code",
   "execution_count": 61,
   "metadata": {
    "collapsed": false
   },
   "outputs": [
    {
     "data": {
      "text/plain": [
       "year                0\n",
       "sex                12\n",
       "indig             150\n",
       "dist_sec            0\n",
       "sc               6517\n",
       "grc              6549\n",
       "fam_n               0\n",
       "min_dist            0\n",
       "dist_cap            0\n",
       "poor                0\n",
       "progresa            0\n",
       "hohedu              0\n",
       "hohwag              0\n",
       "welfare_index     105\n",
       "hohsex             10\n",
       "hohage              5\n",
       "age                 0\n",
       "village             0\n",
       "folnum              0\n",
       "grc97               0\n",
       "sc97             1936\n",
       "dtype: int64"
      ]
     },
     "execution_count": 61,
     "metadata": {},
     "output_type": "execute_result"
    }
   ],
   "source": [
    "new_data.isnull().sum()"
   ]
  },
  {
   "cell_type": "markdown",
   "metadata": {},
   "source": [
    "Let's set our Null and Alternate Hypothesis. <br>\n",
    "<b>Null Hypothesis (H0) : mu1 = mu2 <br>\n",
    "Alternate Hypothesis (H1) : mu1 != mu2 </b>\n",
    "\n",
    "and consider our <b>significance level </b>to be <b>0.05</b>"
   ]
  },
  {
   "cell_type": "code",
   "execution_count": 57,
   "metadata": {
    "collapsed": false
   },
   "outputs": [
    {
     "name": "stdout",
     "output_type": "stream",
     "text": [
      "[2.5241266257746298]\n",
      "[0.011905294137542672]\n"
     ]
    }
   ],
   "source": [
    "new_data = progresa_data[progresa_data['year'] == 98]\n",
    "new_t = new_data[(new_data['poor'] == 'pobre')&(new_data['progresa'] == 'basal')]\n",
    "new_c = new_data[(new_data['poor'] == 'pobre')&(new_data['progresa'] != 'basal')]\n",
    "avg_e_t = new_t.pivot_table(index= 'village', values = 'sc')\n",
    "avg_e_x = new_c.pivot_table(index = 'village', values = 'sc')\n",
    "t = []\n",
    "p = [] \n",
    "calc_diff(avg_e_t, avg_e_x, t, p)\n",
    "print t\n",
    "print p "
   ]
  },
  {
   "cell_type": "markdown",
   "metadata": {},
   "source": [
    "From above we can see that our p-value for the t-test is 0.0119 which is lesser than the sigficance level we chose. And thus we reject the null hypothesis and can say that there is a significant difference between the means of the two groups - the control and treatment group after PROGRESA was adopted in 1998 "
   ]
  },
  {
   "cell_type": "code",
   "execution_count": 64,
   "metadata": {
    "collapsed": false
   },
   "outputs": [
    {
     "data": {
      "image/png": "[encoded data removed]",
      "text/plain": [
       "<matplotlib.figure.Figure at 0x1161b1510>"
      ]
     },
     "metadata": {},
     "output_type": "display_data"
    }
   ],
   "source": [
    "all_avg_t = new_t['sc'].mean()\n",
    "all_avg_c = new_c['sc'].mean()\n",
    "fig, ax = plt.subplots(1,1)\n",
    "fig.set_figheight(6)\n",
    "fig.set_figwidth(10)\n",
    "g1 = avg_e_t.plot(ax = ax, kind='hist', title = 'Enrollment rate in poor treated villages(1998)', alpha=0.4)\n",
    "g1.axvline(x = all_avg_t, linewidth = 2, color ='r', linestyle='--')\n",
    "g1.axvline(x = all_avg_c, linewidth = 2, color ='b', linestyle='--')\n",
    "g2 = avg_e_x.plot(ax= ax, kind='hist', title = 'Enrollment rate in poor treated villages(1998)', alpha=0.3, color='g')"
   ]
  },
  {
   "cell_type": "code",
   "execution_count": 53,
   "metadata": {
    "collapsed": false
   },
   "outputs": [
    {
     "data": {
      "text/html": [
       "<div>\n",
       "<table border=\"1\" class=\"dataframe\">\n",
       "  <thead>\n",
       "    <tr style=\"text-align: right;\">\n",
       "      <th>grc</th>\n",
       "      <th>0.0</th>\n",
       "      <th>1.0</th>\n",
       "      <th>2.0</th>\n",
       "      <th>3.0</th>\n",
       "      <th>4.0</th>\n",
       "      <th>5.0</th>\n",
       "      <th>6.0</th>\n",
       "      <th>7.0</th>\n",
       "      <th>8.0</th>\n",
       "      <th>9.0</th>\n",
       "      <th>10.0</th>\n",
       "      <th>11.0</th>\n",
       "      <th>12.0</th>\n",
       "      <th>13.0</th>\n",
       "      <th>14.0</th>\n",
       "      <th>All</th>\n",
       "    </tr>\n",
       "    <tr>\n",
       "      <th>age</th>\n",
       "      <th></th>\n",
       "      <th></th>\n",
       "      <th></th>\n",
       "      <th></th>\n",
       "      <th></th>\n",
       "      <th></th>\n",
       "      <th></th>\n",
       "      <th></th>\n",
       "      <th></th>\n",
       "      <th></th>\n",
       "      <th></th>\n",
       "      <th></th>\n",
       "      <th></th>\n",
       "      <th></th>\n",
       "      <th></th>\n",
       "      <th></th>\n",
       "    </tr>\n",
       "  </thead>\n",
       "  <tbody>\n",
       "    <tr>\n",
       "      <th>6</th>\n",
       "      <td>2679.0</td>\n",
       "      <td>807.0</td>\n",
       "      <td>82.0</td>\n",
       "      <td>97.0</td>\n",
       "      <td>1.0</td>\n",
       "      <td>NaN</td>\n",
       "      <td>NaN</td>\n",
       "      <td>NaN</td>\n",
       "      <td>NaN</td>\n",
       "      <td>NaN</td>\n",
       "      <td>NaN</td>\n",
       "      <td>NaN</td>\n",
       "      <td>NaN</td>\n",
       "      <td>NaN</td>\n",
       "      <td>NaN</td>\n",
       "      <td>3666.0</td>\n",
       "    </tr>\n",
       "    <tr>\n",
       "      <th>7</th>\n",
       "      <td>1406.0</td>\n",
       "      <td>4395.0</td>\n",
       "      <td>958.0</td>\n",
       "      <td>190.0</td>\n",
       "      <td>6.0</td>\n",
       "      <td>2.0</td>\n",
       "      <td>NaN</td>\n",
       "      <td>NaN</td>\n",
       "      <td>1.0</td>\n",
       "      <td>NaN</td>\n",
       "      <td>NaN</td>\n",
       "      <td>NaN</td>\n",
       "      <td>NaN</td>\n",
       "      <td>NaN</td>\n",
       "      <td>NaN</td>\n",
       "      <td>7327.0</td>\n",
       "    </tr>\n",
       "    <tr>\n",
       "      <th>8</th>\n",
       "      <td>405.0</td>\n",
       "      <td>1970.0</td>\n",
       "      <td>3664.0</td>\n",
       "      <td>890.0</td>\n",
       "      <td>71.0</td>\n",
       "      <td>5.0</td>\n",
       "      <td>1.0</td>\n",
       "      <td>NaN</td>\n",
       "      <td>1.0</td>\n",
       "      <td>1.0</td>\n",
       "      <td>NaN</td>\n",
       "      <td>NaN</td>\n",
       "      <td>NaN</td>\n",
       "      <td>NaN</td>\n",
       "      <td>NaN</td>\n",
       "      <td>7329.0</td>\n",
       "    </tr>\n",
       "    <tr>\n",
       "      <th>9</th>\n",
       "      <td>182.0</td>\n",
       "      <td>715.0</td>\n",
       "      <td>2050.0</td>\n",
       "      <td>3070.0</td>\n",
       "      <td>699.0</td>\n",
       "      <td>73.0</td>\n",
       "      <td>7.0</td>\n",
       "      <td>NaN</td>\n",
       "      <td>1.0</td>\n",
       "      <td>NaN</td>\n",
       "      <td>NaN</td>\n",
       "      <td>NaN</td>\n",
       "      <td>NaN</td>\n",
       "      <td>NaN</td>\n",
       "      <td>NaN</td>\n",
       "      <td>7090.0</td>\n",
       "    </tr>\n",
       "    <tr>\n",
       "      <th>10</th>\n",
       "      <td>153.0</td>\n",
       "      <td>305.0</td>\n",
       "      <td>940.0</td>\n",
       "      <td>1989.0</td>\n",
       "      <td>2818.0</td>\n",
       "      <td>648.0</td>\n",
       "      <td>61.0</td>\n",
       "      <td>4.0</td>\n",
       "      <td>2.0</td>\n",
       "      <td>1.0</td>\n",
       "      <td>NaN</td>\n",
       "      <td>NaN</td>\n",
       "      <td>NaN</td>\n",
       "      <td>NaN</td>\n",
       "      <td>NaN</td>\n",
       "      <td>7169.0</td>\n",
       "    </tr>\n",
       "    <tr>\n",
       "      <th>11</th>\n",
       "      <td>115.0</td>\n",
       "      <td>140.0</td>\n",
       "      <td>494.0</td>\n",
       "      <td>1020.0</td>\n",
       "      <td>1976.0</td>\n",
       "      <td>2678.0</td>\n",
       "      <td>548.0</td>\n",
       "      <td>38.0</td>\n",
       "      <td>6.0</td>\n",
       "      <td>1.0</td>\n",
       "      <td>NaN</td>\n",
       "      <td>NaN</td>\n",
       "      <td>NaN</td>\n",
       "      <td>NaN</td>\n",
       "      <td>NaN</td>\n",
       "      <td>7305.0</td>\n",
       "    </tr>\n",
       "    <tr>\n",
       "      <th>12</th>\n",
       "      <td>124.0</td>\n",
       "      <td>110.0</td>\n",
       "      <td>272.0</td>\n",
       "      <td>571.0</td>\n",
       "      <td>1018.0</td>\n",
       "      <td>1996.0</td>\n",
       "      <td>2429.0</td>\n",
       "      <td>361.0</td>\n",
       "      <td>38.0</td>\n",
       "      <td>1.0</td>\n",
       "      <td>NaN</td>\n",
       "      <td>NaN</td>\n",
       "      <td>NaN</td>\n",
       "      <td>NaN</td>\n",
       "      <td>NaN</td>\n",
       "      <td>7209.0</td>\n",
       "    </tr>\n",
       "    <tr>\n",
       "      <th>13</th>\n",
       "      <td>103.0</td>\n",
       "      <td>91.0</td>\n",
       "      <td>170.0</td>\n",
       "      <td>364.0</td>\n",
       "      <td>589.0</td>\n",
       "      <td>1117.0</td>\n",
       "      <td>2510.0</td>\n",
       "      <td>1422.0</td>\n",
       "      <td>361.0</td>\n",
       "      <td>25.0</td>\n",
       "      <td>NaN</td>\n",
       "      <td>NaN</td>\n",
       "      <td>NaN</td>\n",
       "      <td>NaN</td>\n",
       "      <td>NaN</td>\n",
       "      <td>7104.0</td>\n",
       "    </tr>\n",
       "    <tr>\n",
       "      <th>14</th>\n",
       "      <td>156.0</td>\n",
       "      <td>60.0</td>\n",
       "      <td>157.0</td>\n",
       "      <td>251.0</td>\n",
       "      <td>355.0</td>\n",
       "      <td>671.0</td>\n",
       "      <td>2244.0</td>\n",
       "      <td>1069.0</td>\n",
       "      <td>1242.0</td>\n",
       "      <td>241.0</td>\n",
       "      <td>10.0</td>\n",
       "      <td>NaN</td>\n",
       "      <td>NaN</td>\n",
       "      <td>NaN</td>\n",
       "      <td>1.0</td>\n",
       "      <td>6839.0</td>\n",
       "    </tr>\n",
       "    <tr>\n",
       "      <th>15</th>\n",
       "      <td>155.0</td>\n",
       "      <td>66.0</td>\n",
       "      <td>116.0</td>\n",
       "      <td>220.0</td>\n",
       "      <td>256.0</td>\n",
       "      <td>432.0</td>\n",
       "      <td>2208.0</td>\n",
       "      <td>611.0</td>\n",
       "      <td>1039.0</td>\n",
       "      <td>1022.0</td>\n",
       "      <td>82.0</td>\n",
       "      <td>9.0</td>\n",
       "      <td>1.0</td>\n",
       "      <td>1.0</td>\n",
       "      <td>NaN</td>\n",
       "      <td>6755.0</td>\n",
       "    </tr>\n",
       "    <tr>\n",
       "      <th>16</th>\n",
       "      <td>177.0</td>\n",
       "      <td>55.0</td>\n",
       "      <td>119.0</td>\n",
       "      <td>213.0</td>\n",
       "      <td>199.0</td>\n",
       "      <td>281.0</td>\n",
       "      <td>2003.0</td>\n",
       "      <td>347.0</td>\n",
       "      <td>609.0</td>\n",
       "      <td>1285.0</td>\n",
       "      <td>220.0</td>\n",
       "      <td>49.0</td>\n",
       "      <td>8.0</td>\n",
       "      <td>NaN</td>\n",
       "      <td>NaN</td>\n",
       "      <td>6413.0</td>\n",
       "    </tr>\n",
       "    <tr>\n",
       "      <th>17</th>\n",
       "      <td>4.0</td>\n",
       "      <td>1.0</td>\n",
       "      <td>8.0</td>\n",
       "      <td>19.0</td>\n",
       "      <td>15.0</td>\n",
       "      <td>31.0</td>\n",
       "      <td>165.0</td>\n",
       "      <td>20.0</td>\n",
       "      <td>35.0</td>\n",
       "      <td>100.0</td>\n",
       "      <td>14.0</td>\n",
       "      <td>11.0</td>\n",
       "      <td>NaN</td>\n",
       "      <td>NaN</td>\n",
       "      <td>NaN</td>\n",
       "      <td>3044.0</td>\n",
       "    </tr>\n",
       "    <tr>\n",
       "      <th>All</th>\n",
       "      <td>5659.0</td>\n",
       "      <td>8715.0</td>\n",
       "      <td>9030.0</td>\n",
       "      <td>8894.0</td>\n",
       "      <td>8003.0</td>\n",
       "      <td>7934.0</td>\n",
       "      <td>12176.0</td>\n",
       "      <td>3872.0</td>\n",
       "      <td>3335.0</td>\n",
       "      <td>2677.0</td>\n",
       "      <td>326.0</td>\n",
       "      <td>69.0</td>\n",
       "      <td>9.0</td>\n",
       "      <td>1.0</td>\n",
       "      <td>1.0</td>\n",
       "      <td>77250.0</td>\n",
       "    </tr>\n",
       "  </tbody>\n",
       "</table>\n",
       "</div>"
      ],
      "text/plain": [
       "grc     0.0     1.0     2.0     3.0     4.0     5.0      6.0     7.0     8.0  \\\n",
       "age                                                                            \n",
       "6    2679.0   807.0    82.0    97.0     1.0     NaN      NaN     NaN     NaN   \n",
       "7    1406.0  4395.0   958.0   190.0     6.0     2.0      NaN     NaN     1.0   \n",
       "8     405.0  1970.0  3664.0   890.0    71.0     5.0      1.0     NaN     1.0   \n",
       "9     182.0   715.0  2050.0  3070.0   699.0    73.0      7.0     NaN     1.0   \n",
       "10    153.0   305.0   940.0  1989.0  2818.0   648.0     61.0     4.0     2.0   \n",
       "11    115.0   140.0   494.0  1020.0  1976.0  2678.0    548.0    38.0     6.0   \n",
       "12    124.0   110.0   272.0   571.0  1018.0  1996.0   2429.0   361.0    38.0   \n",
       "13    103.0    91.0   170.0   364.0   589.0  1117.0   2510.0  1422.0   361.0   \n",
       "14    156.0    60.0   157.0   251.0   355.0   671.0   2244.0  1069.0  1242.0   \n",
       "15    155.0    66.0   116.0   220.0   256.0   432.0   2208.0   611.0  1039.0   \n",
       "16    177.0    55.0   119.0   213.0   199.0   281.0   2003.0   347.0   609.0   \n",
       "17      4.0     1.0     8.0    19.0    15.0    31.0    165.0    20.0    35.0   \n",
       "All  5659.0  8715.0  9030.0  8894.0  8003.0  7934.0  12176.0  3872.0  3335.0   \n",
       "\n",
       "grc     9.0   10.0  11.0  12.0  13.0  14.0      All  \n",
       "age                                                  \n",
       "6       NaN    NaN   NaN   NaN   NaN   NaN   3666.0  \n",
       "7       NaN    NaN   NaN   NaN   NaN   NaN   7327.0  \n",
       "8       1.0    NaN   NaN   NaN   NaN   NaN   7329.0  \n",
       "9       NaN    NaN   NaN   NaN   NaN   NaN   7090.0  \n",
       "10      1.0    NaN   NaN   NaN   NaN   NaN   7169.0  \n",
       "11      1.0    NaN   NaN   NaN   NaN   NaN   7305.0  \n",
       "12      1.0    NaN   NaN   NaN   NaN   NaN   7209.0  \n",
       "13     25.0    NaN   NaN   NaN   NaN   NaN   7104.0  \n",
       "14    241.0   10.0   NaN   NaN   NaN   1.0   6839.0  \n",
       "15   1022.0   82.0   9.0   1.0   1.0   NaN   6755.0  \n",
       "16   1285.0  220.0  49.0   8.0   NaN   NaN   6413.0  \n",
       "17    100.0   14.0  11.0   NaN   NaN   NaN   3044.0  \n",
       "All  2677.0  326.0  69.0   9.0   1.0   1.0  77250.0  "
      ]
     },
     "execution_count": 53,
     "metadata": {},
     "output_type": "execute_result"
    }
   ],
   "source": [
    "grade_dist = progresa_data.pivot_table(index = 'age', values = 'progresa', columns = 'grc', aggfunc = 'count', margins = True)"
   ]
  },
  {
   "cell_type": "markdown",
   "metadata": {
    "ein.tags": [
     "worksheet-0"
    ],
    "slideshow": {
     "slide_type": "-"
    }
   },
   "source": [
    "### 2.2 Simple differences: Regression\n",
    "\n",
    "Estimate the effects of Progresa on enrollment using a regression model, by regressing the 1998 enrollment rates **of the poor** on treatment assignment. Discuss the following:\n",
    "\n",
    "* Based on this model, how much did Progresa increase the likelihood of a child enrolling?\n",
    "* How does your regression estimate compare to your t-test estimate from part 2.1?\n",
    "* Based on this regression model, can we reject the null hypothesis that the treatment effects are zero? \n",
    "* What is the counterfactual assumption underlying this regression?"
   ]
  },
  {
   "cell_type": "code",
   "execution_count": 0,
   "metadata": {
    "autoscroll": "json-false",
    "collapsed": false,
    "ein.tags": [
     "worksheet-0"
    ],
    "slideshow": {
     "slide_type": "-"
    }
   },
   "outputs": [],
   "source": []
  },
  {
   "cell_type": "markdown",
   "metadata": {
    "ein.tags": [
     "worksheet-0"
    ],
    "slideshow": {
     "slide_type": "-"
    }
   },
   "source": [
    "### 2.3 Multiple Regression\n",
    "\n",
    "Re-run the above regression estimated but this time include a set of control variables. Include, for instance, age, distance to a secondary school, gender, education of household head, indigenous, etc.\n",
    "\n",
    "* How do the controls affect the point estimate of treatment effect?\n",
    "* How do the controls affect the standard error on the treatment effect? \n",
    "* How do you interpret the differences (or similarities) between your estimates of 2.2 and 2.3?"
   ]
  },
  {
   "cell_type": "code",
   "execution_count": 0,
   "metadata": {
    "autoscroll": "json-false",
    "collapsed": false,
    "ein.tags": [
     "worksheet-0"
    ],
    "slideshow": {
     "slide_type": "-"
    }
   },
   "outputs": [],
   "source": []
  },
  {
   "cell_type": "markdown",
   "metadata": {
    "ein.tags": [
     "worksheet-0"
    ],
    "slideshow": {
     "slide_type": "-"
    }
   },
   "source": [
    "### 2.4 Difference-in-Difference, version 1 (tabular)\n",
    "\n",
    "Thus far, we have computed the effects of Progresa by estimating the difference in 1998 enrollment rates across villages. An alternative approach would be to compute the treatment effect using a difference-in-differences framework.\n",
    "\n",
    "Begin by estimating the average treatment effects of the program for poor households using data from 1997 and 1998. Specifically, calculate the difference (between 1997 and 1998) in enrollment rates among poor households in treated villages; then compute the difference (between 1997 and 1998) in enrollment rates among poor households in control villages'.\n",
    "* What is your estimate of the impact, and how does it compare to your earlier (simple difference) results?\n",
    "* What is the counterfactual assumption underlying this estimate? \n"
   ]
  },
  {
   "cell_type": "code",
   "execution_count": 0,
   "metadata": {
    "autoscroll": "json-false",
    "collapsed": false,
    "ein.tags": [
     "worksheet-0"
    ],
    "slideshow": {
     "slide_type": "-"
    }
   },
   "outputs": [],
   "source": []
  },
  {
   "cell_type": "markdown",
   "metadata": {
    "ein.tags": [
     "worksheet-0"
    ],
    "slideshow": {
     "slide_type": "-"
    }
   },
   "source": [
    "### 2.5 Difference-in-Difference, version 1 (regression)\n",
    "\n",
    "Now use a regression specification to estimate the average treatment effect of the program (on the poor) in a difference-in-differences framework. Include at least 5 control variables.\n",
    "\n",
    "* What is your estimate of the impact of Progresa? Be very specific in interpreting your coefficients and standard errors, and make sure to specify exactly what units you are measuring and estimating.\n",
    "* How do these estimates of the treatment effect compare to the estimates based on the simple difference?\n",
    "* How do these estimates compare to the difference-in-difference estimates from 2.4 above? What accounts for these differences?\n",
    "* What is the counterfactual assumption underlying this regression? "
   ]
  },
  {
   "cell_type": "code",
   "execution_count": 0,
   "metadata": {
    "autoscroll": "json-false",
    "collapsed": false,
    "ein.tags": [
     "worksheet-0"
    ],
    "slideshow": {
     "slide_type": "-"
    }
   },
   "outputs": [],
   "source": []
  },
  {
   "cell_type": "markdown",
   "metadata": {
    "ein.tags": [
     "worksheet-0"
    ],
    "slideshow": {
     "slide_type": "-"
    }
   },
   "source": [
    "### 2.6 Difference-in-Difference, version 2\n",
    "\n",
    "In the previous problem, you estimated a difference-in-differences model that compared changes in enrollment rates over time across treatment and control villages. An alternative approach would be to compare enrollment rates in 1998 between poor and non-poor across treatment and control villages. \n",
    "\n",
    "* How would we estimate this version of the treatment effects in a regression model? \n",
    "* What is the counterfactual assumption underlying this regression?\n",
    "* How do these treatment effects compare to the estimates above?\n",
    "* Discuss some possible explanations for differences or similarities "
   ]
  },
  {
   "cell_type": "code",
   "execution_count": 0,
   "metadata": {
    "autoscroll": "json-false",
    "collapsed": false,
    "ein.tags": [
     "worksheet-0"
    ],
    "slideshow": {
     "slide_type": "-"
    }
   },
   "outputs": [],
   "source": []
  },
  {
   "cell_type": "markdown",
   "metadata": {
    "ein.tags": [
     "worksheet-0"
    ],
    "slideshow": {
     "slide_type": "-"
    }
   },
   "source": [
    "### 2.7 Spillover effects (extra credit)\n",
    "\n",
    "Thus far, we have focused on the impact of PROGRESA on poor households. Repeat your analysis in 2.5, using a double-difference regression to estimate the impact of PROGRESA on non-poor households. In other words, compare the difference in enrollments between 1997 and 1998 for non-poor households in treatment villages with the difference in enrollments between 1997 and 1998 for non-poor households in control villages.\n",
    "\n",
    "* A: Describe one or two reasons why PROGRESA might have impacted non-poor households.\n",
    "* B: Do you observe any impacts of PROGRESA on the non-poor?\n",
    "* C: What is the identifying assumption that you are using to estimate the impact of PROGRESA on non-poor households."
   ]
  },
  {
   "cell_type": "code",
   "execution_count": 0,
   "metadata": {
    "autoscroll": "json-false",
    "collapsed": false,
    "ein.tags": [
     "worksheet-0"
    ],
    "slideshow": {
     "slide_type": "-"
    }
   },
   "outputs": [],
   "source": []
  },
  {
   "cell_type": "markdown",
   "metadata": {
    "ein.tags": [
     "worksheet-0"
    ],
    "slideshow": {
     "slide_type": "-"
    }
   },
   "source": [
    "### 2.8 Summary\n",
    "\n",
    "Based on all the analysis you have undertaken to date, do you thik that Progresa had a causal impact on the enrollment rates of poor households in Mexico?"
   ]
  },
  {
   "cell_type": "code",
   "execution_count": 0,
   "metadata": {
    "autoscroll": "json-false",
    "collapsed": false,
    "ein.tags": [
     "worksheet-0"
    ],
    "slideshow": {
     "slide_type": "-"
    }
   },
   "outputs": [],
   "source": []
  }
 ],
 "metadata": {
  "kernelspec": {
   "display_name": "Python 2",
   "language": "python",
   "name": "python2"
  },
  "language_info": {
   "codemirror_mode": {
    "name": "ipython",
    "version": 2
   },
   "file_extension": ".py",
   "mimetype": "text/x-python",
   "name": "python",
   "nbconvert_exporter": "python",
   "pygments_lexer": "ipython2",
   "version": "2.7.11"
  },
  "name": "ps2.ipynb"
 },
 "nbformat": 4,
 "nbformat_minor": 2
}
