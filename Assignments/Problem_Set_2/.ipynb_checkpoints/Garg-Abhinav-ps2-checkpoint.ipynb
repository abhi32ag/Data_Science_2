{
 "cells": [
  {
   "cell_type": "markdown",
   "metadata": {
    "ein.tags": [
     "worksheet-0"
    ],
    "slideshow": {
     "slide_type": "-"
    }
   },
   "source": [
    "# Problem Set 2, due April 27th at 3:30 pm\n",
    "\n",
    "**Please Note:** This assignment will likely take you a _long_ time, especially if you are new to Python. Start early!"
   ]
  },
  {
   "cell_type": "markdown",
   "metadata": {
    "ein.tags": [
     "worksheet-0"
    ],
    "slideshow": {
     "slide_type": "-"
    }
   },
   "source": [
    "## Introduction to the assignment\n",
    "\n",
    "For this assignment, you will be using data from the [Progresa program](http://en.wikipedia.org/wiki/Oportunidades), a government social assistance program in Mexico. This program, as well as the details of its impact, are described in the paper \"[School subsidies for the poor: evaluating the Mexican Progresa poverty program](http://www.sciencedirect.com/science/article/pii/S0304387803001858)\", by Paul Shultz (available on Canvas). Please familiarize yourself with the PROGRESA program before beginning this problem set, so you have a rough sense of where the data come from and how they were generated. If you just proceed into the problem set without understanding Progresa or the data, it will be very difficult!\n",
    "\n",
    "The goal of this problem set is to implement some of the basic econometric techniques that you are learning in class to measure the impact of Progresa on secondary school enrollment rates. The timeline of the program was:\n",
    "\n",
    " * Baseline survey conducted in 1997\n",
    " * Intervention begins in 1998, \"Wave 1\" of data collected in 1998\n",
    " * \"Wave 2 of data\" collected in 1999\n",
    " * Evaluation ends in 2000, at which point the control villages were treated. \n",
    " \n",
    "When you are ready, download the progresa_sample.csv data from Canvas. The data are actual data collected to evaluate the impact of the Progresa program.  In this file, each row corresponds to an observation taken for a given child for a given year. There are two years of data (1997 and 1998), and just under 40,000 children who are surveyed in each year. For each child-year observation, the following variables are collected:\n",
    "\n",
    "| Variable name | Description|\n",
    "|---------|---------|\n",
    "|year\t  |year in which data is collected\n",
    "|sex\t  |male = 1|\n",
    "|indig\t  |indigenous = 1|\n",
    "|dist_sec |nearest distance to a secondary school|\n",
    "|sc\t      |enrolled in school in year of survey|\n",
    "|grc      |grade enrolled|\n",
    "|fam_n    |family size|\n",
    "|min_dist |\tmin distance to an urban center|\n",
    "|dist_cap |\tmin distance to the capital|\n",
    "|poor     |\tpoor = 'pobre'|\n",
    "|progresa |treatment = 'basal'|\n",
    "|hohedu\t  |years of schooling of head of household|\n",
    "|hohwag\t  |monthly wages of head of household|\n",
    "|welfare_index|\twelfare index used to classify poor|\n",
    "|hohsex\t  |gender of head of household (male=1)|\n",
    "|hohage   |age of head of household|\n",
    "|age      |years old|\n",
    "|folnum\t  |individual id|\n",
    "|village  |\tvillage id|\n",
    "|sc97\t  |schooling in 1997|"
   ]
  },
  {
   "cell_type": "code",
   "execution_count": 1,
   "metadata": {
    "autoscroll": "json-false",
    "collapsed": false,
    "ein.tags": [
     "worksheet-0"
    ],
    "slideshow": {
     "slide_type": "-"
    }
   },
   "outputs": [
    {
     "name": "stdout",
     "output_type": "stream",
     "text": [
      "2.7.11 |Anaconda 4.0.0 (x86_64)| (default, Dec  6 2015, 18:57:58) \n",
      "[GCC 4.2.1 (Apple Inc. build 5577)]\n"
     ]
    }
   ],
   "source": [
    "import sys; print(sys.version)\n",
    "%matplotlib inline\n"
   ]
  },
  {
   "cell_type": "code",
   "execution_count": 2,
   "metadata": {
    "collapsed": true
   },
   "outputs": [],
   "source": [
    "import pandas as pd \n",
    "import numpy as np \n",
    "import seaborn as sns; sns.set()\n",
    "%matplotlib inline\n",
    "import matplotlib.pyplot as plt\n",
    "import sklearn "
   ]
  },
  {
   "cell_type": "code",
   "execution_count": 22,
   "metadata": {
    "collapsed": false
   },
   "outputs": [
    {
     "data": {
      "text/html": [
       "<div>\n",
       "<table border=\"1\" class=\"dataframe\">\n",
       "  <thead>\n",
       "    <tr style=\"text-align: right;\">\n",
       "      <th></th>\n",
       "      <th>year</th>\n",
       "      <th>sex</th>\n",
       "      <th>indig</th>\n",
       "      <th>dist_sec</th>\n",
       "      <th>sc</th>\n",
       "      <th>grc</th>\n",
       "      <th>fam_n</th>\n",
       "      <th>min_dist</th>\n",
       "      <th>dist_cap</th>\n",
       "      <th>poor</th>\n",
       "      <th>...</th>\n",
       "      <th>hohedu</th>\n",
       "      <th>hohwag</th>\n",
       "      <th>welfare_index</th>\n",
       "      <th>hohsex</th>\n",
       "      <th>hohage</th>\n",
       "      <th>age</th>\n",
       "      <th>village</th>\n",
       "      <th>folnum</th>\n",
       "      <th>grc97</th>\n",
       "      <th>sc97</th>\n",
       "    </tr>\n",
       "  </thead>\n",
       "  <tbody>\n",
       "    <tr>\n",
       "      <th>0</th>\n",
       "      <td>97</td>\n",
       "      <td>0.0</td>\n",
       "      <td>0.0</td>\n",
       "      <td>4.473</td>\n",
       "      <td>1.0</td>\n",
       "      <td>7.0</td>\n",
       "      <td>7</td>\n",
       "      <td>21.168384</td>\n",
       "      <td>21.168384</td>\n",
       "      <td>pobre</td>\n",
       "      <td>...</td>\n",
       "      <td>6</td>\n",
       "      <td>0.0</td>\n",
       "      <td>583.0</td>\n",
       "      <td>1.0</td>\n",
       "      <td>35.0</td>\n",
       "      <td>13</td>\n",
       "      <td>163</td>\n",
       "      <td>1</td>\n",
       "      <td>7</td>\n",
       "      <td>1.0</td>\n",
       "    </tr>\n",
       "    <tr>\n",
       "      <th>1</th>\n",
       "      <td>98</td>\n",
       "      <td>0.0</td>\n",
       "      <td>0.0</td>\n",
       "      <td>4.473</td>\n",
       "      <td>1.0</td>\n",
       "      <td>8.0</td>\n",
       "      <td>7</td>\n",
       "      <td>21.168384</td>\n",
       "      <td>21.168384</td>\n",
       "      <td>pobre</td>\n",
       "      <td>...</td>\n",
       "      <td>6</td>\n",
       "      <td>0.0</td>\n",
       "      <td>583.0</td>\n",
       "      <td>1.0</td>\n",
       "      <td>35.0</td>\n",
       "      <td>14</td>\n",
       "      <td>163</td>\n",
       "      <td>1</td>\n",
       "      <td>7</td>\n",
       "      <td>1.0</td>\n",
       "    </tr>\n",
       "    <tr>\n",
       "      <th>2</th>\n",
       "      <td>97</td>\n",
       "      <td>1.0</td>\n",
       "      <td>0.0</td>\n",
       "      <td>4.473</td>\n",
       "      <td>1.0</td>\n",
       "      <td>6.0</td>\n",
       "      <td>7</td>\n",
       "      <td>21.168384</td>\n",
       "      <td>21.168384</td>\n",
       "      <td>pobre</td>\n",
       "      <td>...</td>\n",
       "      <td>6</td>\n",
       "      <td>0.0</td>\n",
       "      <td>583.0</td>\n",
       "      <td>1.0</td>\n",
       "      <td>35.0</td>\n",
       "      <td>12</td>\n",
       "      <td>163</td>\n",
       "      <td>2</td>\n",
       "      <td>6</td>\n",
       "      <td>1.0</td>\n",
       "    </tr>\n",
       "    <tr>\n",
       "      <th>3</th>\n",
       "      <td>98</td>\n",
       "      <td>1.0</td>\n",
       "      <td>0.0</td>\n",
       "      <td>4.473</td>\n",
       "      <td>1.0</td>\n",
       "      <td>7.0</td>\n",
       "      <td>7</td>\n",
       "      <td>21.168384</td>\n",
       "      <td>21.168384</td>\n",
       "      <td>pobre</td>\n",
       "      <td>...</td>\n",
       "      <td>6</td>\n",
       "      <td>0.0</td>\n",
       "      <td>583.0</td>\n",
       "      <td>1.0</td>\n",
       "      <td>35.0</td>\n",
       "      <td>13</td>\n",
       "      <td>163</td>\n",
       "      <td>2</td>\n",
       "      <td>6</td>\n",
       "      <td>1.0</td>\n",
       "    </tr>\n",
       "    <tr>\n",
       "      <th>4</th>\n",
       "      <td>97</td>\n",
       "      <td>0.0</td>\n",
       "      <td>0.0</td>\n",
       "      <td>4.473</td>\n",
       "      <td>1.0</td>\n",
       "      <td>2.0</td>\n",
       "      <td>7</td>\n",
       "      <td>21.168384</td>\n",
       "      <td>21.168384</td>\n",
       "      <td>pobre</td>\n",
       "      <td>...</td>\n",
       "      <td>6</td>\n",
       "      <td>0.0</td>\n",
       "      <td>583.0</td>\n",
       "      <td>1.0</td>\n",
       "      <td>35.0</td>\n",
       "      <td>8</td>\n",
       "      <td>163</td>\n",
       "      <td>3</td>\n",
       "      <td>2</td>\n",
       "      <td>1.0</td>\n",
       "    </tr>\n",
       "  </tbody>\n",
       "</table>\n",
       "<p>5 rows × 21 columns</p>\n",
       "</div>"
      ],
      "text/plain": [
       "   year  sex  indig  dist_sec   sc  grc  fam_n   min_dist   dist_cap   poor  \\\n",
       "0    97  0.0    0.0     4.473  1.0  7.0      7  21.168384  21.168384  pobre   \n",
       "1    98  0.0    0.0     4.473  1.0  8.0      7  21.168384  21.168384  pobre   \n",
       "2    97  1.0    0.0     4.473  1.0  6.0      7  21.168384  21.168384  pobre   \n",
       "3    98  1.0    0.0     4.473  1.0  7.0      7  21.168384  21.168384  pobre   \n",
       "4    97  0.0    0.0     4.473  1.0  2.0      7  21.168384  21.168384  pobre   \n",
       "\n",
       "   ...  hohedu  hohwag  welfare_index  hohsex  hohage  age  village  folnum  \\\n",
       "0  ...       6     0.0          583.0     1.0    35.0   13      163       1   \n",
       "1  ...       6     0.0          583.0     1.0    35.0   14      163       1   \n",
       "2  ...       6     0.0          583.0     1.0    35.0   12      163       2   \n",
       "3  ...       6     0.0          583.0     1.0    35.0   13      163       2   \n",
       "4  ...       6     0.0          583.0     1.0    35.0    8      163       3   \n",
       "\n",
       "   grc97  sc97  \n",
       "0      7   1.0  \n",
       "1      7   1.0  \n",
       "2      6   1.0  \n",
       "3      6   1.0  \n",
       "4      2   1.0  \n",
       "\n",
       "[5 rows x 21 columns]"
      ]
     },
     "execution_count": 22,
     "metadata": {},
     "output_type": "execute_result"
    }
   ],
   "source": [
    "progresa_data = pd.read_csv('/Users/abhi/Documents/UW/Courses/Spring_Quarter_17/INFX-574/data/Problem_Set_2/progresa_sample.csv')\n",
    "progresa_data.head()"
   ]
  },
  {
   "cell_type": "markdown",
   "metadata": {
    "ein.tags": [
     "worksheet-0"
    ],
    "slideshow": {
     "slide_type": "-"
    }
   },
   "source": [
    "---\n",
    "##Part 1: Descriptive analysis\n",
    "\n",
    "### 1.1\tSummary Statistics\n",
    "\n",
    "a) Present number of missing observations for every single variable\n"
   ]
  },
  {
   "cell_type": "code",
   "execution_count": 4,
   "metadata": {
    "autoscroll": "json-false",
    "collapsed": false,
    "ein.tags": [
     "worksheet-0"
    ],
    "slideshow": {
     "slide_type": "-"
    }
   },
   "outputs": [
    {
     "data": {
      "text/plain": [
       "year                0\n",
       "sex                24\n",
       "indig             300\n",
       "dist_sec            0\n",
       "sc               8453\n",
       "grc              6549\n",
       "fam_n               0\n",
       "min_dist            0\n",
       "dist_cap            0\n",
       "poor                0\n",
       "progresa            0\n",
       "hohedu              0\n",
       "hohwag              0\n",
       "welfare_index     210\n",
       "hohsex             20\n",
       "hohage             10\n",
       "age                 0\n",
       "village             0\n",
       "folnum              0\n",
       "grc97               0\n",
       "sc97             3872\n",
       "dtype: int64"
      ]
     },
     "execution_count": 4,
     "metadata": {},
     "output_type": "execute_result"
    }
   ],
   "source": [
    "progresa_data.isnull().sum(axis = 0)"
   ]
  },
  {
   "cell_type": "raw",
   "metadata": {},
   "source": [
    "Here we find the missing values using the isnull function and sum across all the rows to obtain the number of missing values in each variable "
   ]
  },
  {
   "cell_type": "markdown",
   "metadata": {
    "ein.tags": [
     "worksheet-0"
    ],
    "slideshow": {
     "slide_type": "-"
    }
   },
   "source": [
    "b) Present summary statistics (mean and standard deviation) for all of the demographic variables in the dataset (i.e., everything except year, folnum, village). Present these in a single table alphabetized by variable name. Do NOT simply expect the grader to scroll through your output!"
   ]
  },
  {
   "cell_type": "code",
   "execution_count": 5,
   "metadata": {
    "autoscroll": "json-false",
    "collapsed": false,
    "ein.tags": [
     "worksheet-0"
    ],
    "slideshow": {
     "slide_type": "-"
    }
   },
   "outputs": [
    {
     "name": "stderr",
     "output_type": "stream",
     "text": [
      "/anaconda/envs/gl-env/lib/python2.7/site-packages/ipykernel/__main__.py:1: FutureWarning: using '-' to provide set differences with Indexes is deprecated, use .difference()\n",
      "  if __name__ == '__main__':\n"
     ]
    },
    {
     "data": {
      "text/html": [
       "<div>\n",
       "<table border=\"1\" class=\"dataframe\">\n",
       "  <thead>\n",
       "    <tr style=\"text-align: right;\">\n",
       "      <th></th>\n",
       "      <th>age</th>\n",
       "      <th>dist_cap</th>\n",
       "      <th>dist_sec</th>\n",
       "      <th>fam_n</th>\n",
       "      <th>grc</th>\n",
       "      <th>grc97</th>\n",
       "      <th>hohage</th>\n",
       "      <th>hohedu</th>\n",
       "      <th>hohsex</th>\n",
       "      <th>hohwag</th>\n",
       "      <th>indig</th>\n",
       "      <th>min_dist</th>\n",
       "      <th>sc</th>\n",
       "      <th>sc97</th>\n",
       "      <th>sex</th>\n",
       "      <th>welfare_index</th>\n",
       "    </tr>\n",
       "  </thead>\n",
       "  <tbody>\n",
       "    <tr>\n",
       "      <th>count</th>\n",
       "      <td>77250.000000</td>\n",
       "      <td>77250.000000</td>\n",
       "      <td>77250.000000</td>\n",
       "      <td>77250.000000</td>\n",
       "      <td>70701.000000</td>\n",
       "      <td>77250.000000</td>\n",
       "      <td>77240.000000</td>\n",
       "      <td>77250.000000</td>\n",
       "      <td>77230.000000</td>\n",
       "      <td>77250.000000</td>\n",
       "      <td>76950.000000</td>\n",
       "      <td>77250.000000</td>\n",
       "      <td>68797.000000</td>\n",
       "      <td>73378.000000</td>\n",
       "      <td>77226.000000</td>\n",
       "      <td>77040.000000</td>\n",
       "    </tr>\n",
       "    <tr>\n",
       "      <th>mean</th>\n",
       "      <td>11.366460</td>\n",
       "      <td>147.674452</td>\n",
       "      <td>2.418910</td>\n",
       "      <td>7.215715</td>\n",
       "      <td>3.963537</td>\n",
       "      <td>3.705372</td>\n",
       "      <td>44.436717</td>\n",
       "      <td>2.768104</td>\n",
       "      <td>0.925185</td>\n",
       "      <td>586.985312</td>\n",
       "      <td>0.298324</td>\n",
       "      <td>103.447520</td>\n",
       "      <td>0.819818</td>\n",
       "      <td>0.813922</td>\n",
       "      <td>0.512211</td>\n",
       "      <td>690.346564</td>\n",
       "    </tr>\n",
       "    <tr>\n",
       "      <th>std</th>\n",
       "      <td>3.167744</td>\n",
       "      <td>76.063134</td>\n",
       "      <td>2.234109</td>\n",
       "      <td>2.352900</td>\n",
       "      <td>2.499063</td>\n",
       "      <td>2.572387</td>\n",
       "      <td>11.620372</td>\n",
       "      <td>2.656106</td>\n",
       "      <td>0.263095</td>\n",
       "      <td>788.133664</td>\n",
       "      <td>0.457525</td>\n",
       "      <td>42.089441</td>\n",
       "      <td>0.384342</td>\n",
       "      <td>0.389172</td>\n",
       "      <td>0.499854</td>\n",
       "      <td>139.491130</td>\n",
       "    </tr>\n",
       "    <tr>\n",
       "      <th>min</th>\n",
       "      <td>6.000000</td>\n",
       "      <td>9.465392</td>\n",
       "      <td>0.000000</td>\n",
       "      <td>1.000000</td>\n",
       "      <td>0.000000</td>\n",
       "      <td>0.000000</td>\n",
       "      <td>15.000000</td>\n",
       "      <td>0.000000</td>\n",
       "      <td>0.000000</td>\n",
       "      <td>0.000000</td>\n",
       "      <td>0.000000</td>\n",
       "      <td>9.465392</td>\n",
       "      <td>0.000000</td>\n",
       "      <td>0.000000</td>\n",
       "      <td>0.000000</td>\n",
       "      <td>180.000000</td>\n",
       "    </tr>\n",
       "    <tr>\n",
       "      <th>25%</th>\n",
       "      <td>9.000000</td>\n",
       "      <td>92.327050</td>\n",
       "      <td>0.574000</td>\n",
       "      <td>6.000000</td>\n",
       "      <td>2.000000</td>\n",
       "      <td>1.000000</td>\n",
       "      <td>36.000000</td>\n",
       "      <td>0.000000</td>\n",
       "      <td>1.000000</td>\n",
       "      <td>120.000000</td>\n",
       "      <td>0.000000</td>\n",
       "      <td>70.518238</td>\n",
       "      <td>1.000000</td>\n",
       "      <td>1.000000</td>\n",
       "      <td>0.000000</td>\n",
       "      <td>597.000000</td>\n",
       "    </tr>\n",
       "    <tr>\n",
       "      <th>50%</th>\n",
       "      <td>11.000000</td>\n",
       "      <td>132.001494</td>\n",
       "      <td>2.279000</td>\n",
       "      <td>7.000000</td>\n",
       "      <td>4.000000</td>\n",
       "      <td>4.000000</td>\n",
       "      <td>43.000000</td>\n",
       "      <td>2.000000</td>\n",
       "      <td>1.000000</td>\n",
       "      <td>500.000000</td>\n",
       "      <td>0.000000</td>\n",
       "      <td>111.228612</td>\n",
       "      <td>1.000000</td>\n",
       "      <td>1.000000</td>\n",
       "      <td>1.000000</td>\n",
       "      <td>685.000000</td>\n",
       "    </tr>\n",
       "    <tr>\n",
       "      <th>75%</th>\n",
       "      <td>14.000000</td>\n",
       "      <td>184.445225</td>\n",
       "      <td>3.582000</td>\n",
       "      <td>9.000000</td>\n",
       "      <td>6.000000</td>\n",
       "      <td>6.000000</td>\n",
       "      <td>51.000000</td>\n",
       "      <td>4.000000</td>\n",
       "      <td>1.000000</td>\n",
       "      <td>750.000000</td>\n",
       "      <td>1.000000</td>\n",
       "      <td>138.446009</td>\n",
       "      <td>1.000000</td>\n",
       "      <td>1.000000</td>\n",
       "      <td>1.000000</td>\n",
       "      <td>770.000000</td>\n",
       "    </tr>\n",
       "    <tr>\n",
       "      <th>max</th>\n",
       "      <td>17.000000</td>\n",
       "      <td>359.774457</td>\n",
       "      <td>14.879000</td>\n",
       "      <td>24.000000</td>\n",
       "      <td>14.000000</td>\n",
       "      <td>14.000000</td>\n",
       "      <td>98.000000</td>\n",
       "      <td>20.000000</td>\n",
       "      <td>1.000000</td>\n",
       "      <td>14000.000000</td>\n",
       "      <td>1.000000</td>\n",
       "      <td>170.457647</td>\n",
       "      <td>1.000000</td>\n",
       "      <td>1.000000</td>\n",
       "      <td>1.000000</td>\n",
       "      <td>1294.000000</td>\n",
       "    </tr>\n",
       "  </tbody>\n",
       "</table>\n",
       "</div>"
      ],
      "text/plain": [
       "                age      dist_cap      dist_sec         fam_n           grc  \\\n",
       "count  77250.000000  77250.000000  77250.000000  77250.000000  70701.000000   \n",
       "mean      11.366460    147.674452      2.418910      7.215715      3.963537   \n",
       "std        3.167744     76.063134      2.234109      2.352900      2.499063   \n",
       "min        6.000000      9.465392      0.000000      1.000000      0.000000   \n",
       "25%        9.000000     92.327050      0.574000      6.000000      2.000000   \n",
       "50%       11.000000    132.001494      2.279000      7.000000      4.000000   \n",
       "75%       14.000000    184.445225      3.582000      9.000000      6.000000   \n",
       "max       17.000000    359.774457     14.879000     24.000000     14.000000   \n",
       "\n",
       "              grc97        hohage        hohedu        hohsex        hohwag  \\\n",
       "count  77250.000000  77240.000000  77250.000000  77230.000000  77250.000000   \n",
       "mean       3.705372     44.436717      2.768104      0.925185    586.985312   \n",
       "std        2.572387     11.620372      2.656106      0.263095    788.133664   \n",
       "min        0.000000     15.000000      0.000000      0.000000      0.000000   \n",
       "25%        1.000000     36.000000      0.000000      1.000000    120.000000   \n",
       "50%        4.000000     43.000000      2.000000      1.000000    500.000000   \n",
       "75%        6.000000     51.000000      4.000000      1.000000    750.000000   \n",
       "max       14.000000     98.000000     20.000000      1.000000  14000.000000   \n",
       "\n",
       "              indig      min_dist            sc          sc97           sex  \\\n",
       "count  76950.000000  77250.000000  68797.000000  73378.000000  77226.000000   \n",
       "mean       0.298324    103.447520      0.819818      0.813922      0.512211   \n",
       "std        0.457525     42.089441      0.384342      0.389172      0.499854   \n",
       "min        0.000000      9.465392      0.000000      0.000000      0.000000   \n",
       "25%        0.000000     70.518238      1.000000      1.000000      0.000000   \n",
       "50%        0.000000    111.228612      1.000000      1.000000      1.000000   \n",
       "75%        1.000000    138.446009      1.000000      1.000000      1.000000   \n",
       "max        1.000000    170.457647      1.000000      1.000000      1.000000   \n",
       "\n",
       "       welfare_index  \n",
       "count   77040.000000  \n",
       "mean      690.346564  \n",
       "std       139.491130  \n",
       "min       180.000000  \n",
       "25%       597.000000  \n",
       "50%       685.000000  \n",
       "75%       770.000000  \n",
       "max      1294.000000  "
      ]
     },
     "execution_count": 5,
     "metadata": {},
     "output_type": "execute_result"
    }
   ],
   "source": [
    "x = progresa_data.columns - ['year', 'folnum', 'village']\n",
    "d= progresa_data[x].describe()\n",
    "d"
   ]
  },
  {
   "cell_type": "code",
   "execution_count": 6,
   "metadata": {
    "collapsed": false
   },
   "outputs": [
    {
     "data": {
      "text/html": [
       "<div>\n",
       "<table border=\"1\" class=\"dataframe\">\n",
       "  <thead>\n",
       "    <tr style=\"text-align: right;\">\n",
       "      <th></th>\n",
       "      <th>mean</th>\n",
       "      <th>std</th>\n",
       "    </tr>\n",
       "  </thead>\n",
       "  <tbody>\n",
       "    <tr>\n",
       "      <th>age</th>\n",
       "      <td>11.366460</td>\n",
       "      <td>3.167744</td>\n",
       "    </tr>\n",
       "    <tr>\n",
       "      <th>dist_cap</th>\n",
       "      <td>147.674452</td>\n",
       "      <td>76.063134</td>\n",
       "    </tr>\n",
       "    <tr>\n",
       "      <th>dist_sec</th>\n",
       "      <td>2.418910</td>\n",
       "      <td>2.234109</td>\n",
       "    </tr>\n",
       "    <tr>\n",
       "      <th>fam_n</th>\n",
       "      <td>7.215715</td>\n",
       "      <td>2.352900</td>\n",
       "    </tr>\n",
       "    <tr>\n",
       "      <th>grc</th>\n",
       "      <td>3.963537</td>\n",
       "      <td>2.499063</td>\n",
       "    </tr>\n",
       "    <tr>\n",
       "      <th>grc97</th>\n",
       "      <td>3.705372</td>\n",
       "      <td>2.572387</td>\n",
       "    </tr>\n",
       "    <tr>\n",
       "      <th>hohage</th>\n",
       "      <td>44.436717</td>\n",
       "      <td>11.620372</td>\n",
       "    </tr>\n",
       "    <tr>\n",
       "      <th>hohedu</th>\n",
       "      <td>2.768104</td>\n",
       "      <td>2.656106</td>\n",
       "    </tr>\n",
       "    <tr>\n",
       "      <th>hohsex</th>\n",
       "      <td>0.925185</td>\n",
       "      <td>0.263095</td>\n",
       "    </tr>\n",
       "    <tr>\n",
       "      <th>hohwag</th>\n",
       "      <td>586.985312</td>\n",
       "      <td>788.133664</td>\n",
       "    </tr>\n",
       "    <tr>\n",
       "      <th>indig</th>\n",
       "      <td>0.298324</td>\n",
       "      <td>0.457525</td>\n",
       "    </tr>\n",
       "    <tr>\n",
       "      <th>min_dist</th>\n",
       "      <td>103.447520</td>\n",
       "      <td>42.089441</td>\n",
       "    </tr>\n",
       "    <tr>\n",
       "      <th>sc</th>\n",
       "      <td>0.819818</td>\n",
       "      <td>0.384342</td>\n",
       "    </tr>\n",
       "    <tr>\n",
       "      <th>sc97</th>\n",
       "      <td>0.813922</td>\n",
       "      <td>0.389172</td>\n",
       "    </tr>\n",
       "    <tr>\n",
       "      <th>sex</th>\n",
       "      <td>0.512211</td>\n",
       "      <td>0.499854</td>\n",
       "    </tr>\n",
       "    <tr>\n",
       "      <th>welfare_index</th>\n",
       "      <td>690.346564</td>\n",
       "      <td>139.491130</td>\n",
       "    </tr>\n",
       "  </tbody>\n",
       "</table>\n",
       "</div>"
      ],
      "text/plain": [
       "                     mean         std\n",
       "age             11.366460    3.167744\n",
       "dist_cap       147.674452   76.063134\n",
       "dist_sec         2.418910    2.234109\n",
       "fam_n            7.215715    2.352900\n",
       "grc              3.963537    2.499063\n",
       "grc97            3.705372    2.572387\n",
       "hohage          44.436717   11.620372\n",
       "hohedu           2.768104    2.656106\n",
       "hohsex           0.925185    0.263095\n",
       "hohwag         586.985312  788.133664\n",
       "indig            0.298324    0.457525\n",
       "min_dist       103.447520   42.089441\n",
       "sc               0.819818    0.384342\n",
       "sc97             0.813922    0.389172\n",
       "sex              0.512211    0.499854\n",
       "welfare_index  690.346564  139.491130"
      ]
     },
     "execution_count": 6,
     "metadata": {},
     "output_type": "execute_result"
    }
   ],
   "source": [
    "mean = d[d.index == 'mean'].dropna().T\n",
    "std = d[d.index == 'std'].dropna().T\n",
    "pd.concat([mean,std], axis = 1)\n"
   ]
  },
  {
   "cell_type": "markdown",
   "metadata": {
    "ein.tags": [
     "worksheet-0"
    ],
    "slideshow": {
     "slide_type": "-"
    }
   },
   "source": [
    "### 1.2 Differences at baseline?\n",
    "\n",
    "Are the baseline (1997) demographic characteristics **for the poor**  different in treatment and control villages? Hint: Use a T-Test to determine whether there is a statistically significant difference in the average values of each of the variables in the dataset. Focus only on the data from 1997 for individuals who are poor (i.e., poor=='pobre').\n",
    "\n",
    "Present your results in a single table with the following columns and 14 (or so) rows:\n",
    "\n",
    "| Variable name | Average value (Treatment villages) | Average value (Control villages) | Difference (Treat - Control) | p-value |\n",
    "|------|------|------|------|------|\n",
    "|Male  |?     |?     |?     |?     |\n"
   ]
  },
  {
   "cell_type": "code",
   "execution_count": 7,
   "metadata": {
    "collapsed": false
   },
   "outputs": [],
   "source": [
    "import scipy as sc"
   ]
  },
  {
   "cell_type": "code",
   "execution_count": 8,
   "metadata": {
    "collapsed": false
   },
   "outputs": [],
   "source": [
    "prog = progresa_data[progresa_data['year'] == 97]\n",
    "s = prog[x]\n",
    "s = s[s['poor'] == 'pobre']\n",
    "control = s[s['progresa'] != 'basal'].dropna()\n",
    "treatment = s[s['progresa'] == 'basal'].dropna()\n",
    "d_control = control.describe()\n",
    "d_treatment = treatment.describe()\n",
    "avg_control = d_control[d_control.index == 'mean'].T\n",
    "avg_control = avg_control.rename(columns = {'mean': 'Average value (Control villages)'})\n",
    "avg_treatment = d_treatment[d_treatment.index == 'mean'].T\n",
    "avg_treatment= avg_treatment.rename(columns = {'mean': 'Average value (Treatment villages)'})\n",
    "test = pd.concat([avg_control,avg_treatment], axis = 1)"
   ]
  },
  {
   "cell_type": "code",
   "execution_count": 9,
   "metadata": {
    "collapsed": true
   },
   "outputs": [],
   "source": [
    "diff = [] \n",
    "pv = [] \n",
    "def calc_diff(s1, s2,diff, pv):\n",
    "    d, p = sc.stats.ttest_ind(s1,s2)\n",
    "    diff.append(d)\n",
    "    pv.append(p)\n",
    "    return "
   ]
  },
  {
   "cell_type": "code",
   "execution_count": 10,
   "metadata": {
    "collapsed": false
   },
   "outputs": [
    {
     "data": {
      "text/html": [
       "<div>\n",
       "<table border=\"1\" class=\"dataframe\">\n",
       "  <thead>\n",
       "    <tr style=\"text-align: right;\">\n",
       "      <th></th>\n",
       "      <th>Average value (Control villages)</th>\n",
       "      <th>Average value (Treatment villages)</th>\n",
       "      <th>diff</th>\n",
       "      <th>pv</th>\n",
       "    </tr>\n",
       "  </thead>\n",
       "  <tbody>\n",
       "    <tr>\n",
       "      <th>age</th>\n",
       "      <td>10.785586</td>\n",
       "      <td>10.743825</td>\n",
       "      <td>-1.156182</td>\n",
       "      <td>2.476155e-01</td>\n",
       "    </tr>\n",
       "    <tr>\n",
       "      <th>dist_cap</th>\n",
       "      <td>154.492095</td>\n",
       "      <td>151.801472</td>\n",
       "      <td>-2.927983</td>\n",
       "      <td>3.414194e-03</td>\n",
       "    </tr>\n",
       "    <tr>\n",
       "      <th>dist_sec</th>\n",
       "      <td>2.400687</td>\n",
       "      <td>2.399648</td>\n",
       "      <td>-0.041252</td>\n",
       "      <td>9.670949e-01</td>\n",
       "    </tr>\n",
       "    <tr>\n",
       "      <th>fam_n</th>\n",
       "      <td>7.302939</td>\n",
       "      <td>7.281032</td>\n",
       "      <td>-0.800187</td>\n",
       "      <td>4.236088e-01</td>\n",
       "    </tr>\n",
       "    <tr>\n",
       "      <th>grc</th>\n",
       "      <td>3.733653</td>\n",
       "      <td>3.709214</td>\n",
       "      <td>-0.851002</td>\n",
       "      <td>3.947750e-01</td>\n",
       "    </tr>\n",
       "    <tr>\n",
       "      <th>grc97</th>\n",
       "      <td>3.733653</td>\n",
       "      <td>3.709214</td>\n",
       "      <td>-0.851002</td>\n",
       "      <td>3.947750e-01</td>\n",
       "    </tr>\n",
       "    <tr>\n",
       "      <th>hohage</th>\n",
       "      <td>44.270717</td>\n",
       "      <td>43.631234</td>\n",
       "      <td>-4.761979</td>\n",
       "      <td>1.925767e-06</td>\n",
       "    </tr>\n",
       "    <tr>\n",
       "      <th>hohedu</th>\n",
       "      <td>2.660982</td>\n",
       "      <td>2.726729</td>\n",
       "      <td>2.224346</td>\n",
       "      <td>2.613239e-02</td>\n",
       "    </tr>\n",
       "    <tr>\n",
       "      <th>hohsex</th>\n",
       "      <td>0.923387</td>\n",
       "      <td>0.925586</td>\n",
       "      <td>0.709333</td>\n",
       "      <td>4.781232e-01</td>\n",
       "    </tr>\n",
       "    <tr>\n",
       "      <th>hohwag</th>\n",
       "      <td>580.694452</td>\n",
       "      <td>550.207086</td>\n",
       "      <td>-3.640301</td>\n",
       "      <td>2.727661e-04</td>\n",
       "    </tr>\n",
       "    <tr>\n",
       "      <th>indig</th>\n",
       "      <td>0.325306</td>\n",
       "      <td>0.316744</td>\n",
       "      <td>-1.561670</td>\n",
       "      <td>1.183760e-01</td>\n",
       "    </tr>\n",
       "    <tr>\n",
       "      <th>min_dist</th>\n",
       "      <td>103.098348</td>\n",
       "      <td>107.395231</td>\n",
       "      <td>8.766462</td>\n",
       "      <td>1.936661e-18</td>\n",
       "    </tr>\n",
       "    <tr>\n",
       "      <th>sc</th>\n",
       "      <td>0.815066</td>\n",
       "      <td>0.822697</td>\n",
       "      <td>1.689261</td>\n",
       "      <td>9.117959e-02</td>\n",
       "    </tr>\n",
       "    <tr>\n",
       "      <th>sc97</th>\n",
       "      <td>0.815066</td>\n",
       "      <td>0.822697</td>\n",
       "      <td>1.689261</td>\n",
       "      <td>9.117959e-02</td>\n",
       "    </tr>\n",
       "    <tr>\n",
       "      <th>sex</th>\n",
       "      <td>0.506556</td>\n",
       "      <td>0.520268</td>\n",
       "      <td>2.334621</td>\n",
       "      <td>1.956962e-02</td>\n",
       "    </tr>\n",
       "    <tr>\n",
       "      <th>welfare_index</th>\n",
       "      <td>661.593513</td>\n",
       "      <td>656.810476</td>\n",
       "      <td>-3.559301</td>\n",
       "      <td>3.724043e-04</td>\n",
       "    </tr>\n",
       "  </tbody>\n",
       "</table>\n",
       "</div>"
      ],
      "text/plain": [
       "               Average value (Control villages)  \\\n",
       "age                                   10.785586   \n",
       "dist_cap                             154.492095   \n",
       "dist_sec                               2.400687   \n",
       "fam_n                                  7.302939   \n",
       "grc                                    3.733653   \n",
       "grc97                                  3.733653   \n",
       "hohage                                44.270717   \n",
       "hohedu                                 2.660982   \n",
       "hohsex                                 0.923387   \n",
       "hohwag                               580.694452   \n",
       "indig                                  0.325306   \n",
       "min_dist                             103.098348   \n",
       "sc                                     0.815066   \n",
       "sc97                                   0.815066   \n",
       "sex                                    0.506556   \n",
       "welfare_index                        661.593513   \n",
       "\n",
       "               Average value (Treatment villages)      diff            pv  \n",
       "age                                     10.743825 -1.156182  2.476155e-01  \n",
       "dist_cap                               151.801472 -2.927983  3.414194e-03  \n",
       "dist_sec                                 2.399648 -0.041252  9.670949e-01  \n",
       "fam_n                                    7.281032 -0.800187  4.236088e-01  \n",
       "grc                                      3.709214 -0.851002  3.947750e-01  \n",
       "grc97                                    3.709214 -0.851002  3.947750e-01  \n",
       "hohage                                  43.631234 -4.761979  1.925767e-06  \n",
       "hohedu                                   2.726729  2.224346  2.613239e-02  \n",
       "hohsex                                   0.925586  0.709333  4.781232e-01  \n",
       "hohwag                                 550.207086 -3.640301  2.727661e-04  \n",
       "indig                                    0.316744 -1.561670  1.183760e-01  \n",
       "min_dist                               107.395231  8.766462  1.936661e-18  \n",
       "sc                                       0.822697  1.689261  9.117959e-02  \n",
       "sc97                                     0.822697  1.689261  9.117959e-02  \n",
       "sex                                      0.520268  2.334621  1.956962e-02  \n",
       "welfare_index                          656.810476 -3.559301  3.724043e-04  "
      ]
     },
     "execution_count": 10,
     "metadata": {},
     "output_type": "execute_result"
    }
   ],
   "source": [
    "for thing in test.index:\n",
    "    calc_diff(treatment[thing], control[thing], diff, pv)\n",
    "\n",
    "test['diff'] = diff\n",
    "test['pv'] = pv\n",
    "test"
   ]
  },
  {
   "cell_type": "markdown",
   "metadata": {
    "ein.tags": [
     "worksheet-0"
    ],
    "slideshow": {
     "slide_type": "-"
    }
   },
   "source": [
    "### 1.3 Interpretation\n",
    "\n",
    "* A: Are there statistically significant differences between treatment and control villages as baseline? \n",
    "* B: Why does it matter if there are differences at baseline?\n",
    "* C: What does this imply about how to measure the impact of the treatment?"
   ]
  },
  {
   "cell_type": "markdown",
   "metadata": {
    "autoscroll": "json-false",
    "collapsed": false,
    "ein.tags": [
     "worksheet-0"
    ],
    "slideshow": {
     "slide_type": "-"
    }
   },
   "source": [
    "<b> A </b> : There are a few variables that are statistically significant such as hohage whose p-value is 1.925767e-06, min_dist whose p-value is 1.936661e-18, welfare_index whose p-value is 3.724043e-04. However most of the variables aren't lesser than 0.05 and hence aren't statistically significant \n",
    "<br>\n",
    "<b> B </b> : If there are differences at the baseline then we cannot come to the conclusion that the treatment is the only reason that the treatment and control group are different from each other. If there is a difference at the baseline then it could be possible that the two groups haven't been randomized properly \n",
    "<br>\n",
    "<b> C </b> : Since there is no significant difference between the means of treatment and control groups pre-treatment i.e. at the baseline, we can say that the only way to measure impact of the treatment is to see if there is a difference post-treatment. "
   ]
  },
  {
   "cell_type": "markdown",
   "metadata": {
    "ein.tags": [
     "worksheet-0"
    ],
    "slideshow": {
     "slide_type": "-"
    }
   },
   "source": [
    "### 1.4 Graphical exploration, part 1\n",
    "\n",
    "For each level of household head education, compute the average enrollment rate in 1997. Create a scatterplot that shows this relationship. What do you notice?"
   ]
  },
  {
   "cell_type": "code",
   "execution_count": 11,
   "metadata": {
    "autoscroll": "json-false",
    "collapsed": false,
    "ein.tags": [
     "worksheet-0"
    ],
    "slideshow": {
     "slide_type": "-"
    }
   },
   "outputs": [
    {
     "data": {
      "text/plain": [
       "([<matplotlib.axis.XTick at 0x10299a1d0>,\n",
       "  <matplotlib.axis.XTick at 0x109c72a10>,\n",
       "  <matplotlib.axis.XTick at 0x1140999d0>,\n",
       "  <matplotlib.axis.XTick at 0x1140b2050>,\n",
       "  <matplotlib.axis.XTick at 0x1140b27d0>,\n",
       "  <matplotlib.axis.XTick at 0x1140b2f50>,\n",
       "  <matplotlib.axis.XTick at 0x1140bd710>,\n",
       "  <matplotlib.axis.XTick at 0x113c48610>,\n",
       "  <matplotlib.axis.XTick at 0x11404a910>,\n",
       "  <matplotlib.axis.XTick at 0x11404ae50>,\n",
       "  <matplotlib.axis.XTick at 0x11404f610>,\n",
       "  <matplotlib.axis.XTick at 0x11404fd90>,\n",
       "  <matplotlib.axis.XTick at 0x114058550>,\n",
       "  <matplotlib.axis.XTick at 0x114058cd0>,\n",
       "  <matplotlib.axis.XTick at 0x114062250>,\n",
       "  <matplotlib.axis.XTick at 0x114062990>,\n",
       "  <matplotlib.axis.XTick at 0x113d70150>,\n",
       "  <matplotlib.axis.XTick at 0x113d708d0>,\n",
       "  <matplotlib.axis.XTick at 0x113d7b090>,\n",
       "  <matplotlib.axis.XTick at 0x113d7b810>],\n",
       " <a list of 20 Text xticklabel objects>)"
      ]
     },
     "execution_count": 11,
     "metadata": {},
     "output_type": "execute_result"
    },
    {
     "data": {
      "image/png": "[encoded data removed]",
      "text/plain": [
       "<matplotlib.figure.Figure at 0x113c488d0>"
      ]
     },
     "metadata": {},
     "output_type": "display_data"
    }
   ],
   "source": [
    "scatter = prog.pivot_table(values='sc', index = 'hohedu')\n",
    "\n",
    "sframe = pd.DataFrame(scatter)\n",
    "\n",
    "sframe.reset_index().plot(kind = 'scatter', x = 'hohedu', y = 'sc')\n",
    "plt.xticks(sframe.index)"
   ]
  },
  {
   "cell_type": "markdown",
   "metadata": {},
   "source": [
    "We observe that on average the enrollment rate reduces at education level 10 and 20 which could be a transition. For egs: transitioning from secondary school to senior secondary school"
   ]
  },
  {
   "cell_type": "markdown",
   "metadata": {
    "ein.tags": [
     "worksheet-0"
    ],
    "slideshow": {
     "slide_type": "-"
    }
   },
   "source": [
    "### 1.5 Graphical exploration, part 2\n",
    "\n",
    "Create a histogram of village enrollment rates **among poor households in treated villages**, before and after treatment. Specifically, for each village, calculate the average rate of enrollment of poor households in treated villages in 1997, then compute the average rate of enrollment of poor households in treated villages in 1998. Create two separate histograms showing the distribution of these average enrollments rates, one histogram for 1997 and one histogram for 1998. On each histogram, draw a vertical line that intersects the x-axis at the average value (across all households).\n",
    "* Does there appear to be a difference? Is this difference statistically significant?\n",
    "* Which D estimator in Schultz (2004) does this approach correspond to?"
   ]
  },
  {
   "cell_type": "code",
   "execution_count": 12,
   "metadata": {
    "autoscroll": "json-false",
    "collapsed": false,
    "ein.tags": [
     "worksheet-0"
    ],
    "slideshow": {
     "slide_type": "-"
    }
   },
   "outputs": [
    {
     "name": "stdout",
     "output_type": "stream",
     "text": [
      "The average enrollment rate of poor households in treated villages in 1997 is :0.822696523153\n",
      "The average enrollment rate of poor households in treated villages in 1998 is :0.849257030578\n",
      "The difference between avg_t2 and avg_t2 is: 0.0265605074256\n"
     ]
    },
    {
     "data": {
      "image/png": "[encoded data removed]",
      "text/plain": [
       "<matplotlib.figure.Figure at 0x113bd4610>"
      ]
     },
     "metadata": {},
     "output_type": "display_data"
    }
   ],
   "source": [
    "v1 = prog[(prog['poor'] == 'pobre')&(prog['progresa'] == 'basal')].dropna()\n",
    "v2 = progresa_data[(progresa_data['poor'] == 'pobre')&(progresa_data['progresa']=='basal')&(progresa_data['year']==98)].dropna()\n",
    "all_avg_v1 = v1['sc'].mean()\n",
    "print 'The average enrollment rate of poor households in treated villages in 1997 is :{0}'.format(all_avg_v1)\n",
    "\n",
    "all_avg_v2 = v2['sc'].mean()\n",
    "print 'The average enrollment rate of poor households in treated villages in 1998 is :{0}'.format(all_avg_v2)\n",
    "\n",
    "print 'The difference between avg_t2 and avg_t2 is: {0}'.format(all_avg_v2-all_avg_v1)\n",
    "groupby_v1 = v1.pivot_table(values='sc', index='village')\n",
    "groupby_v2 = v2.pivot_table(values='sc', index='village')\n",
    "fig, ax = plt.subplots(1,1)\n",
    "fig.set_figheight(6)\n",
    "fig.set_figwidth(10)\n",
    "g1 = groupby_v1.plot(ax = ax, kind='hist', title = 'Enrollment rate in poor treated villages(1997 & 98)', alpha=0.4, figsize = (8,8))\n",
    "g1.axvline(x = all_avg_v1, linewidth = 2, color ='b', linestyle='--')\n",
    "g1.axvline(x = all_avg_v2, linewidth = 2, color ='g', linestyle='--')\n",
    "g2 = groupby_v2.plot(ax= ax, kind='hist', title = 'Enrollment rate in poor treated villages(1997 & 98)', alpha=0.3, color='g', figsize = (8,8))"
   ]
  },
  {
   "cell_type": "markdown",
   "metadata": {
    "collapsed": false
   },
   "source": [
    "<b>Part1</b>\n",
    "<br>There is a difference between the two treatment groups after the treatment was applied and this can be seen in the histrogram made above. The mean enrollment rate for the treatment group pre-treatment was 0.822696523153 and in post-treatment is 0.849257030578, thus we can see that there is an improvement in enrollment \n",
    "<br>\n",
    "<br>\n",
    "<b>Part2</b>\n",
    "<br> This is a single difference estimator where we subtract post-treatment and pre-treatment "
   ]
  },
  {
   "cell_type": "markdown",
   "metadata": {
    "ein.tags": [
     "worksheet-0"
    ],
    "slideshow": {
     "slide_type": "-"
    }
   },
   "source": [
    "## Part 2: Measuring Impact\n",
    "\n",
    "### 2.1 Simple differences: T-test\n",
    "\n",
    "Start out by estimating the impact of Progresa using \"simple differences.\" Restricting yourself to data from 1998 (after treatment).\n",
    "* calculate the average enrollment rate among **poor** households in the Treatment villages and the average enrollment rate among **poor** households in the control villages.\n",
    "* Which difference estimator in Schultz (2004) does this approach correspond to?\n",
    "* Use a t-test to determine if this difference is statistically significant. What do you conclude?"
   ]
  },
  {
   "cell_type": "markdown",
   "metadata": {},
   "source": [
    "Let's set our Null and Alternate Hypothesis. <br>\n",
    "<b>Null Hypothesis (H0) : mu1 = mu2 <br>\n",
    "Alternate Hypothesis (H1) : mu1 != mu2 </b>\n",
    "\n",
    "and consider our <b>significance level </b>to be <b>0.05</b>"
   ]
  },
  {
   "cell_type": "code",
   "execution_count": 13,
   "metadata": {
    "collapsed": false
   },
   "outputs": [
    {
     "name": "stdout",
     "output_type": "stream",
     "text": [
      "Part1\n",
      "Treatment group average enrollment rate post-treatment:0.846479121395\n",
      "Control group average enrollment rate post-treatment:0.80763695673\n",
      "[8.3587205674183735]\n",
      "[6.636344447523235e-17]\n"
     ]
    }
   ],
   "source": [
    "new_data = progresa_data[progresa_data['year'] == 98]\n",
    "new_t = new_data[(new_data['poor'] == 'pobre')&(new_data['progresa'] == 'basal')]\n",
    "new_c = new_data[(new_data['poor'] == 'pobre')&(new_data['progresa'] != 'basal')]\n",
    "avg_e_t = new_t.pivot_table(index= 'village', values = 'sc', aggfunc = 'mean')\n",
    "avg_e_x = new_c.pivot_table(index = 'village', values = 'sc', aggfunc = 'mean')\n",
    "print 'Part1'\n",
    "print 'Treatment group average enrollment rate post-treatment:{0}'.format(new_t['sc'].dropna().mean())\n",
    "print 'Control group average enrollment rate post-treatment:{0}'.format(new_c['sc'].dropna().mean())\n",
    "t = []\n",
    "p = [] \n",
    "calc_diff(new_t['sc'].dropna(), new_c['sc'].dropna(), t, p)\n",
    "print t\n",
    "print p "
   ]
  },
  {
   "cell_type": "markdown",
   "metadata": {},
   "source": [
    "Part2 <br>\n",
    "The difference estimator that is used from Schultz (2004) is post-program period average (St1 - St2) <br><br>\n",
    "Part3<br>\n",
    "From above we can see that our p-value for the t-test is 6.636344447523235e-17 which is lesser than the sigficance level we chose. And thus we reject the null hypothesis and can say that there is a significant difference between the means of the two groups - the control and treatment group after PROGRESA was adopted in 1998. We can see how the mean for control group in 1998 is 0.80763695673 and the mean for treatment group is : 0.846479121395\n"
   ]
  },
  {
   "cell_type": "code",
   "execution_count": 14,
   "metadata": {
    "collapsed": false
   },
   "outputs": [
    {
     "data": {
      "image/png": "[encoded data removed]",
      "text/plain": [
       "<matplotlib.figure.Figure at 0x103d2ff50>"
      ]
     },
     "metadata": {},
     "output_type": "display_data"
    }
   ],
   "source": [
    "all_avg_t = new_t['sc'].dropna().mean()\n",
    "all_avg_c = new_c['sc'].dropna().mean()\n",
    "fig, ax = plt.subplots(1,1)\n",
    "fig.set_figheight(6)\n",
    "fig.set_figwidth(10)\n",
    "g1 = avg_e_t.plot(ax = ax, kind='hist', title = 'Enrollment rate in poor treated villages(1998)', alpha=0.4)\n",
    "g1.axvline(x = all_avg_t, linewidth = 2, color ='b', linestyle='--')\n",
    "g1.axvline(x = all_avg_c, linewidth = 2, color ='g', linestyle='--')\n",
    "g2 = avg_e_x.plot(ax= ax, kind='hist', title = 'Enrollment rate in poor treated villages(1998)', alpha=0.3, color='g')"
   ]
  },
  {
   "cell_type": "markdown",
   "metadata": {
    "ein.tags": [
     "worksheet-0"
    ],
    "slideshow": {
     "slide_type": "-"
    }
   },
   "source": [
    "### 2.2 Simple differences: Regression\n",
    "\n",
    "Estimate the effects of Progresa on enrollment using a regression model, by regressing the 1998 enrollment rates **of the poor** on treatment assignment. Discuss the following:\n",
    "\n",
    "* Based on this model, how much did Progresa increase the likelihood of a child enrolling?\n",
    "* How does your regression estimate compare to your t-test estimate from part 2.1?\n",
    "* Based on this regression model, can we reject the null hypothesis that the treatment effects are zero? \n",
    "* What is the counterfactual assumption underlying this regression?"
   ]
  },
  {
   "cell_type": "code",
   "execution_count": 15,
   "metadata": {
    "autoscroll": "json-false",
    "collapsed": false,
    "ein.tags": [
     "worksheet-0"
    ],
    "slideshow": {
     "slide_type": "-"
    }
   },
   "outputs": [],
   "source": [
    "# converting the progresa column to binary for sake of regression \n",
    "\n",
    "def convert_to_binary(progres):\n",
    "        if progres == 'basal':\n",
    "            return 1\n",
    "        else:\n",
    "            return 0\n",
    "\n",
    "X = np.matrix([convert_to_binary(progres) for progres in new_data.dropna()['progresa']]).T\n",
    "y = np.matrix(new_data.dropna()['sc']).T\n",
    "\n",
    "# now let's create a Linear Regression Model using scikit-learn \n",
    "from sklearn.linear_model import LinearRegression\n",
    "lm = LinearRegression()\n",
    "lm.fit(X,y)\n",
    "params = np.append(lm.intercept_,lm.coef_)\n",
    "predictions = lm.predict(X)"
   ]
  },
  {
   "cell_type": "code",
   "execution_count": 16,
   "metadata": {
    "collapsed": false
   },
   "outputs": [
    {
     "name": "stdout",
     "output_type": "stream",
     "text": [
      "                            OLS Regression Results                            \n",
      "==============================================================================\n",
      "Dep. Variable:                      y   R-squared:                       0.002\n",
      "Model:                            OLS   Adj. R-squared:                  0.002\n",
      "Method:                 Least Squares   F-statistic:                     71.58\n",
      "Date:                Sun, 30 Apr 2017   Prob (F-statistic):           2.78e-17\n",
      "Time:                        18:49:33   Log-Likelihood:                -13483.\n",
      "No. Observations:               30665   AIC:                         2.697e+04\n",
      "Df Residuals:                   30663   BIC:                         2.699e+04\n",
      "Df Model:                           1                                         \n",
      "Covariance Type:            nonrobust                                         \n",
      "==============================================================================\n",
      "                 coef    std err          t      P>|t|      [95.0% Conf. Int.]\n",
      "------------------------------------------------------------------------------\n",
      "const          0.8064      0.003    231.843      0.000         0.800     0.813\n",
      "x1             0.0374      0.004      8.461      0.000         0.029     0.046\n",
      "==============================================================================\n",
      "Omnibus:                     8365.576   Durbin-Watson:                   1.736\n",
      "Prob(Omnibus):                  0.000   Jarque-Bera (JB):            17049.644\n",
      "Skew:                          -1.747   Prob(JB):                         0.00\n",
      "Kurtosis:                       4.068   Cond. No.                         3.00\n",
      "==============================================================================\n",
      "\n",
      "Warnings:\n",
      "[1] Standard Errors assume that the covariance matrix of the errors is correctly specified.\n"
     ]
    }
   ],
   "source": [
    "import statsmodels.api as sm\n",
    "from scipy import stats\n",
    "\n",
    "\n",
    "X2 = sm.add_constant(X)\n",
    "est = sm.OLS(y, X2)\n",
    "est2 = est.fit()\n",
    "print(est2.summary())"
   ]
  },
  {
   "cell_type": "markdown",
   "metadata": {
    "collapsed": false
   },
   "source": [
    "Based on this model, how much did Progresa increase the likelihood of a child enrolling?\n",
    "<br>\n",
    "<b> A1 </b>\n",
    "Based on this model Progresa increased the likelihood of a child enrolling by 0.0374 \n",
    "<br><br>\n",
    "How does your regression estimate compare to your t-test estimate from part 2.1?\n",
    "<br>\n",
    "<b> A2 </b>\n",
    "The t-test estimate from part 2.1 was 8.3587 but this represented the different between the treatment and control groups, post-treatment. The regression estimate obtained for progressa is representative for one child, that is progresa increases likelihood of getting enrolled by 0.0374 \n",
    "<br><br>\n",
    "Based on this regression model, can we reject the null hypothesis that the treatment effects are zero?\n",
    "<br>\n",
    "<b> A3 </b>\n",
    "Based on this model, we can reject the null hypothesis that the treatment effects are zero as progresa is associated with enrollment rate as seen in the regression model and it is statistically significant.  \n",
    "<br><br>\n",
    "What is the counterfactual assumption underlying this regression?\n",
    "<br>\n",
    "<b> A4 </b>\n",
    "The counterfactual assumption is that if the treatment was not provided then the treatment group would be same as the control group "
   ]
  },
  {
   "cell_type": "markdown",
   "metadata": {
    "ein.tags": [
     "worksheet-0"
    ],
    "slideshow": {
     "slide_type": "-"
    }
   },
   "source": [
    "### 2.3 Multiple Regression\n",
    "\n",
    "Re-run the above regression estimated but this time include a set of control variables. Include, for instance, age, distance to a secondary school, gender, education of household head, indigenous, etc.\n",
    "\n",
    "* How do the controls affect the point estimate of treatment effect?\n",
    "* How do the controls affect the standard error on the treatment effect? \n",
    "* How do you interpret the differences (or similarities) between your estimates of 2.2 and 2.3?"
   ]
  },
  {
   "cell_type": "code",
   "execution_count": 17,
   "metadata": {
    "collapsed": true
   },
   "outputs": [],
   "source": [
    "def pre_post(year):\n",
    "    if year == 97:\n",
    "        return 0 \n",
    "    else:\n",
    "        return 1 "
   ]
  },
  {
   "cell_type": "code",
   "execution_count": 18,
   "metadata": {
    "collapsed": false
   },
   "outputs": [
    {
     "name": "stderr",
     "output_type": "stream",
     "text": [
      "/anaconda/envs/gl-env/lib/python2.7/site-packages/ipykernel/__main__.py:1: SettingWithCopyWarning: \n",
      "A value is trying to be set on a copy of a slice from a DataFrame.\n",
      "Try using .loc[row_indexer,col_indexer] = value instead\n",
      "\n",
      "See the caveats in the documentation: http://pandas.pydata.org/pandas-docs/stable/indexing.html#indexing-view-versus-copy\n",
      "  if __name__ == '__main__':\n",
      "/anaconda/envs/gl-env/lib/python2.7/site-packages/ipykernel/__main__.py:2: SettingWithCopyWarning: \n",
      "A value is trying to be set on a copy of a slice from a DataFrame.\n",
      "Try using .loc[row_indexer,col_indexer] = value instead\n",
      "\n",
      "See the caveats in the documentation: http://pandas.pydata.org/pandas-docs/stable/indexing.html#indexing-view-versus-copy\n",
      "  from ipykernel import kernelapp as app\n"
     ]
    }
   ],
   "source": [
    "new_data['progresa'] = [convert_to_binary(progres) for progres in new_data['progresa']]\n",
    "new_data['post'] = [pre_post(x) for x in new_data['year']]"
   ]
  },
  {
   "cell_type": "code",
   "execution_count": 19,
   "metadata": {
    "autoscroll": "json-false",
    "collapsed": false,
    "ein.tags": [
     "worksheet-0"
    ],
    "slideshow": {
     "slide_type": "-"
    }
   },
   "outputs": [
    {
     "name": "stdout",
     "output_type": "stream",
     "text": [
      "Intercept    1.527958\n",
      "progresa     0.034069\n",
      "age         -0.065834\n",
      "dist_sec    -0.012201\n",
      "sex          0.031015\n",
      "hohedu       0.009469\n",
      "indig        0.046251\n",
      "dtype: float64\n",
      "                            OLS Regression Results                            \n",
      "==============================================================================\n",
      "Dep. Variable:                     sc   R-squared:                       0.268\n",
      "Model:                            OLS   Adj. R-squared:                  0.268\n",
      "Method:                 Least Squares   F-statistic:                     1955.\n",
      "Date:                Sun, 30 Apr 2017   Prob (F-statistic):               0.00\n",
      "Time:                        18:49:34   Log-Likelihood:                -9337.7\n",
      "No. Observations:               31975   AIC:                         1.869e+04\n",
      "Df Residuals:                   31968   BIC:                         1.875e+04\n",
      "Df Model:                           6                                         \n",
      "Covariance Type:            nonrobust                                         \n",
      "==============================================================================\n",
      "                 coef    std err          t      P>|t|      [95.0% Conf. Int.]\n",
      "------------------------------------------------------------------------------\n",
      "Intercept      1.5280      0.009    173.339      0.000         1.511     1.545\n",
      "progresa       0.0341      0.004      9.134      0.000         0.027     0.041\n",
      "age           -0.0658      0.001   -103.374      0.000        -0.067    -0.065\n",
      "dist_sec      -0.0122      0.001    -14.699      0.000        -0.014    -0.011\n",
      "sex            0.0310      0.004      8.552      0.000         0.024     0.038\n",
      "hohedu         0.0095      0.001     13.748      0.000         0.008     0.011\n",
      "indig          0.0463      0.004     11.643      0.000         0.038     0.054\n",
      "==============================================================================\n",
      "Omnibus:                     3221.481   Durbin-Watson:                   1.722\n",
      "Prob(Omnibus):                  0.000   Jarque-Bera (JB):             4306.761\n",
      "Skew:                          -0.897   Prob(JB):                         0.00\n",
      "Kurtosis:                       3.121   Cond. No.                         61.0\n",
      "==============================================================================\n",
      "\n",
      "Warnings:\n",
      "[1] Standard Errors assume that the covariance matrix of the errors is correctly specified.\n"
     ]
    }
   ],
   "source": [
    "import statsmodels.formula.api as sm\n",
    "result = sm.ols(formula=\"sc ~ progresa + age + dist_sec + sex + hohedu + indig\", data=new_data).fit()\n",
    "print result.params\n",
    "print result.summary()"
   ]
  },
  {
   "cell_type": "markdown",
   "metadata": {},
   "source": [
    "<b>How do the controls affect the point estimate of treatment effect?</b>\n",
    "<br><br>\n",
    "The controls reduce the point estimate as the controls also contribute towards predicting enrollment rate. However it just reduces from 0.0374 to 0.0341.\n",
    "<br><br>\n",
    "\n",
    "<b>How do the controls affect the standard error on the treatment effect?</b>\n",
    "The controls don't significantly affect the standard error on the treatment effect\n",
    "<br><br>\n",
    "\n",
    "<b>How do you interpret the differences (or similarities) between your estimates of 2.2 and 2.3?</b>\n",
    "<br><br>\n",
    "Since we add more variables to the model, the estimate in 2.2 for progresa reduces as the other variables explain the outcome variable\n"
   ]
  },
  {
   "cell_type": "markdown",
   "metadata": {
    "ein.tags": [
     "worksheet-0"
    ],
    "slideshow": {
     "slide_type": "-"
    }
   },
   "source": [
    "### 2.4 Difference-in-Difference, version 1 (tabular)\n",
    "\n",
    "Thus far, we have computed the effects of Progresa by estimating the difference in 1998 enrollment rates across villages. An alternative approach would be to compute the treatment effect using a difference-in-differences framework.\n",
    "\n",
    "Begin by estimating the average treatment effects of the program for poor households using data from 1997 and 1998. Specifically, calculate the difference (between 1997 and 1998) in enrollment rates among poor households in treated villages; then compute the difference (between 1997 and 1998) in enrollment rates among poor households in control villages'.\n",
    "* What is your estimate of the impact, and how does it compare to your earlier (simple difference) results?\n",
    "* What is the counterfactual assumption underlying this estimate? \n"
   ]
  },
  {
   "cell_type": "code",
   "execution_count": 26,
   "metadata": {
    "collapsed": true
   },
   "outputs": [],
   "source": [
    "# creating binary varibales for pre-post treatment and also treatment or control\n",
    "progresa_data['progresa'] = [convert_to_binary(progres) for progres in progresa_data['progresa']]\n",
    "progresa_data['post'] = [pre_post(x) for x in progresa_data['year']]"
   ]
  },
  {
   "cell_type": "code",
   "execution_count": 24,
   "metadata": {
    "autoscroll": "json-false",
    "collapsed": false,
    "ein.tags": [
     "worksheet-0"
    ],
    "slideshow": {
     "slide_type": "-"
    }
   },
   "outputs": [
    {
     "name": "stdout",
     "output_type": "stream",
     "text": [
      "Average for poor households that were in the treatment group in 1997 (pre-treatment): 0.818495422582\n",
      "Average for poor households that were in the treatment group in 1998 (post-treatment): 0.841181809015\n",
      "Difference in the means of the treatment group, pre and post treatment: 0.0226863864329\n",
      "\n",
      "\n",
      "Average for poor households that were in the control group in 1997 (pre-treatment): 0.806577638869\n",
      "Average for poor households that were in the control group in 1998 (post-treatment): 0.802916734561\n",
      "Difference in the means of the control group, pre and post treatment: -0.0036609043083\n",
      "Difference in Difference: 0.0263472907412\n"
     ]
    }
   ],
   "source": [
    "# creating binary varibales for pre-post treatment and also treatment or control\n",
    "\n",
    "\n",
    "#calculating averages for poor households in treatment villages \n",
    "avg_sc_t1 = progresa_data[(progresa_data['year'] == 97) & (progresa_data['progresa'] == 1)]['sc'].dropna().mean()\n",
    "avg_sc_t2 = progresa_data[(progresa_data['year'] == 98) & (progresa_data['progresa'] == 1)]['sc'].dropna().mean()\n",
    "\n",
    "#calculating averages for poor households in non-treatment villages \n",
    "avg_sc_c1 = progresa_data[(progresa_data['year'] == 97) & (progresa_data['progresa'] == 0)]['sc'].dropna().mean()\n",
    "avg_sc_c2 = progresa_data[(progresa_data['year'] == 98) & (progresa_data['progresa'] == 0)]['sc'].dropna().mean()\n",
    "\n",
    "\n",
    "print \"Average for poor households that were in the treatment group in 1997 (pre-treatment): {0}\".format(avg_sc_t1)\n",
    "print \"Average for poor households that were in the treatment group in 1998 (post-treatment): {0}\".format(avg_sc_t2)\n",
    "print \"Difference in the means of the treatment group, pre and post treatment: {0}\".format(avg_sc_t2 - avg_sc_t1)\n",
    "\n",
    "print '\\n'\n",
    "\n",
    "print \"Average for poor households that were in the control group in 1997 (pre-treatment): {0}\".format(avg_sc_c1)\n",
    "print \"Average for poor households that were in the control group in 1998 (post-treatment): {0}\".format(avg_sc_c2)\n",
    "print \"Difference in the means of the control group, pre and post treatment: {0}\".format(avg_sc_c2 - avg_sc_c1)\n",
    "\n",
    "\n",
    "print 'Difference in Difference: {0}'.format(avg_sc_t2 - avg_sc_t1 - (avg_sc_c2 - avg_sc_c1))"
   ]
  },
  {
   "cell_type": "markdown",
   "metadata": {
    "collapsed": false
   },
   "source": [
    "<b>Part1</b>\n",
    "The estimate of the impact is 0.0263. The result is relatively smaller than the earliar results. \n",
    "<br><br>\n",
    "\n",
    "<b>Part2</b>\n",
    "The counterfactual assumption is that the average change in the comparison group represents the counterfactual change in the treatment group if there were no treatment. "
   ]
  },
  {
   "cell_type": "markdown",
   "metadata": {
    "ein.tags": [
     "worksheet-0"
    ],
    "slideshow": {
     "slide_type": "-"
    }
   },
   "source": [
    "### 2.5 Difference-in-Difference, version 1 (regression)\n",
    "\n",
    "Now use a regression specification to estimate the average treatment effect of the program (on the poor) in a difference-in-differences framework. Include at least 5 control variables.\n",
    "\n",
    "* What is your estimate of the impact of Progresa? Be very specific in interpreting your coefficients and standard errors, and make sure to specify exactly what units you are measuring and estimating.\n",
    "* How do these estimates of the treatment effect compare to the estimates based on the simple difference?\n",
    "* How do these estimates compare to the difference-in-difference estimates from 2.4 above? What accounts for these differences?\n",
    "* What is the counterfactual assumption underlying this regression? "
   ]
  },
  {
   "cell_type": "code",
   "execution_count": 27,
   "metadata": {
    "autoscroll": "json-false",
    "collapsed": false,
    "ein.tags": [
     "worksheet-0"
    ],
    "slideshow": {
     "slide_type": "-"
    }
   },
   "outputs": [
    {
     "name": "stdout",
     "output_type": "stream",
     "text": [
      "Intercept        1.557568\n",
      "progresa         0.008628\n",
      "post             0.034373\n",
      "progresa:post    0.025914\n",
      "age             -0.066155\n",
      "dist_sec        -0.011840\n",
      "dtype: float64\n",
      "                            OLS Regression Results                            \n",
      "==============================================================================\n",
      "Dep. Variable:                     sc   R-squared:                       0.270\n",
      "Model:                            OLS   Adj. R-squared:                  0.270\n",
      "Method:                 Least Squares   F-statistic:                     4960.\n",
      "Date:                Sun, 30 Apr 2017   Prob (F-statistic):               0.00\n",
      "Time:                        18:51:04   Log-Likelihood:                -20317.\n",
      "No. Observations:               67122   AIC:                         4.065e+04\n",
      "Df Residuals:                   67116   BIC:                         4.070e+04\n",
      "Df Model:                           5                                         \n",
      "Covariance Type:            nonrobust                                         \n",
      "=================================================================================\n",
      "                    coef    std err          t      P>|t|      [95.0% Conf. Int.]\n",
      "---------------------------------------------------------------------------------\n",
      "Intercept         1.5576      0.006    278.064      0.000         1.547     1.569\n",
      "progresa          0.0086      0.004      2.444      0.015         0.002     0.016\n",
      "post              0.0344      0.004      8.351      0.000         0.026     0.042\n",
      "progresa:post     0.0259      0.005      4.960      0.000         0.016     0.036\n",
      "age              -0.0662      0.000   -156.108      0.000        -0.067    -0.065\n",
      "dist_sec         -0.0118      0.001    -19.771      0.000        -0.013    -0.011\n",
      "==============================================================================\n",
      "Omnibus:                     6191.469   Durbin-Watson:                   1.474\n",
      "Prob(Omnibus):                  0.000   Jarque-Bera (JB):             8101.477\n",
      "Skew:                          -0.851   Prob(JB):                         0.00\n",
      "Kurtosis:                       3.031   Cond. No.                         68.3\n",
      "==============================================================================\n",
      "\n",
      "Warnings:\n",
      "[1] Standard Errors assume that the covariance matrix of the errors is correctly specified.\n"
     ]
    }
   ],
   "source": [
    "import statsmodels.formula.api as sm\n",
    "result = sm.ols(formula=\"sc ~ progresa + post + progresa:post + age + dist_sec \", data=progresa_data.dropna()).fit()\n",
    "print result.params\n",
    "print result.summary()"
   ]
  },
  {
   "cell_type": "markdown",
   "metadata": {},
   "source": [
    "<b> Part1 </b>\n",
    "<br>\n",
    "The estimate of progresa by itself is not significant in diff and diff regression. We can see that the p-value is also not so significant ( 0.015) . However, we observe that the interaction term progresa:post, where progresa tells us whether it is a treatment group or not and post tells us whether the year is 97 or 98, is significant and is similar to the estimate that we obtained from the tabular version.\n",
    "<br><br>\n",
    "<b> Part2 </b>\n",
    "<br>\n",
    "The estimates of the treatment effect are smaller compared to those from simple difference. Because in simple difference we only observed difference between treatment and control post-treatment whereas here we see an overall difference between the differences withing groups.\n",
    "<br><br>\n",
    "\n",
    "\n",
    "\n",
    "<b> Part3 </b>\n",
    "<br>\n",
    "These estimates are pretty similar to the estimates obtained in the tabular version of difference in difference. The estimate here is 0.0259 and earlier it was 0.0263. The other terms that are involved in the regression that explain enrollment rate account for this difference between the two estimates. \n",
    "<br><br>\n",
    "\n",
    "<b> Part4 </b>\n",
    "<br>\n",
    "The counterfactual assumption underlying this regression is that the difference between the difference in treatment and control groups wouldn't exist without the treatment "
   ]
  },
  {
   "cell_type": "markdown",
   "metadata": {
    "ein.tags": [
     "worksheet-0"
    ],
    "slideshow": {
     "slide_type": "-"
    }
   },
   "source": [
    "### 2.6 Difference-in-Difference, version 2\n",
    "\n",
    "In the previous problem, you estimated a difference-in-differences model that compared changes in enrollment rates over time across treatment and control villages. An alternative approach would be to compare enrollment rates in 1998 between poor and non-poor across treatment and control villages. \n",
    "\n",
    "* How would we estimate this version of the treatment effects in a regression model? \n",
    "* What is the counterfactual assumption underlying this regression?\n",
    "* How do these treatment effects compare to the estimates above?\n",
    "* Discuss some possible explanations for differences or similarities "
   ]
  },
  {
   "cell_type": "code",
   "execution_count": 28,
   "metadata": {
    "collapsed": false
   },
   "outputs": [],
   "source": [
    "def convert_poor(d):\n",
    "    if d == 'pobre':\n",
    "        return 1\n",
    "    else:\n",
    "        return 0\n",
    "\n",
    "new_data['poor'] = [convert_poor(d) for d in new_data['poor']]"
   ]
  },
  {
   "cell_type": "code",
   "execution_count": 29,
   "metadata": {
    "autoscroll": "json-false",
    "collapsed": false,
    "ein.tags": [
     "worksheet-0"
    ],
    "slideshow": {
     "slide_type": "-"
    }
   },
   "outputs": [
    {
     "name": "stdout",
     "output_type": "stream",
     "text": [
      "Intercept        1.602336\n",
      "progresa         0.029568\n",
      "poor            -0.011657\n",
      "progresa:poor    0.005949\n",
      "age             -0.066144\n",
      "dist_sec        -0.012117\n",
      "dtype: float64\n",
      "                            OLS Regression Results                            \n",
      "==============================================================================\n",
      "Dep. Variable:                     sc   R-squared:                       0.255\n",
      "Model:                            OLS   Adj. R-squared:                  0.255\n",
      "Method:                 Least Squares   F-statistic:                     2097.\n",
      "Date:                Sun, 30 Apr 2017   Prob (F-statistic):               0.00\n",
      "Time:                        18:51:12   Log-Likelihood:                -9008.7\n",
      "No. Observations:               30665   AIC:                         1.803e+04\n",
      "Df Residuals:                   30659   BIC:                         1.808e+04\n",
      "Df Model:                           5                                         \n",
      "Covariance Type:            nonrobust                                         \n",
      "=================================================================================\n",
      "                    coef    std err          t      P>|t|      [95.0% Conf. Int.]\n",
      "---------------------------------------------------------------------------------\n",
      "Intercept         1.6023      0.011    143.442      0.000         1.580     1.624\n",
      "progresa          0.0296      0.010      2.993      0.003         0.010     0.049\n",
      "poor             -0.0117      0.008     -1.397      0.163        -0.028     0.005\n",
      "progresa:poor     0.0059      0.011      0.555      0.579        -0.015     0.027\n",
      "age              -0.0661      0.001   -100.931      0.000        -0.067    -0.065\n",
      "dist_sec         -0.0121      0.001    -13.763      0.000        -0.014    -0.010\n",
      "==============================================================================\n",
      "Omnibus:                     3385.435   Durbin-Watson:                   1.708\n",
      "Prob(Omnibus):                  0.000   Jarque-Bera (JB):             4637.215\n",
      "Skew:                          -0.947   Prob(JB):                         0.00\n",
      "Kurtosis:                       3.196   Cond. No.                         114.\n",
      "==============================================================================\n",
      "\n",
      "Warnings:\n",
      "[1] Standard Errors assume that the covariance matrix of the errors is correctly specified.\n"
     ]
    }
   ],
   "source": [
    "import statsmodels.formula.api as sm\n",
    "result = sm.ols(formula=\"sc ~ progresa + poor + progresa:poor + age + dist_sec \", data=new_data.dropna()).fit()\n",
    "print result.params\n",
    "print result.summary()"
   ]
  },
  {
   "cell_type": "markdown",
   "metadata": {},
   "source": [
    "<b> Part1 </b>\n",
    "<br>\n",
    "In this model we only consider post-treatment. We observe that the progresa estimate helps in explaining enrollment rate (0.0296) and it's similar to the estimates that we obtained in earlier regression estimates. We see that the estimate for the variable poor is negatively associated with enrollment rate which means that if a person is not poor they have higher chances of being enrolled. However this estimate is not significant as p-value is 0.163. We also see that the interaction term between progresa and post is not significant.   \n",
    "<br><br>\n",
    "<b> Part2 </b>\n",
    "<br>\n",
    "The counterfactual assumption here is that there would be no difference between poor and non-poor treated and control villages without the treatment \n",
    "<br><br>\n",
    "\n",
    "\n",
    "\n",
    "<b> Part3 </b>\n",
    "<br>\n",
    "The treatment effects here are different compared to the estimates we obtained in 2.5 as here we are considering only difference between poor and non-poor villages. The progresa term is the one that is significant and gives us the likelihood of enrollment rate. \n",
    "<br><br>\n",
    "\n",
    "<b> Part4 </b>\n",
    "<br>\n",
    "The differences are that here we are comparing only post-treatment between poor and non-poor treated and controlled villages. Whereas earlier we were comparing the treated and controlled villaged over a period of time. This is why we observe differences in the two models. The one similarity is that the variable progresa which indicates treated or not treated gives us the likelihood of enrollment rate. "
   ]
  },
  {
   "cell_type": "markdown",
   "metadata": {
    "ein.tags": [
     "worksheet-0"
    ],
    "slideshow": {
     "slide_type": "-"
    }
   },
   "source": [
    "### 2.7 Spillover effects (extra credit)\n",
    "\n",
    "Thus far, we have focused on the impact of PROGRESA on poor households. Repeat your analysis in 2.5, using a double-difference regression to estimate the impact of PROGRESA on non-poor households. In other words, compare the difference in enrollments between 1997 and 1998 for non-poor households in treatment villages with the difference in enrollments between 1997 and 1998 for non-poor households in control villages.\n",
    "\n",
    "* A: Describe one or two reasons why PROGRESA might have impacted non-poor households.\n",
    "* B: Do you observe any impacts of PROGRESA on the non-poor?\n",
    "* C: What is the identifying assumption that you are using to estimate the impact of PROGRESA on non-poor households."
   ]
  },
  {
   "cell_type": "code",
   "execution_count": 32,
   "metadata": {
    "autoscroll": "json-false",
    "collapsed": false,
    "ein.tags": [
     "worksheet-0"
    ],
    "slideshow": {
     "slide_type": "-"
    }
   },
   "outputs": [
    {
     "name": "stdout",
     "output_type": "stream",
     "text": [
      "Intercept        0.825933\n",
      "progresa         0.014478\n",
      "post             0.825933\n",
      "progresa:post    0.014478\n",
      "age             -0.069473\n",
      "dist_sec        -0.016511\n",
      "dtype: float64\n",
      "                            OLS Regression Results                            \n",
      "==============================================================================\n",
      "Dep. Variable:                     sc   R-squared:                       0.252\n",
      "Model:                            OLS   Adj. R-squared:                  0.252\n",
      "Method:                 Least Squares   F-statistic:                     507.0\n",
      "Date:                Sun, 30 Apr 2017   Prob (F-statistic):          7.44e-284\n",
      "Time:                        18:54:19   Log-Likelihood:                -1618.6\n",
      "No. Observations:                4510   AIC:                             3245.\n",
      "Df Residuals:                    4506   BIC:                             3271.\n",
      "Df Model:                           3                                         \n",
      "Covariance Type:            nonrobust                                         \n",
      "=================================================================================\n",
      "                    coef    std err          t      P>|t|      [95.0% Conf. Int.]\n",
      "---------------------------------------------------------------------------------\n",
      "Intercept         0.8259      0.012     69.013      0.000         0.802     0.849\n",
      "progresa          0.0145      0.005      2.743      0.006         0.004     0.025\n",
      "post              0.8259      0.012     69.013      0.000         0.802     0.849\n",
      "progresa:post     0.0145      0.005      2.743      0.006         0.004     0.025\n",
      "age              -0.0695      0.002    -38.401      0.000        -0.073    -0.066\n",
      "dist_sec         -0.0165      0.003     -6.180      0.000        -0.022    -0.011\n",
      "==============================================================================\n",
      "Omnibus:                      390.965   Durbin-Watson:                   1.724\n",
      "Prob(Omnibus):                  0.000   Jarque-Bera (JB):              461.645\n",
      "Skew:                          -0.759   Prob(JB):                    5.69e-101\n",
      "Kurtosis:                       2.613   Cond. No.                     6.55e+16\n",
      "==============================================================================\n",
      "\n",
      "Warnings:\n",
      "[1] Standard Errors assume that the covariance matrix of the errors is correctly specified.\n",
      "[2] The smallest eigenvalue is 1.68e-28. This might indicate that there are\n",
      "strong multicollinearity problems or that the design matrix is singular.\n"
     ]
    }
   ],
   "source": [
    "not_poor_data =new_data[new_data['poor'] == 0]\n",
    "result = sm.ols(formula=\"sc ~ progresa + post + progresa:post + age + dist_sec \", data=not_poor_data.dropna()).fit()\n",
    "print result.params\n",
    "print result.summary()"
   ]
  },
  {
   "cell_type": "markdown",
   "metadata": {
    "ein.tags": [
     "worksheet-0"
    ],
    "slideshow": {
     "slide_type": "-"
    }
   },
   "source": [
    "### 2.8 Summary\n",
    "\n",
    "Based on all the analysis you have undertaken to date, do you thik that Progresa had a causal impact on the enrollment rates of poor households in Mexico?"
   ]
  },
  {
   "cell_type": "code",
   "execution_count": 0,
   "metadata": {
    "autoscroll": "json-false",
    "collapsed": false,
    "ein.tags": [
     "worksheet-0"
    ],
    "slideshow": {
     "slide_type": "-"
    }
   },
   "outputs": [],
   "source": []
  }
 ],
 "metadata": {
  "kernelspec": {
   "display_name": "Python 2",
   "language": "python",
   "name": "python2"
  },
  "language_info": {
   "codemirror_mode": {
    "name": "ipython",
    "version": 2
   },
   "file_extension": ".py",
   "mimetype": "text/x-python",
   "name": "python",
   "nbconvert_exporter": "python",
   "pygments_lexer": "ipython2",
   "version": "2.7.11"
  },
  "name": "ps2.ipynb"
 },
 "nbformat": 4,
 "nbformat_minor": 2
}
