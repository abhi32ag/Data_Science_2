{
 "cells": [
  {
   "cell_type": "markdown",
   "metadata": {
    "ein.tags": [
     "worksheet-0"
    ],
    "slideshow": {
     "slide_type": "-"
    }
   },
   "source": [
    "# Problem Set 4, due '05/23/2017' at 3:30pm.\n",
    "\n",
    "### Before You Start\n",
    "\n",
    "This is a fun but challenging problem set. It will test your python skills, as well as your understanding of the material in class and in the readings. Start early and debug often! Some notes:\n",
    "\n",
    "* Part 1 is meant to be easy, so get through it quickly.\n",
    "* Part 2 (especially 2.1) will be difficult, but it is the lynchpin of this problem set to make sure to do it well and understand what you've done. If you find your gradient descent algorithm is taking more than a few minutes to complete, debug more, compare notes with others, and go to the TA sessions.\n",
    "* Depending on how well you've done 2.1, parts 2.3 and 4.3 will be relatively painless or incredibly painful. \n",
    "* Part 4 (especially 3.3) will be computationally intensive. Don't leave this until the last minute, otherwise your code might be running when the deadline arrives.\n",
    "* Do the extra credit problems last."
   ]
  },
  {
   "cell_type": "markdown",
   "metadata": {
    "ein.tags": [
     "worksheet-0"
    ],
    "slideshow": {
     "slide_type": "-"
    }
   },
   "source": [
    "---\n",
    "\n",
    "## Introduction to the assignment\n",
    "\n",
    "As with the last assignment, you will be using the [Boston Housing Prices Data Set](http://archive.ics.uci.edu/ml/datasets/Housing)."
   ]
  },
  {
   "cell_type": "code",
   "execution_count": 14,
   "metadata": {
    "autoscroll": "json-false",
    "collapsed": false,
    "ein.tags": [
     "worksheet-0"
    ],
    "slideshow": {
     "slide_type": "-"
    }
   },
   "outputs": [],
   "source": [
    "import IPython\n",
    "import numpy as np\n",
    "import scipy as sp\n",
    "import pandas as pd\n",
    "import matplotlib\n",
    "import sklearn\n",
    "\n",
    "%matplotlib inline  \n",
    "import matplotlib.pyplot as plt\n",
    "import statsmodels.api as sm\n",
    "from sklearn.linear_model import LinearRegression, LogisticRegression\n",
    "from sklearn.metrics import mean_squared_error\n",
    "import statsmodels.formula.api as smf\n",
    "from sklearn.model_selection import KFold\n",
    "from sklearn.metrics import mean_squared_error\n",
    "from statsmodels.sandbox.regression.predstd import wls_prediction_std\n",
    "import time\n",
    "\n",
    "import seaborn as sns; sns.set(color_codes = True)\n",
    "sns.set_style(\"whitegrid\")"
   ]
  },
  {
   "cell_type": "code",
   "execution_count": 3,
   "metadata": {
    "collapsed": false
   },
   "outputs": [
    {
     "name": "stdout",
     "output_type": "stream",
     "text": [
      "The scikit-learn version is 0.18.1.\n"
     ]
    }
   ],
   "source": [
    "print('The scikit-learn version is {}.'.format(sklearn.__version__))"
   ]
  },
  {
   "cell_type": "code",
   "execution_count": 4,
   "metadata": {
    "autoscroll": "json-false",
    "collapsed": false,
    "ein.tags": [
     "worksheet-0"
    ],
    "slideshow": {
     "slide_type": "-"
    }
   },
   "outputs": [],
   "source": [
    "from sklearn.datasets import load_boston\n",
    "bdata = load_boston()\n"
   ]
  },
  {
   "cell_type": "markdown",
   "metadata": {
    "ein.tags": [
     "worksheet-0"
    ],
    "slideshow": {
     "slide_type": "-"
    }
   },
   "source": [
    "---\n",
    "\n",
    "## Part 1: Getting oriented\n",
    "\n",
    "Use different learning rates\n",
    "\n",
    "### 1.1 Use existing libraries\n",
    "\n",
    "Soon, you will write your own gradient descent algorithm, which you will then use to minimize the squared error cost function.  First, however, let's use the canned versions that come with Python, to make sure we understand what we're aiming to achieve.\n",
    "\n",
    "Using the same Boston housing prices dataset, use the [Linear Regression class](http://scikit-learn.org/stable/modules/generated/sklearn.linear_model.LinearRegression.html) from sklearn or the [OLS class](http://wiki.scipy.org/Cookbook/OLS) from SciPy to explore the relationship between  median housing price and number of rooms per house. Do this by first (a) regressing the housing price on the number of rooms per house, and then (b) regressing the housing price on the number of rooms per house and the (number of rooms per house) squared.  Interpret your results."
   ]
  },
  {
   "cell_type": "code",
   "execution_count": 5,
   "metadata": {
    "autoscroll": "json-false",
    "collapsed": false,
    "ein.tags": [
     "worksheet-0"
    ],
    "slideshow": {
     "slide_type": "-"
    }
   },
   "outputs": [
    {
     "name": "stdout",
     "output_type": "stream",
     "text": [
      "keys: ['data', 'feature_names', 'DESCR', 'target']\n",
      "Boston House Prices dataset\n",
      "===========================\n",
      "\n",
      "Notes\n",
      "------\n",
      "Data Set Characteristics:  \n",
      "\n",
      "    :Number of Instances: 506 \n",
      "\n",
      "    :Number of Attributes: 13 numeric/categorical predictive\n",
      "    \n",
      "    :Median Value (attribute 14) is usually the target\n",
      "\n",
      "    :Attribute Information (in order):\n",
      "        - CRIM     per capita crime rate by town\n",
      "        - ZN       proportion of residential land zoned for lots over 25,000 sq.ft.\n",
      "        - INDUS    proportion of non-retail business acres per town\n",
      "        - CHAS     Charles River dummy variable (= 1 if tract bounds river; 0 otherwise)\n",
      "        - NOX      nitric oxides concentration (parts per 10 million)\n",
      "        - RM       average number of rooms per dwelling\n",
      "        - AGE      proportion of owner-occupied units built prior to 1940\n",
      "        - DIS      weighted distances to five Boston employment centres\n",
      "        - RAD      index of accessibility to radial highways\n",
      "        - TAX      full-value property-tax rate per $10,000\n",
      "        - PTRATIO  pupil-teacher ratio by town\n",
      "        - B        1000(Bk - 0.63)^2 where Bk is the proportion of blacks by town\n",
      "        - LSTAT    % lower status of the population\n",
      "        - MEDV     Median value of owner-occupied homes in $1000's\n",
      "\n",
      "    :Missing Attribute Values: None\n",
      "\n",
      "    :Creator: Harrison, D. and Rubinfeld, D.L.\n",
      "\n",
      "This is a copy of UCI ML housing dataset.\n",
      "http://archive.ics.uci.edu/ml/datasets/Housing\n",
      "\n",
      "\n",
      "This dataset was taken from the StatLib library which is maintained at Carnegie Mellon University.\n",
      "\n",
      "The Boston house-price data of Harrison, D. and Rubinfeld, D.L. 'Hedonic\n",
      "prices and the demand for clean air', J. Environ. Economics & Management,\n",
      "vol.5, 81-102, 1978.   Used in Belsley, Kuh & Welsch, 'Regression diagnostics\n",
      "...', Wiley, 1980.   N.B. Various transformations are used in the table on\n",
      "pages 244-261 of the latter.\n",
      "\n",
      "The Boston house-price data has been used in many machine learning papers that address regression\n",
      "problems.   \n",
      "     \n",
      "**References**\n",
      "\n",
      "   - Belsley, Kuh & Welsch, 'Regression diagnostics: Identifying Influential Data and Sources of Collinearity', Wiley, 1980. 244-261.\n",
      "   - Quinlan,R. (1993). Combining Instance-Based and Model-Based Learning. In Proceedings on the Tenth International Conference of Machine Learning, 236-243, University of Massachusetts, Amherst. Morgan Kaufmann.\n",
      "   - many more! (see http://archive.ics.uci.edu/ml/datasets/Housing)\n",
      "\n"
     ]
    }
   ],
   "source": [
    "# uncomment the following if you want to see a lengthy description of the dataset\n",
    "print \"keys:\", bdata.keys()\n",
    "# print \"feature names:\",  bdata.feature_names\n",
    "# print \"data shape:\", bdata.data.shape\n",
    "# print \"target shape\", bdata.target.shape\n",
    "print bdata.DESCR\n",
    "# print \"-\"*80\n",
    "\n"
   ]
  },
  {
   "cell_type": "code",
   "execution_count": 6,
   "metadata": {
    "collapsed": false
   },
   "outputs": [
    {
     "data": {
      "text/html": [
       "<div>\n",
       "<style>\n",
       "    .dataframe thead tr:only-child th {\n",
       "        text-align: right;\n",
       "    }\n",
       "\n",
       "    .dataframe thead th {\n",
       "        text-align: left;\n",
       "    }\n",
       "\n",
       "    .dataframe tbody tr th {\n",
       "        vertical-align: top;\n",
       "    }\n",
       "</style>\n",
       "<table border=\"1\" class=\"dataframe\">\n",
       "  <thead>\n",
       "    <tr style=\"text-align: right;\">\n",
       "      <th></th>\n",
       "      <th>CRIM</th>\n",
       "      <th>ZN</th>\n",
       "      <th>INDUS</th>\n",
       "      <th>CHAS</th>\n",
       "      <th>NOX</th>\n",
       "      <th>RM</th>\n",
       "      <th>AGE</th>\n",
       "      <th>DIS</th>\n",
       "      <th>RAD</th>\n",
       "      <th>TAX</th>\n",
       "      <th>PTRATIO</th>\n",
       "      <th>B</th>\n",
       "      <th>LSTAT</th>\n",
       "      <th>MEDV</th>\n",
       "    </tr>\n",
       "  </thead>\n",
       "  <tbody>\n",
       "    <tr>\n",
       "      <th>0</th>\n",
       "      <td>0.00632</td>\n",
       "      <td>18.0</td>\n",
       "      <td>2.31</td>\n",
       "      <td>0.0</td>\n",
       "      <td>0.538</td>\n",
       "      <td>6.575</td>\n",
       "      <td>65.2</td>\n",
       "      <td>4.0900</td>\n",
       "      <td>1.0</td>\n",
       "      <td>296.0</td>\n",
       "      <td>15.3</td>\n",
       "      <td>396.90</td>\n",
       "      <td>4.98</td>\n",
       "      <td>24.0</td>\n",
       "    </tr>\n",
       "    <tr>\n",
       "      <th>1</th>\n",
       "      <td>0.02731</td>\n",
       "      <td>0.0</td>\n",
       "      <td>7.07</td>\n",
       "      <td>0.0</td>\n",
       "      <td>0.469</td>\n",
       "      <td>6.421</td>\n",
       "      <td>78.9</td>\n",
       "      <td>4.9671</td>\n",
       "      <td>2.0</td>\n",
       "      <td>242.0</td>\n",
       "      <td>17.8</td>\n",
       "      <td>396.90</td>\n",
       "      <td>9.14</td>\n",
       "      <td>21.6</td>\n",
       "    </tr>\n",
       "    <tr>\n",
       "      <th>2</th>\n",
       "      <td>0.02729</td>\n",
       "      <td>0.0</td>\n",
       "      <td>7.07</td>\n",
       "      <td>0.0</td>\n",
       "      <td>0.469</td>\n",
       "      <td>7.185</td>\n",
       "      <td>61.1</td>\n",
       "      <td>4.9671</td>\n",
       "      <td>2.0</td>\n",
       "      <td>242.0</td>\n",
       "      <td>17.8</td>\n",
       "      <td>392.83</td>\n",
       "      <td>4.03</td>\n",
       "      <td>34.7</td>\n",
       "    </tr>\n",
       "    <tr>\n",
       "      <th>3</th>\n",
       "      <td>0.03237</td>\n",
       "      <td>0.0</td>\n",
       "      <td>2.18</td>\n",
       "      <td>0.0</td>\n",
       "      <td>0.458</td>\n",
       "      <td>6.998</td>\n",
       "      <td>45.8</td>\n",
       "      <td>6.0622</td>\n",
       "      <td>3.0</td>\n",
       "      <td>222.0</td>\n",
       "      <td>18.7</td>\n",
       "      <td>394.63</td>\n",
       "      <td>2.94</td>\n",
       "      <td>33.4</td>\n",
       "    </tr>\n",
       "    <tr>\n",
       "      <th>4</th>\n",
       "      <td>0.06905</td>\n",
       "      <td>0.0</td>\n",
       "      <td>2.18</td>\n",
       "      <td>0.0</td>\n",
       "      <td>0.458</td>\n",
       "      <td>7.147</td>\n",
       "      <td>54.2</td>\n",
       "      <td>6.0622</td>\n",
       "      <td>3.0</td>\n",
       "      <td>222.0</td>\n",
       "      <td>18.7</td>\n",
       "      <td>396.90</td>\n",
       "      <td>5.33</td>\n",
       "      <td>36.2</td>\n",
       "    </tr>\n",
       "  </tbody>\n",
       "</table>\n",
       "</div>"
      ],
      "text/plain": [
       "      CRIM    ZN  INDUS  CHAS    NOX     RM   AGE     DIS  RAD    TAX  \\\n",
       "0  0.00632  18.0   2.31   0.0  0.538  6.575  65.2  4.0900  1.0  296.0   \n",
       "1  0.02731   0.0   7.07   0.0  0.469  6.421  78.9  4.9671  2.0  242.0   \n",
       "2  0.02729   0.0   7.07   0.0  0.469  7.185  61.1  4.9671  2.0  242.0   \n",
       "3  0.03237   0.0   2.18   0.0  0.458  6.998  45.8  6.0622  3.0  222.0   \n",
       "4  0.06905   0.0   2.18   0.0  0.458  7.147  54.2  6.0622  3.0  222.0   \n",
       "\n",
       "   PTRATIO       B  LSTAT  MEDV  \n",
       "0     15.3  396.90   4.98  24.0  \n",
       "1     17.8  396.90   9.14  21.6  \n",
       "2     17.8  392.83   4.03  34.7  \n",
       "3     18.7  394.63   2.94  33.4  \n",
       "4     18.7  396.90   5.33  36.2  "
      ]
     },
     "execution_count": 6,
     "metadata": {},
     "output_type": "execute_result"
    }
   ],
   "source": [
    "X = bdata.data\n",
    "Y = bdata.target \n",
    "X_df = pd.DataFrame(X, columns = bdata.feature_names)\n",
    "Y_df = pd.DataFrame(Y, columns = ['MEDV'])\n",
    "df = pd.concat([X_df, Y_df], axis = 1)\n",
    "df.head()"
   ]
  },
  {
   "cell_type": "code",
   "execution_count": 7,
   "metadata": {
    "collapsed": false
   },
   "outputs": [
    {
     "name": "stdout",
     "output_type": "stream",
     "text": [
      "Intercept   -34.670621\n",
      "RM            9.102109\n",
      "dtype: float64\n",
      "                            OLS Regression Results                            \n",
      "==============================================================================\n",
      "Dep. Variable:                   MEDV   R-squared:                       0.484\n",
      "Model:                            OLS   Adj. R-squared:                  0.483\n",
      "Method:                 Least Squares   F-statistic:                     471.8\n",
      "Date:                Sun, 14 May 2017   Prob (F-statistic):           2.49e-74\n",
      "Time:                        16:47:26   Log-Likelihood:                -1673.1\n",
      "No. Observations:                 506   AIC:                             3350.\n",
      "Df Residuals:                     504   BIC:                             3359.\n",
      "Df Model:                           1                                         \n",
      "Covariance Type:            nonrobust                                         \n",
      "==============================================================================\n",
      "                 coef    std err          t      P>|t|      [0.025      0.975]\n",
      "------------------------------------------------------------------------------\n",
      "Intercept    -34.6706      2.650    -13.084      0.000     -39.877     -29.465\n",
      "RM             9.1021      0.419     21.722      0.000       8.279       9.925\n",
      "==============================================================================\n",
      "Omnibus:                      102.585   Durbin-Watson:                   0.684\n",
      "Prob(Omnibus):                  0.000   Jarque-Bera (JB):              612.449\n",
      "Skew:                           0.726   Prob(JB):                    1.02e-133\n",
      "Kurtosis:                       8.190   Cond. No.                         58.4\n",
      "==============================================================================\n",
      "\n",
      "Warnings:\n",
      "[1] Standard Errors assume that the covariance matrix of the errors is correctly specified.\n"
     ]
    }
   ],
   "source": [
    "import statsmodels.formula.api as sm\n",
    "result1 = sm.ols(formula=\"MEDV ~ RM\", data=df, missing = 'drop').fit()\n",
    "print result1.params\n",
    "print result1.summary()"
   ]
  },
  {
   "cell_type": "code",
   "execution_count": 8,
   "metadata": {
    "collapsed": false
   },
   "outputs": [
    {
     "name": "stdout",
     "output_type": "stream",
     "text": [
      "RM    -22.643262\n",
      "RM2     2.470124\n",
      "dtype: float64\n",
      "                            OLS Regression Results                            \n",
      "==============================================================================\n",
      "Dep. Variable:                   MEDV   R-squared:                       0.548\n",
      "Model:                            OLS   Adj. R-squared:                  0.547\n",
      "Method:                 Least Squares   F-statistic:                     305.4\n",
      "Date:                Sun, 14 May 2017   Prob (F-statistic):           1.46e-87\n",
      "Time:                        16:47:30   Log-Likelihood:                -1639.1\n",
      "No. Observations:                 506   AIC:                             3284.\n",
      "Df Residuals:                     503   BIC:                             3297.\n",
      "Df Model:                           2                                         \n",
      "Covariance Type:            nonrobust                                         \n",
      "==============================================================================\n",
      "                 coef    std err          t      P>|t|      [0.025      0.975]\n",
      "------------------------------------------------------------------------------\n",
      "Intercept     66.0588     12.104      5.458      0.000      42.278      89.839\n",
      "RM           -22.6433      3.754     -6.031      0.000     -30.019     -15.267\n",
      "RM2            2.4701      0.291      8.502      0.000       1.899       3.041\n",
      "==============================================================================\n",
      "Omnibus:                       82.173   Durbin-Watson:                   0.689\n",
      "Prob(Omnibus):                  0.000   Jarque-Bera (JB):              934.337\n",
      "Skew:                           0.224   Prob(JB):                    1.29e-203\n",
      "Kurtosis:                       9.642   Cond. No.                     1.91e+03\n",
      "==============================================================================\n",
      "\n",
      "Warnings:\n",
      "[1] Standard Errors assume that the covariance matrix of the errors is correctly specified.\n",
      "[2] The condition number is large, 1.91e+03. This might indicate that there are\n",
      "strong multicollinearity or other numerical problems.\n"
     ]
    }
   ],
   "source": [
    "df['RM2'] = df['RM']**2\n",
    "result2 = sm.ols(formula=\"MEDV ~ RM + RM2\", data=df, missing = 'drop').fit()\n",
    "print result2.params[1:]\n",
    "print result2.summary()"
   ]
  },
  {
   "cell_type": "markdown",
   "metadata": {},
   "source": [
    "We can see that when we utilize just the average number of room dwellings in the regression, we obtain an r-sqaured of 0.484 and the estimate for RM is 9.102 which means that with an increase in the room number by 1 there is an increase in the median house value by 9k. Let's take a look at the second model where we regress median value of home over RM + RM-Squared. Here we see that the estimate for RM becomes negative since we are considering the squared of the average number of rooms. So now the estimate for RM2 is understood as for increase in the squared number of rooms by 1 we have an increase in the median house value by 2.4k "
   ]
  },
  {
   "cell_type": "markdown",
   "metadata": {
    "ein.tags": [
     "worksheet-0"
    ],
    "slideshow": {
     "slide_type": "-"
    }
   },
   "source": [
    "### 1.2 Training and testing\n",
    "\n",
    "Chances are, for the above problem you used all of your data to fit the regression line. In some circumstances this is a reasonable thing to do, but often this will result in overfitting. Let's redo the above results the ML way, using careful cross-validation.  Since you are now experts in cross-validation, and have written your own cross-validation algorithm from scratch, you can now take a shortcut and use the libraries that others have built for you.\n",
    "\n",
    "Using the [cross-validation functions](http://scikit-learn.org/stable/modules/cross_validation.html) from scikit-learn, use 250-fold cross-validation to fit regression (a) above, i.e. the linear fit of housing price on number of rooms per house.\n",
    "Each fold of cross-validation will give you one slope coefficient and one intercept coefficient.  Plot the distribution of the 250 slope coefficients, and draw a vertical line at the value of the slope coefficient that you estimated in 1.1 using the full dataset.  What do you notice?\n",
    "\n",
    "Note: please use 'random_state=1' and keep 'shuffle=False' when doing the KFold splitting to ensure reproducibility!"
   ]
  },
  {
   "cell_type": "code",
   "execution_count": 11,
   "metadata": {
    "collapsed": false
   },
   "outputs": [],
   "source": [
    "kf = KFold(n_splits = 250, random_state = 1, shuffle = False)\n",
    "slope_list = []\n",
    "import statsmodels.formula.api as sm\n",
    "for train_index,test_index in kf.split(df):\n",
    "    data = df.iloc[train_index]\n",
    "    result = sm.ols(formula=\"MEDV ~ RM\", data=data, missing = 'drop').fit()\n",
    "    slope = result.params[1]\n",
    "    slope_list.append(slope)"
   ]
  },
  {
   "cell_type": "code",
   "execution_count": 28,
   "metadata": {
    "collapsed": false
   },
   "outputs": [
    {
     "data": {
      "text/plain": [
       "<matplotlib.lines.Line2D at 0x116b3af90>"
      ]
     },
     "execution_count": 28,
     "metadata": {},
     "output_type": "execute_result"
    },
    {
     "data": {
      "image/png": "[encoded data removed]",
      "text/plain": [
       "<matplotlib.figure.Figure at 0x1160bfb10>"
      ]
     },
     "metadata": {},
     "output_type": "display_data"
    }
   ],
   "source": [
    "plt.figure(figsize=(16,9))\n",
    "plt.hist(slope_list, bins =50)\n",
    "plt.axvline(9.102109, color='r', linestyle='dashed', linewidth=2)"
   ]
  },
  {
   "cell_type": "markdown",
   "metadata": {
    "ein.tags": [
     "worksheet-0"
    ],
    "slideshow": {
     "slide_type": "-"
    }
   },
   "source": [
    "### 1.3 Regression lines\n",
    "\n",
    "Create a scatterplot of housing price on rooms per house, and add the two regression lines from 1.1 (or 1.2 if you prefer to do so). Show the linear regression line in red, and the linear+quadratic regression line (which may have curvature) in blue.  Label these two regression lines with the corresponding regression equations (i.e. the slope and intercept of the line).\n",
    "\n",
    "Bonus: Add the 95% confidence bands (i.e.,  the area that has a 95% chance of containing the true regression line) to each of these lines."
   ]
  },
  {
   "cell_type": "code",
   "execution_count": 100,
   "metadata": {
    "collapsed": true
   },
   "outputs": [],
   "source": [
    "from statsmodels.sandbox.regression.predstd import wls_prediction_std"
   ]
  },
  {
   "cell_type": "code",
   "execution_count": 101,
   "metadata": {
    "collapsed": false
   },
   "outputs": [
    {
     "data": {
      "text/plain": [
       "<matplotlib.collections.PolyCollection at 0x11ec3bed0>"
      ]
     },
     "execution_count": 101,
     "metadata": {},
     "output_type": "execute_result"
    },
    {
     "data": {
      "image/png": "[encoded data removed]",
      "text/plain": [
       "<matplotlib.figure.Figure at 0x12214b550>"
      ]
     },
     "metadata": {},
     "output_type": "display_data"
    }
   ],
   "source": [
    "\n",
    "plt.figure(1, figsize=(16,9))\n",
    "plt.plot(df['RM'],df['MEDV'],\"o\")\n",
    "plt.xlim((3,9))\n",
    "plt.ylim((0,60))\n",
    "\n",
    "plt.plot(df['RM'], result1.predict(df[['RM']]), \"-k\", color = 'red', linewidth =1)\n",
    "plt.plot(df[['RM']].sort_values(['RM']), sorted(result2.predict(df[['RM','RM2']])), \"-k\", color = 'blue', linewidth =1)\n",
    "plt.fill_between(sorted(df['RM'].values.tolist()),\n",
    "                 sorted(wls_prediction_std(result1)[1]),\n",
    "                 sorted(wls_prediction_std(result1)[2]),\n",
    "                 color = 'red',\n",
    "                 edgecolor='',\n",
    "                 alpha = 0.1)\n",
    "\n",
    "plt.fill_between(sorted(df['RM'].values.tolist()),\n",
    "                 sorted(wls_prediction_std(result2)[1]),\n",
    "                 sorted(wls_prediction_std(result2)[2]),\n",
    "                 color = 'blue',\n",
    "                 edgecolor='',\n",
    "                 alpha = 0.1)\n"
   ]
  },
  {
   "cell_type": "markdown",
   "metadata": {
    "ein.tags": [
     "worksheet-0"
    ],
    "slideshow": {
     "slide_type": "-"
    }
   },
   "source": [
    "## Part 2: Gradient descent: Linear Regression\n",
    "\n",
    "This is where it gets fun!\n",
    "\n",
    "### 2.1 Implement gradient descent with one independent variable (Average rooms per house)\n",
    "\n",
    "Implement the batch gradient descent algorithm that we discussed in class. Use the version you implement to regress the housing price on the number of rooms per house. Experiment with 3-4 different values of the learning rate *R*, and do the following:\n",
    "\n",
    "* Report the values of alpha and beta that minimize the loss function\n",
    "* Report the number of iterations it takes for your algorithm to converge (for each value of *R*)\n",
    "* Report the total running time of your algorithm, in seconds\n",
    "\n",
    "Some skeleton code is provided below, but you should feel free to delete this code and start from scratch if you prefer.\n",
    "\n",
    "* *Hint 1: Don't forget to implement a stopping condition, so that at every iteration you check whether your results have converged. Common approaches to this are to (a) check to see if the loss has stopped decreasing; and (b) check if both your current parameter esimates are close to the estimates from the previous iteration.  In both cases, \"close\" should not be ==0, it should be <=epsilon, where epsilon is something very small (like 0.0001).*\n",
    "* *Hint 2: It is always useful to include maximum number of iterations, otherwise a rogue estimation may go on forever.*"
   ]
  },
  {
   "cell_type": "code",
   "execution_count": 102,
   "metadata": {
    "collapsed": true
   },
   "outputs": [],
   "source": [
    "def predict_output(feature_matrix, weights):\n",
    "    return np.dot(feature_matrix, weights)"
   ]
  },
  {
   "cell_type": "code",
   "execution_count": 103,
   "metadata": {
    "collapsed": true
   },
   "outputs": [],
   "source": [
    "def feature_derivative(errors, feature):\n",
    "    errors = np.squeeze(np.asarray(errors))\n",
    "    feature = np.squeeze(np.asarray(feature))\n",
    "    return 2*np.dot(errors, feature)"
   ]
  },
  {
   "cell_type": "code",
   "execution_count": 104,
   "metadata": {
    "collapsed": true
   },
   "outputs": [],
   "source": [
    "def compute_rmse(predictions, output):\n",
    "    return np.sqrt(np.mean((predictions-output)**2))"
   ]
  },
  {
   "cell_type": "code",
   "execution_count": 105,
   "metadata": {
    "autoscroll": "json-false",
    "collapsed": false,
    "ein.tags": [
     "worksheet-0"
    ],
    "slideshow": {
     "slide_type": "-"
    }
   },
   "outputs": [],
   "source": [
    "def gradient_descent(feature_matrix, output, initial_weights, R, tolerance, max_iter = 100000):\n",
    "    \"\"\"\n",
    "    Function\n",
    "    --------\n",
    "    bivariate_ols: Gradient Decent to minimize OLS. Used to find coefficients of bivariate OLS Linear regression\n",
    "\n",
    "    Parameters\n",
    "    ----------\n",
    "    xvalues, yvalues : narray xvalues: independent variable; yvalues: dependent variable\n",
    "    R: float, Learning rate\n",
    "    MaxIterations: Int, maximum number of iterations\n",
    "\n",
    "    Returns\n",
    "    -------\n",
    "    alpha: float, intercept\n",
    "    beta: float, co-efficient\n",
    "    ttaken: time taken\n",
    "    it: number of iterations\n",
    "    convergence: logical, convergence achieved?\n",
    "    \"\"\"\n",
    "    converged = False \n",
    "    weights = np.array(initial_weights)\n",
    "    count = 0 \n",
    "    start_time = timeit.default_timer()\n",
    "    while not converged and count < max_iter:\n",
    "        predictions = predict_output(feature_matrix, weights)\n",
    "        \n",
    "        \n",
    "        errors = predictions - output \n",
    "       \n",
    "        gradient_sum_squares = 0\n",
    "        for i in xrange(len(weights)):\n",
    "            gradient = feature_derivative(errors, feature_matrix[:,i])\n",
    "            gradient_sum_squares += gradient**2\n",
    "            weights[i] = weights[i] - R*gradient\n",
    "        \n",
    "        gradient_magnitude = np.sqrt(gradient_sum_squares)\n",
    "        \n",
    "        if gradient_magnitude < tolerance:\n",
    "            converged = True \n",
    "        \n",
    "        count+=1\n",
    "        \n",
    "        \n",
    "    elapsed = timeit.default_timer() - start_time\n",
    "        \n",
    "    return weights, elapsed, count, converged "
   ]
  },
  {
   "cell_type": "code",
   "execution_count": 106,
   "metadata": {
    "collapsed": false
   },
   "outputs": [],
   "source": [
    "X_df['constant'] = 1 \n",
    "features = ['constant','RM']\n",
    "feature_df = X_df[features]\n",
    "feature_matrix = feature_df.as_matrix()\n",
    "output = Y_df.as_matrix()\n",
    "initial_weights = [0. for i in range(len(feature_matrix[0]))]\n",
    "initial_weights = np.array(initial_weights).reshape(-1,1)\n",
    "step_size = 0.00003"
   ]
  },
  {
   "cell_type": "code",
   "execution_count": 107,
   "metadata": {
    "collapsed": false,
    "scrolled": true
   },
   "outputs": [],
   "source": [
    "import timeit\n",
    "weights, time_taken, iterations, converged = gradient_descent(feature_matrix, output, initial_weights, step_size,tolerance = 2, max_iter=2) "
   ]
  },
  {
   "cell_type": "code",
   "execution_count": 108,
   "metadata": {
    "collapsed": false
   },
   "outputs": [
    {
     "name": "stdout",
     "output_type": "stream",
     "text": [
      "Weights : [[ 0.50113335]\n",
      " [ 3.35539633]]\n",
      "Time Taken (in seconds):0.000862836837769\n",
      "Iterations needed 2\n",
      "Converged (T/F): False\n"
     ]
    }
   ],
   "source": [
    "print 'Weights : {0}'.format(weights)\n",
    "print 'Time Taken (in seconds):{0}'.format(time_taken)\n",
    "print 'Iterations needed {0}'.format(iterations)\n",
    "print 'Converged (T/F): {0}'.format(converged)"
   ]
  },
  {
   "cell_type": "code",
   "execution_count": 109,
   "metadata": {
    "collapsed": false
   },
   "outputs": [
    {
     "data": {
      "text/plain": [
       "7.7950781960164779"
      ]
     },
     "execution_count": 109,
     "metadata": {},
     "output_type": "execute_result"
    }
   ],
   "source": [
    "test_predictions = predict_output(feature_matrix, weights)\n",
    "compute_rmse(test_predictions,output)"
   ]
  },
  {
   "cell_type": "markdown",
   "metadata": {
    "ein.tags": [
     "worksheet-0"
    ],
    "slideshow": {
     "slide_type": "-"
    }
   },
   "source": [
    "### 2.2 Data normalization (done for you!)\n",
    "\n",
    "Soon, you will implement a version of gradient descent that can use an arbitrary number of independent variables. Before doing this, we want to give you some code in case you want to standardize your features."
   ]
  },
  {
   "cell_type": "code",
   "execution_count": 110,
   "metadata": {
    "autoscroll": "json-false",
    "collapsed": false,
    "ein.tags": [
     "worksheet-0"
    ],
    "slideshow": {
     "slide_type": "-"
    }
   },
   "outputs": [],
   "source": [
    "def standardize(raw_data):\n",
    "    \"\"\"\n",
    "    standardizes raw data and returns\n",
    "    standardized data, mean by column, sd by column\n",
    "    \"\"\"\n",
    "    mu = np.mean(raw_data, axis = 0)\n",
    "    sd = np.std(raw_data, axis = 0)\n",
    "    return (raw_data - mu) / sd, mu, sd\n"
   ]
  },
  {
   "cell_type": "markdown",
   "metadata": {
    "ein.tags": [
     "worksheet-0"
    ],
    "slideshow": {
     "slide_type": "-"
    }
   },
   "source": [
    "### 2.3 Implement gradient descent with an arbitrary number of independent variables\n",
    "\n",
    "Now that you have a simple version of gradient descent working, create a version of gradient descent that can take more than one independent variable.  Assume all independent variables will be continuous.  Test your algorithm using CRIM and RM as independent variables. Standardize these variables before before inputting them to the gradient descent algorithm. \n",
    "\n",
    "As before,  report and interpret your estimated coefficients, the number of iterations before convergence, and the total running time of your algorithm. Experiment with the following values of R: 0.1, 0.01, and 0.001.\n",
    "\n",
    "* *Hint 1: Be careful to implement this efficiently, otherwise it might take a long time for your code to run. Commands like `np.dot` can be a good friend to you on this problem*"
   ]
  },
  {
   "cell_type": "code",
   "execution_count": 111,
   "metadata": {
    "autoscroll": "json-false",
    "collapsed": false,
    "ein.tags": [
     "worksheet-0"
    ],
    "slideshow": {
     "slide_type": "-"
    }
   },
   "outputs": [
    {
     "name": "stdout",
     "output_type": "stream",
     "text": [
      "[0.0, 0.0, 0.0]\n"
     ]
    },
    {
     "name": "stderr",
     "output_type": "stream",
     "text": [
      "/anaconda/envs/gl-env/lib/python2.7/site-packages/ipykernel/__main__.py:34: RuntimeWarning: overflow encountered in double_scalars\n",
      "/anaconda/envs/gl-env/lib/python2.7/site-packages/ipykernel/__main__.py:4: RuntimeWarning: overflow encountered in double_scalars\n"
     ]
    },
    {
     "name": "stdout",
     "output_type": "stream",
     "text": [
      "For step_size : 0.1\n",
      "------------------------------\n",
      "Weights : [[ nan]\n",
      " [ nan]\n",
      " [ nan]]\n",
      "Time Taken (in seconds):18.3746340275\n",
      "Iterations needed 100000\n",
      "Converged (T/F): False\n",
      "RMSE : nan\n",
      "For step_size : 0.01\n",
      "------------------------------\n",
      "Weights : [[ nan]\n",
      " [ nan]\n",
      " [ nan]]\n",
      "Time Taken (in seconds):22.7042798996\n",
      "Iterations needed 100000\n",
      "Converged (T/F): False\n",
      "RMSE : nan\n",
      "For step_size : 0.001\n",
      "------------------------------\n",
      "Weights : [[ 22.53280632]\n",
      " [ -2.24860926]\n",
      " [  5.89441657]]\n",
      "Time Taken (in seconds):0.00212407112122\n",
      "Iterations needed 18\n",
      "Converged (T/F): True\n",
      "RMSE : 6.22807325025\n"
     ]
    }
   ],
   "source": [
    "data = X_df[['CRIM','RM']].as_matrix()\n",
    "std_data, mean, sd = standardize(data)\n",
    "constant_col = np.array([1 for i in range(len(data))]).reshape(-1,1)\n",
    "\n",
    "std_data = np.append(constant_col, std_data,1)\n",
    "step_list = [0.1,0.01,0.001]\n",
    "initial_weights = [0. for i in range(len(std_data[0]))]\n",
    "print initial_weights\n",
    "initial_weights = np.array(initial_weights).reshape(-1,1)\n",
    "for step_size in step_list:\n",
    "    weights, time_taken, iteration, converged = gradient_descent(std_data, output, initial_weights, step_size,tolerance = 2e-7)\n",
    "    print 'For step_size : {0}'.format(step_size)\n",
    "    print '------------------------------'\n",
    "    print 'Weights : {0}'.format(weights)\n",
    "    print 'Time Taken (in seconds):{0}'.format(time_taken)\n",
    "    print 'Iterations needed {0}'.format(iteration)\n",
    "    print 'Converged (T/F): {0}'.format(converged)\n",
    "    test_predictions = predict_output(std_data, weights)\n",
    "    rmse = compute_rmse(test_predictions,output)\n",
    "    print 'RMSE : {0}'.format(rmse)"
   ]
  },
  {
   "cell_type": "markdown",
   "metadata": {
    "ein.tags": [
     "worksheet-0"
    ],
    "slideshow": {
     "slide_type": "-"
    }
   },
   "source": [
    "### 2.4 Compare standardized vs. non-standardized results\n",
    "\n",
    "Repeat the analysis from 2.3, but this time do not standardize your variables - i.e., use the original data. Use the same three values of R (0.1, 0.01, and 0.001). What do you notice about the running time and convergence properties of your algorithm?"
   ]
  },
  {
   "cell_type": "code",
   "execution_count": 112,
   "metadata": {
    "autoscroll": "json-false",
    "collapsed": false,
    "ein.tags": [
     "worksheet-0"
    ],
    "slideshow": {
     "slide_type": "-"
    }
   },
   "outputs": [
    {
     "name": "stdout",
     "output_type": "stream",
     "text": [
      "[0.0, 0.0, 0.0]\n"
     ]
    },
    {
     "name": "stderr",
     "output_type": "stream",
     "text": [
      "/anaconda/envs/gl-env/lib/python2.7/site-packages/ipykernel/__main__.py:34: RuntimeWarning: overflow encountered in double_scalars\n",
      "/anaconda/envs/gl-env/lib/python2.7/site-packages/ipykernel/__main__.py:35: RuntimeWarning: invalid value encountered in subtract\n"
     ]
    },
    {
     "name": "stdout",
     "output_type": "stream",
     "text": [
      "For step_size : 0.1\n",
      "------------------------------\n",
      "Weights : [[ nan]\n",
      " [ nan]\n",
      " [ nan]]\n",
      "Time Taken (in seconds): 17.7209889889\n",
      "Iterations needed 100000\n",
      "Converged (T/F): False\n",
      "RMSE : nan\n",
      "For step_size : 0.01\n",
      "------------------------------\n",
      "Weights : [[ nan]\n",
      " [ nan]\n",
      " [ nan]]\n",
      "Time Taken (in seconds): 20.9152050018\n",
      "Iterations needed 100000\n",
      "Converged (T/F): False\n",
      "RMSE : nan\n",
      "For step_size : 0.001\n",
      "------------------------------\n",
      "Weights : [[ nan]\n",
      " [ nan]\n",
      " [ nan]]\n",
      "Time Taken (in seconds): 15.7361090183\n",
      "Iterations needed 100000\n",
      "Converged (T/F): False\n",
      "RMSE : nan\n"
     ]
    }
   ],
   "source": [
    "data = X_df[['CRIM','RM']].as_matrix()\n",
    "constant_col = np.array([1 for i in range(len(data))]).reshape(-1,1)\n",
    "\n",
    "data = np.append(constant_col, data,1)\n",
    "step_list = [0.1,0.01,0.001]\n",
    "initial_weights = [0. for i in range(len(data[0]))]\n",
    "print initial_weights\n",
    "initial_weights = np.array(initial_weights).reshape(-1,1)\n",
    "for step_size in step_list:\n",
    "    weights, time_taken, iteration, converged = gradient_descent(data, output, initial_weights, step_size,tolerance = 2e-7)\n",
    "    print 'For step_size : {0}'.format(step_size)\n",
    "    print '------------------------------'\n",
    "    print 'Weights : {0}'.format(weights)\n",
    "    print 'Time Taken (in seconds): {0}'.format(time_taken)\n",
    "    print 'Iterations needed {0}'.format(iteration)\n",
    "    print 'Converged (T/F): {0}'.format(converged)\n",
    "    test_predictions = predict_output(data, weights)\n",
    "    rmse = compute_rmse(test_predictions,output)\n",
    "    print 'RMSE : {0}'.format(rmse)"
   ]
  },
  {
   "cell_type": "markdown",
   "metadata": {
    "ein.tags": [
     "worksheet-0"
    ],
    "slideshow": {
     "slide_type": "-"
    }
   },
   "source": [
    "## 3. Prediction\n",
    "\n",
    "Let's use our fitted model to make predictions about housing prices. Since the focus is now on prediction rather than the interpretation of the coefficients, first standardize your features before proceeding.\n",
    "\n",
    "### 3.1 Cross-Validation\n",
    "\n",
    "Unless you were careful above, you probably overfit your data again. Let's fix that in one of two ways. If you're feeling confident, use k-fold cross-validation to re-fit the multiple regression from 2.3 above, and report your estimated coefficients (there should be three, corresponding to the intercept and the two coefficients for CRIM and RM). Or if you want to do the quick and dirty version, randomly divide your data into a training set (66%) and testing set (34%) and use the training set to re-fit the regression from 2.3 above. "
   ]
  },
  {
   "cell_type": "code",
   "execution_count": 116,
   "metadata": {
    "autoscroll": "json-false",
    "collapsed": false,
    "ein.tags": [
     "worksheet-0"
    ],
    "slideshow": {
     "slide_type": "-"
    }
   },
   "outputs": [],
   "source": [
    "# using k-fold cross validation code from Problem Set 3 \n",
    "def k_cross_validation(data, features, initial_weights, R, tolerance, folds = 10, verbose=False):\n",
    "    if features == []:\n",
    "        data['constant'] = 1\n",
    "        features = ['constant'] + list(data.columns) + ['MEDV']\n",
    "        total_data = data[features]\n",
    "        len_features = total_data.shape[1] -1\n",
    "    else:\n",
    "        len_features = len(features) + 1\n",
    "        data['constant'] = 1\n",
    "        features = ['constant'] + features + ['MEDV']\n",
    "        total_data = data[features]\n",
    "    \n",
    "    \n",
    "    # creating index slices \n",
    "    total_indices = list(total_data.index)\n",
    "    \n",
    "    np.random.seed(100)\n",
    "    np.random.shuffle(total_indices)\n",
    "    \n",
    "    remaining_k = []\n",
    "    size_partition = len(total_indices)/folds\n",
    "    rmse_list = []\n",
    "    \n",
    "    \n",
    "    for i in range(1,folds+1):\n",
    "        if verbose == True:\n",
    "            print 'Iteration :{0}'.format(i)\n",
    "            print '----------------------------'\n",
    "        test = total_indices[(i-1)*size_partition:i*size_partition]\n",
    "        \n",
    "        test1_data = total_data.iloc[test].as_matrix()\n",
    "        test_data,mu, sd = standardize(test1_data[:,1:len_features])\n",
    "        \n",
    "        constant_col = np.array([1 for j in range(len(test1_data))]).reshape(-1,1)\n",
    "        \n",
    "        test_data = np.append(constant_col,test_data, 1)\n",
    "        \n",
    "        test_output = test1_data[:,len_features]\n",
    "        \n",
    "        if verbose == True:\n",
    "            print 'Test data index {0}, {1}'.format((i-1)*size_partition,i*size_partition)\n",
    "            print 'Test data size :{0}'.format(test_data.shape)\n",
    "        remaining_k += test\n",
    "        rem = list(set(test)^set(remaining_k))\n",
    "       \n",
    "        train = rem + total_indices[i*size_partition:]\n",
    "        \n",
    "        train1_data = total_data.iloc[train].as_matrix()\n",
    "        \n",
    "        train_std_data,mu, sd = standardize(train1_data[:,1:len_features])\n",
    "        \n",
    "        constant_col = np.array([1 for j in range(len(train_std_data))]).reshape(-1,1)\n",
    "        \n",
    "        train_data = np.append(constant_col,train_std_data, 1)\n",
    "        \n",
    "        train_output = train1_data[:,len_features]\n",
    "        \n",
    "        if verbose == True:\n",
    "            print 'Train data size :{0}'.format(train_data.shape)\n",
    "        # calculate weights using the training data \n",
    "        \n",
    "        weights, time_taken, iterations, converged = gradient_descent(train_data, train_output, initial_weights, R,tolerance)\n",
    "        \n",
    "        predictions = predict_output(test_data,weights)\n",
    "        \n",
    "         \n",
    "        pred = np.array(predictions)\n",
    "        rmse = compute_rmse(pred,test_output)\n",
    "        if verbose == True:\n",
    "            print 'RMSE :{0}'.format(rmse)\n",
    "            print ' '\n",
    "        rmse_list.append(rmse)\n",
    "    return rmse_list, predictions, test_output"
   ]
  },
  {
   "cell_type": "code",
   "execution_count": 104,
   "metadata": {
    "collapsed": false
   },
   "outputs": [
    {
     "name": "stdout",
     "output_type": "stream",
     "text": [
      "[ 22.53662281  -2.20775313   5.66693171]\n",
      "18\n",
      "[ 22.56315789  -2.15439924   5.91251261]\n",
      "16\n",
      "[ 22.58223684  -2.3482798    5.88996288]\n",
      "16\n",
      "[ 22.45526316  -2.29952735   5.90164635]\n",
      "16\n",
      "[ 22.53574561  -2.42882689   5.83031776]\n",
      "16\n",
      "[ 22.6997807   -2.11606282   5.96905483]\n",
      "16\n",
      "[ 22.67127193  -2.28318455   5.96228079]\n",
      "16\n",
      "[ 22.17565789  -2.37163984   5.67846343]\n",
      "16\n",
      "[ 22.3375      -2.21834354   6.03094758]\n",
      "16\n",
      "[ 22.79714912  -2.05867894   6.12318956]\n",
      "16\n"
     ]
    }
   ],
   "source": [
    "import random\n",
    "import timeit\n",
    "initial_weights = [0. for i in range(3)]\n",
    "list1, predictions, output = k_cross_validation(df, features = ['CRIM','RM'],initial_weights = initial_weights, R = 0.001, tolerance = 2e-5, folds = 10, verbose = False)"
   ]
  },
  {
   "cell_type": "code",
   "execution_count": 117,
   "metadata": {
    "collapsed": false
   },
   "outputs": [],
   "source": [
    "#Trying a train-test split\n",
    "initial_weights = [0. for i in range(2)]\n",
    "list2, prediction2, output2 = k_cross_validation(df, features = ['RM'],initial_weights = initial_weights, R = 0.001, tolerance = 2e-5, folds = 10, verbose = False)"
   ]
  },
  {
   "cell_type": "code",
   "execution_count": 118,
   "metadata": {
    "collapsed": false
   },
   "outputs": [
    {
     "data": {
      "text/plain": [
       "6.582734245373044"
      ]
     },
     "execution_count": 118,
     "metadata": {},
     "output_type": "execute_result"
    }
   ],
   "source": [
    "np.mean(list2)"
   ]
  },
  {
   "cell_type": "markdown",
   "metadata": {
    "ein.tags": [
     "worksheet-0"
    ],
    "slideshow": {
     "slide_type": "-"
    }
   },
   "source": [
    "### 3.2 Predicted values and RMSE\n",
    "\n",
    "Let's figure out how accurate this predictive model turned out to be. Compute the RMSE on your test cases, i.e. take the model parameters that you found above and compare the actual to the predicted values for just the test instances. If you did this the k-fold way above, this will be the average RMSE across the k test sets. If you did this the quick and dirty way above, this will just be the RMSE on your single test set.\n",
    "\n",
    "What is your test RMSE?  How does it compare to the performance of your nearest neighbor algorithm from the last problem set?  How does it compare to RMSE from a simpler model where number of rooms is the only explanatory variable?"
   ]
  },
  {
   "cell_type": "code",
   "execution_count": null,
   "metadata": {
    "collapsed": true
   },
   "outputs": [],
   "source": [
    "#Simpler model \n"
   ]
  },
  {
   "cell_type": "markdown",
   "metadata": {
    "autoscroll": "json-false",
    "collapsed": false,
    "ein.tags": [
     "worksheet-0"
    ],
    "slideshow": {
     "slide_type": "-"
    }
   },
   "source": [
    "As we see from above, we performed k-cross validation and obtained an ``` RMSE : 6.25```. This is not as good as the nearest neighbors RMSE for parameters neighbors = 5, where ```  RMSE =  5.57 ```. It does better than a simpler model where the ``` RMSE = 6.58``` and number of rooms is the only explanatory variable "
   ]
  },
  {
   "cell_type": "markdown",
   "metadata": {
    "ein.tags": [
     "worksheet-0"
    ],
    "slideshow": {
     "slide_type": "-"
    }
   },
   "source": [
    "### Extra Credit 1: Logistic Regression\n",
    "\n",
    "For extra credit, implement logistic regression using gradient descent. Create a new variable (EXPENSIVE) to indicate whether the median housing price is more than $40,000. Use your model  a logistic regression of EXPENSIVE on CHAS and RM. Report your results."
   ]
  },
  {
   "cell_type": "code",
   "execution_count": null,
   "metadata": {
    "autoscroll": "json-false",
    "collapsed": false,
    "ein.tags": [
     "worksheet-0"
    ],
    "slideshow": {
     "slide_type": "-"
    }
   },
   "outputs": [],
   "source": [
    "\n"
   ]
  },
  {
   "cell_type": "markdown",
   "metadata": {
    "ein.tags": [
     "worksheet-0"
    ],
    "slideshow": {
     "slide_type": "-"
    }
   },
   "source": [
    "## 4 Regularization \n",
    "\n",
    "### 4.1 Get prepped\n",
    "\n",
    "Step 1: Create new interaction variables between each possible pair of the F_s features.  Note: as all the original features are numeric, you can just multiply.  If you originally had *K* features, you should now have K+(K*(K+1))/2 features. Standardize all of your features.\n",
    "\n",
    "Step 2: For simplicity, generate a single training and testing set.  Randomly sample 66% of your data and call this the training set, and set aside the remaining 34% as your test set."
   ]
  },
  {
   "cell_type": "code",
   "execution_count": null,
   "metadata": {
    "autoscroll": "json-false",
    "collapsed": false,
    "ein.tags": [
     "worksheet-0"
    ],
    "slideshow": {
     "slide_type": "-"
    }
   },
   "outputs": [],
   "source": [
    "# create interaction terms \n",
    "# from sklearn.preprocessing import PolynomialFeatures\n"
   ]
  },
  {
   "cell_type": "markdown",
   "metadata": {
    "ein.tags": [
     "worksheet-0"
    ],
    "slideshow": {
     "slide_type": "-"
    }
   },
   "source": [
    "### 4.2 Let's overfit!\n",
    "Now, using your version of multiple regression from 2.3, let's overfit the training data. Using your training set, regress housing price on as many of those K+(K*(K+1))/2 features as you can.  If you get too greedy, it's possible this will take a long time to compute, so start with 5-10 features, and if you have the time, add more features.\n",
    "\n",
    "Report the RMSE when you apply your model to your training set and to your testing set. How do these numbers compare to each other, and to the RMSE from 3.2 and nearest neighbors?"
   ]
  },
  {
   "cell_type": "code",
   "execution_count": null,
   "metadata": {
    "autoscroll": "json-false",
    "collapsed": false,
    "ein.tags": [
     "worksheet-0"
    ],
    "slideshow": {
     "slide_type": "-"
    }
   },
   "outputs": [],
   "source": [
    "\n"
   ]
  },
  {
   "cell_type": "markdown",
   "metadata": {
    "ein.tags": [
     "worksheet-0"
    ],
    "slideshow": {
     "slide_type": "-"
    }
   },
   "source": [
    "### 4.3 Ridge regularization\n",
    "a) Incorporate L2 (Ridge) regularization into your multiple_ols regression. Write a new version of your gradient descent algorithm that includes a regularization term \"lambda\" to penalize excessive complexity. \n",
    "\n",
    "b) Use your regularized regression to re-fit the model from 4.2 above on your training data. Try this for several different values of lambda, and report your RMSE for each lambda separately for your training and testing data. How do these numbers compare to each other, to the RMSE from 4.2,  to the RMSE from 2.3, and to the RMSE from nearest neighbors?\n",
    "\n",
    "c) Go brag to your friends about how you just implemented ridge-regularized multiple regression using gradient descent optimization, from scratch (if you still have any friends left...)"
   ]
  },
  {
   "cell_type": "code",
   "execution_count": 102,
   "metadata": {
    "autoscroll": "json-false",
    "collapsed": false,
    "ein.tags": [
     "worksheet-0"
    ],
    "slideshow": {
     "slide_type": "-"
    }
   },
   "outputs": [],
   "source": []
  },
  {
   "cell_type": "markdown",
   "metadata": {
    "ein.tags": [
     "worksheet-0"
    ],
    "slideshow": {
     "slide_type": "-"
    }
   },
   "source": [
    "### Extra Credit 2: Cross-validate lambda\n",
    "\n",
    "Use k-fold cross-validation to select the optimal value of lambda. Report the average RMSE across all training sets, and the average RMSE across all testing sets. How do these numbers compare to each other, to the RMSE from your previous efforts?  Finally, create a plot that shows RMSE as a function of lambda."
   ]
  },
  {
   "cell_type": "code",
   "execution_count": null,
   "metadata": {
    "autoscroll": "json-false",
    "collapsed": false,
    "ein.tags": [
     "worksheet-0"
    ],
    "slideshow": {
     "slide_type": "-"
    }
   },
   "outputs": [],
   "source": [
    "\n"
   ]
  },
  {
   "cell_type": "markdown",
   "metadata": {
    "ein.tags": [
     "worksheet-0"
    ],
    "slideshow": {
     "slide_type": "-"
    }
   },
   "source": [
    "### (Showoff) Extra Credit 3: Lambda and coefficients\n",
    "\n",
    "If you're feeling extra-special, create a parameter plot that shows how the different coefficient estimates change as a function of lambda. To make this graph intelligible, only include the *K* original F_s features in this plot"
   ]
  },
  {
   "cell_type": "code",
   "execution_count": null,
   "metadata": {
    "autoscroll": "json-false",
    "collapsed": false,
    "ein.tags": [
     "worksheet-0"
    ],
    "slideshow": {
     "slide_type": "-"
    }
   },
   "outputs": [],
   "source": [
    "\n",
    "    "
   ]
  }
 ],
 "metadata": {
  "anaconda-cloud": {},
  "kernelspec": {
   "display_name": "Python 2",
   "language": "python",
   "name": "python2"
  },
  "language_info": {
   "codemirror_mode": {
    "name": "ipython",
    "version": 2
   },
   "file_extension": ".py",
   "mimetype": "text/x-python",
   "name": "python",
   "nbconvert_exporter": "python",
   "pygments_lexer": "ipython2",
   "version": "2.7.11"
  },
  "name": "INFX574-PS4-solutions.ipynb"
 },
 "nbformat": 4,
 "nbformat_minor": 0
}
