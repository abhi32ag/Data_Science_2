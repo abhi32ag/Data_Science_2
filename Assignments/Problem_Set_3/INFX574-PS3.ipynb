{
 "cells": [
  {
   "cell_type": "markdown",
   "metadata": {
    "ein.tags": [
     "worksheet-0"
    ],
    "slideshow": {
     "slide_type": "-"
    }
   },
   "source": [
    "# Problem Set 3, due May 9th at 3:30pm.\n",
    "\n",
    "### Before You Start\n",
    "\n",
    "Make sure the following libraries load correctly (hit Ctrl-Enter). Note that while you are loading several powerful libraries, including machine learning libraries, the goal of this problem set is to implement several algorithms from scratch. In particular, you should *not* be using any built-in libraries for nearest neighbors, distance metrics, or cross-validation -- your mission is to write those algorithms in Python!\n",
    "\n",
    "*Also note:* For this assignment we are requiring you to use base **matplotlib** - no more Seaborn or other packages. This will help you become familiar with techniques for maintaining fine-grained control over your data visualizations. It will also help our graders, who spent countless hours trying to make various versions import for grading."
   ]
  },
  {
   "cell_type": "code",
   "execution_count": 1,
   "metadata": {
    "autoscroll": "json-false",
    "collapsed": false,
    "ein.tags": [
     "worksheet-0"
    ],
    "slideshow": {
     "slide_type": "-"
    }
   },
   "outputs": [],
   "source": [
    "import IPython\n",
    "import numpy as np\n",
    "import scipy as sp\n",
    "import pandas as pd\n",
    "import matplotlib.pyplot as plt\n",
    "import seaborn as sns; sns.set()\n",
    "%matplotlib inline\n",
    "import sklearn\n",
    "import random"
   ]
  },
  {
   "cell_type": "markdown",
   "metadata": {
    "ein.tags": [
     "worksheet-0"
    ],
    "slideshow": {
     "slide_type": "-"
    }
   },
   "source": [
    "---\n",
    "\n",
    "## Introduction to the assignment\n",
    "\n",
    "For this assignment, you will be using the [Boston Housing Prices Data Set](http://archive.ics.uci.edu/ml/datasets/Housing).  Please read about the dataset carefully before continuing.  Use the following commands to load the dataset and print some descriptive information\n"
   ]
  },
  {
   "cell_type": "code",
   "execution_count": 2,
   "metadata": {
    "autoscroll": "json-false",
    "collapsed": false,
    "ein.tags": [
     "worksheet-0"
    ],
    "slideshow": {
     "slide_type": "-"
    }
   },
   "outputs": [],
   "source": [
    "from sklearn.datasets import load_boston\n",
    "bdata = load_boston()"
   ]
  },
  {
   "cell_type": "markdown",
   "metadata": {
    "ein.tags": [
     "worksheet-0"
    ],
    "slideshow": {
     "slide_type": "-"
    }
   },
   "source": [
    "The following commands will provide some basic information about the shape of the data:"
   ]
  },
  {
   "cell_type": "code",
   "execution_count": 3,
   "metadata": {
    "autoscroll": "json-false",
    "collapsed": false,
    "ein.tags": [
     "worksheet-0"
    ],
    "slideshow": {
     "slide_type": "-"
    }
   },
   "outputs": [
    {
     "name": "stdout",
     "output_type": "stream",
     "text": [
      "['data', 'feature_names', 'DESCR', 'target']\n",
      "['CRIM' 'ZN' 'INDUS' 'CHAS' 'NOX' 'RM' 'AGE' 'DIS' 'RAD' 'TAX' 'PTRATIO'\n",
      " 'B' 'LSTAT']\n",
      "(506, 13)\n",
      "(506,)\n",
      "Boston House Prices dataset\n",
      "\n",
      "Notes\n",
      "------\n",
      "Data Set Characteristics:  \n",
      "\n",
      "    :Number of Instances: 506 \n",
      "\n",
      "    :Number of Attributes: 13 numeric/categorical predictive\n",
      "    \n",
      "    :Median Value (attribute 14) is usually the target\n",
      "\n",
      "    :Attribute Information (in order):\n",
      "        - CRIM     per capita crime rate by town\n",
      "        - ZN       proportion of residential land zoned for lots over 25,000 sq.ft.\n",
      "        - INDUS    proportion of non-retail business acres per town\n",
      "        - CHAS     Charles River dummy variable (= 1 if tract bounds river; 0 otherwise)\n",
      "        - NOX      nitric oxides concentration (parts per 10 million)\n",
      "        - RM       average number of rooms per dwelling\n",
      "        - AGE      proportion of owner-occupied units built prior to 1940\n",
      "        - DIS      weighted distances to five Boston employment centres\n",
      "        - RAD      index of accessibility to radial highways\n",
      "        - TAX      full-value property-tax rate per $10,000\n",
      "        - PTRATIO  pupil-teacher ratio by town\n",
      "        - B        1000(Bk - 0.63)^2 where Bk is the proportion of blacks by town\n",
      "        - LSTAT    % lower status of the population\n",
      "        - MEDV     Median value of owner-occupied homes in $1000's\n",
      "\n",
      "    :Missing Attribute Values: None\n",
      "\n",
      "    :Creator: Harrison, D. and Rubinfeld, D.L.\n",
      "\n",
      "This is a copy of UCI ML housing dataset.\n",
      "http://archive.ics.uci.edu/ml/datasets/Housing\n",
      "\n",
      "\n",
      "This dataset was taken from the StatLib library which is maintained at Carnegie Mellon University.\n",
      "\n",
      "The Boston house-price data of Harrison, D. and Rubinfeld, D.L. 'Hedonic\n",
      "prices and the demand for clean air', J. Environ. Economics & Management,\n",
      "vol.5, 81-102, 1978.   Used in Belsley, Kuh & Welsch, 'Regression diagnostics\n",
      "...', Wiley, 1980.   N.B. Various transformations are used in the table on\n",
      "pages 244-261 of the latter.\n",
      "\n",
      "The Boston house-price data has been used in many machine learning papers that address regression\n",
      "problems.   \n",
      "     \n",
      "**References**\n",
      "\n",
      "   - Belsley, Kuh & Welsch, 'Regression diagnostics: Identifying Influential Data and Sources of Collinearity', Wiley, 1980. 244-261.\n",
      "   - Quinlan,R. (1993). Combining Instance-Based and Model-Based Learning. In Proceedings on the Tenth International Conference of Machine Learning, 236-243, University of Massachusetts, Amherst. Morgan Kaufmann.\n",
      "   - many more! (see http://archive.ics.uci.edu/ml/datasets/Housing)\n",
      "\n"
     ]
    }
   ],
   "source": [
    "print bdata.keys()\n",
    "print bdata.feature_names\n",
    "print bdata.data.shape\n",
    "print bdata.target.shape\n",
    "# uncomment the following if you want to see a lengthy description of the dataset\n",
    "print bdata.DESCR"
   ]
  },
  {
   "cell_type": "markdown",
   "metadata": {
    "ein.tags": [
     "worksheet-0"
    ],
    "slideshow": {
     "slide_type": "-"
    }
   },
   "source": [
    "---\n",
    "\n",
    "## Part 1: Descriptive analysis\n",
    "\n",
    "The goal of this section is to explore the data and make a few nice\n",
    "visualizations -- before beginning the \"real\" work, we should dig into\n",
    "the data a bit do see what we are dealing with.  If you're new to data visualization, [this guide](http://pubs.aeaweb.org/doi/pdfplus/10.1257/jep.28.1.209) is a good place to start.\n",
    "  \n",
    "\n",
    "### 1.1: Histogram of housing prices\n",
    "\n",
    "Your first task is to make a histogram of 'MEDV' (the median house\n",
    "                                                  value, your target\n",
    "                                                  variable), and make this graph look pretty by doing the following:\n",
    "\n",
    "1. Add appropriate labels to the x and y axes, make sure to include units\n",
    "2. Change the bin width on the histogram to be $1000\n",
    "3. Remove the axes on the top and right side of the plot window\n",
    "4. Change the color of the bars to be green, and remove the black borders from the bars\n"
   ]
  },
  {
   "cell_type": "code",
   "execution_count": 4,
   "metadata": {
    "autoscroll": "json-false",
    "collapsed": false,
    "ein.tags": [
     "worksheet-0"
    ],
    "slideshow": {
     "slide_type": "-"
    }
   },
   "outputs": [],
   "source": [
    "X = bdata.data\n",
    "Y = bdata.target"
   ]
  },
  {
   "cell_type": "code",
   "execution_count": 5,
   "metadata": {
    "collapsed": false
   },
   "outputs": [],
   "source": [
    "cols = bdata.feature_names"
   ]
  },
  {
   "cell_type": "code",
   "execution_count": 6,
   "metadata": {
    "collapsed": false
   },
   "outputs": [],
   "source": [
    "X_df = pd.DataFrame(X, columns = cols)\n",
    "Y_df = pd.DataFrame(Y)"
   ]
  },
  {
   "cell_type": "code",
   "execution_count": 7,
   "metadata": {
    "collapsed": false
   },
   "outputs": [
    {
     "data": {
      "text/html": [
       "<div>\n",
       "<table border=\"1\" class=\"dataframe\">\n",
       "  <thead>\n",
       "    <tr style=\"text-align: right;\">\n",
       "      <th></th>\n",
       "      <th>CRIM</th>\n",
       "      <th>ZN</th>\n",
       "      <th>INDUS</th>\n",
       "      <th>CHAS</th>\n",
       "      <th>NOX</th>\n",
       "      <th>RM</th>\n",
       "      <th>AGE</th>\n",
       "      <th>DIS</th>\n",
       "      <th>RAD</th>\n",
       "      <th>TAX</th>\n",
       "      <th>PTRATIO</th>\n",
       "      <th>B</th>\n",
       "      <th>LSTAT</th>\n",
       "    </tr>\n",
       "  </thead>\n",
       "  <tbody>\n",
       "    <tr>\n",
       "      <th>0</th>\n",
       "      <td>0.00632</td>\n",
       "      <td>18.0</td>\n",
       "      <td>2.31</td>\n",
       "      <td>0.0</td>\n",
       "      <td>0.538</td>\n",
       "      <td>6.575</td>\n",
       "      <td>65.2</td>\n",
       "      <td>4.0900</td>\n",
       "      <td>1.0</td>\n",
       "      <td>296.0</td>\n",
       "      <td>15.3</td>\n",
       "      <td>396.90</td>\n",
       "      <td>4.98</td>\n",
       "    </tr>\n",
       "    <tr>\n",
       "      <th>1</th>\n",
       "      <td>0.02731</td>\n",
       "      <td>0.0</td>\n",
       "      <td>7.07</td>\n",
       "      <td>0.0</td>\n",
       "      <td>0.469</td>\n",
       "      <td>6.421</td>\n",
       "      <td>78.9</td>\n",
       "      <td>4.9671</td>\n",
       "      <td>2.0</td>\n",
       "      <td>242.0</td>\n",
       "      <td>17.8</td>\n",
       "      <td>396.90</td>\n",
       "      <td>9.14</td>\n",
       "    </tr>\n",
       "    <tr>\n",
       "      <th>2</th>\n",
       "      <td>0.02729</td>\n",
       "      <td>0.0</td>\n",
       "      <td>7.07</td>\n",
       "      <td>0.0</td>\n",
       "      <td>0.469</td>\n",
       "      <td>7.185</td>\n",
       "      <td>61.1</td>\n",
       "      <td>4.9671</td>\n",
       "      <td>2.0</td>\n",
       "      <td>242.0</td>\n",
       "      <td>17.8</td>\n",
       "      <td>392.83</td>\n",
       "      <td>4.03</td>\n",
       "    </tr>\n",
       "    <tr>\n",
       "      <th>3</th>\n",
       "      <td>0.03237</td>\n",
       "      <td>0.0</td>\n",
       "      <td>2.18</td>\n",
       "      <td>0.0</td>\n",
       "      <td>0.458</td>\n",
       "      <td>6.998</td>\n",
       "      <td>45.8</td>\n",
       "      <td>6.0622</td>\n",
       "      <td>3.0</td>\n",
       "      <td>222.0</td>\n",
       "      <td>18.7</td>\n",
       "      <td>394.63</td>\n",
       "      <td>2.94</td>\n",
       "    </tr>\n",
       "    <tr>\n",
       "      <th>4</th>\n",
       "      <td>0.06905</td>\n",
       "      <td>0.0</td>\n",
       "      <td>2.18</td>\n",
       "      <td>0.0</td>\n",
       "      <td>0.458</td>\n",
       "      <td>7.147</td>\n",
       "      <td>54.2</td>\n",
       "      <td>6.0622</td>\n",
       "      <td>3.0</td>\n",
       "      <td>222.0</td>\n",
       "      <td>18.7</td>\n",
       "      <td>396.90</td>\n",
       "      <td>5.33</td>\n",
       "    </tr>\n",
       "  </tbody>\n",
       "</table>\n",
       "</div>"
      ],
      "text/plain": [
       "      CRIM    ZN  INDUS  CHAS    NOX     RM   AGE     DIS  RAD    TAX  \\\n",
       "0  0.00632  18.0   2.31   0.0  0.538  6.575  65.2  4.0900  1.0  296.0   \n",
       "1  0.02731   0.0   7.07   0.0  0.469  6.421  78.9  4.9671  2.0  242.0   \n",
       "2  0.02729   0.0   7.07   0.0  0.469  7.185  61.1  4.9671  2.0  242.0   \n",
       "3  0.03237   0.0   2.18   0.0  0.458  6.998  45.8  6.0622  3.0  222.0   \n",
       "4  0.06905   0.0   2.18   0.0  0.458  7.147  54.2  6.0622  3.0  222.0   \n",
       "\n",
       "   PTRATIO       B  LSTAT  \n",
       "0     15.3  396.90   4.98  \n",
       "1     17.8  396.90   9.14  \n",
       "2     17.8  392.83   4.03  \n",
       "3     18.7  394.63   2.94  \n",
       "4     18.7  396.90   5.33  "
      ]
     },
     "execution_count": 7,
     "metadata": {},
     "output_type": "execute_result"
    }
   ],
   "source": [
    "X_df.head()"
   ]
  },
  {
   "cell_type": "code",
   "execution_count": 8,
   "metadata": {
    "collapsed": false
   },
   "outputs": [
    {
     "data": {
      "text/html": [
       "<div>\n",
       "<table border=\"1\" class=\"dataframe\">\n",
       "  <thead>\n",
       "    <tr style=\"text-align: right;\">\n",
       "      <th></th>\n",
       "      <th>MEDV</th>\n",
       "    </tr>\n",
       "  </thead>\n",
       "  <tbody>\n",
       "    <tr>\n",
       "      <th>count</th>\n",
       "      <td>506.000000</td>\n",
       "    </tr>\n",
       "    <tr>\n",
       "      <th>mean</th>\n",
       "      <td>22.532806</td>\n",
       "    </tr>\n",
       "    <tr>\n",
       "      <th>std</th>\n",
       "      <td>9.197104</td>\n",
       "    </tr>\n",
       "    <tr>\n",
       "      <th>min</th>\n",
       "      <td>5.000000</td>\n",
       "    </tr>\n",
       "    <tr>\n",
       "      <th>25%</th>\n",
       "      <td>17.025000</td>\n",
       "    </tr>\n",
       "    <tr>\n",
       "      <th>50%</th>\n",
       "      <td>21.200000</td>\n",
       "    </tr>\n",
       "    <tr>\n",
       "      <th>75%</th>\n",
       "      <td>25.000000</td>\n",
       "    </tr>\n",
       "    <tr>\n",
       "      <th>max</th>\n",
       "      <td>50.000000</td>\n",
       "    </tr>\n",
       "  </tbody>\n",
       "</table>\n",
       "</div>"
      ],
      "text/plain": [
       "             MEDV\n",
       "count  506.000000\n",
       "mean    22.532806\n",
       "std      9.197104\n",
       "min      5.000000\n",
       "25%     17.025000\n",
       "50%     21.200000\n",
       "75%     25.000000\n",
       "max     50.000000"
      ]
     },
     "execution_count": 8,
     "metadata": {},
     "output_type": "execute_result"
    }
   ],
   "source": [
    "Y_df = Y_df.rename(columns = {0 : 'MEDV'})\n",
    "Y_df.describe()"
   ]
  },
  {
   "cell_type": "code",
   "execution_count": 9,
   "metadata": {
    "collapsed": false,
    "scrolled": true
   },
   "outputs": [
    {
     "data": {
      "text/plain": [
       "<matplotlib.text.Text at 0x116773210>"
      ]
     },
     "execution_count": 9,
     "metadata": {},
     "output_type": "execute_result"
    },
    {
     "data": {
      "image/png": "[encoded data removed]",
      "text/plain": [
       "<matplotlib.figure.Figure at 0x103dbef50>"
      ]
     },
     "metadata": {},
     "output_type": "display_data"
    }
   ],
   "source": [
    "ax = Y_df.plot(kind = 'hist', color = 'green', bins = 1000, figsize=(16,9))\n",
    "ax.set_xlabel('Median house value ( in 1000''s)')"
   ]
  },
  {
   "cell_type": "markdown",
   "metadata": {
    "ein.tags": [
     "worksheet-0"
    ],
    "slideshow": {
     "slide_type": "-"
    }
   },
   "source": [
    "### 1.2: Scatter plot of housing prices and crime\n",
    "\n",
    "Use matplotlib to create a scatter plot that shows the relationship\n",
    "between the median value of the home (y-axis) and the per-capita crime\n",
    "rate (x-axis).  Properly label your axes, and make sure that your\n",
    "graphic looks polished and professional.  \n"
   ]
  },
  {
   "cell_type": "code",
   "execution_count": 10,
   "metadata": {
    "autoscroll": "json-false",
    "collapsed": false,
    "ein.tags": [
     "worksheet-0"
    ],
    "slideshow": {
     "slide_type": "-"
    }
   },
   "outputs": [],
   "source": [
    "df = pd.concat([X_df, Y_df], axis = 1)"
   ]
  },
  {
   "cell_type": "code",
   "execution_count": 11,
   "metadata": {
    "collapsed": false
   },
   "outputs": [
    {
     "data": {
      "text/plain": [
       "\"scatter_plot = df.plot(kind = 'scatter', x = 'CRIM', y = 'MEDV', \\n        figsize =(16,9), alpha = 0.4, s = 100)\\nscatter_plot.set_xlabel('Per-capita crime rate')\\nscatter_plot.set_ylabel('Median Value of the Home')\""
      ]
     },
     "execution_count": 11,
     "metadata": {},
     "output_type": "execute_result"
    }
   ],
   "source": [
    "\"\"\"scatter_plot = df.plot(kind = 'scatter', x = 'CRIM', y = 'MEDV', \n",
    "        figsize =(16,9), alpha = 0.4, s = 100)\n",
    "scatter_plot.set_xlabel('Per-capita crime rate')\n",
    "scatter_plot.set_ylabel('Median Value of the Home')\"\"\""
   ]
  },
  {
   "cell_type": "code",
   "execution_count": 12,
   "metadata": {
    "collapsed": false
   },
   "outputs": [
    {
     "data": {
      "image/png": "[encoded data removed]",
      "text/plain": [
       "<matplotlib.figure.Figure at 0x118d77850>"
      ]
     },
     "metadata": {},
     "output_type": "display_data"
    }
   ],
   "source": [
    "scatter_plot = sns.jointplot(x = df['CRIM'], y = df['MEDV'], kind = 'scatter',\n",
    "                            joint_kws = {'alpha':0.5}, size = 10)\n"
   ]
  },
  {
   "cell_type": "markdown",
   "metadata": {
    "ein.tags": [
     "worksheet-0"
    ],
    "slideshow": {
     "slide_type": "-"
    }
   },
   "source": [
    "### 1.3 Create your own (creative and effective) visualization\n",
    "\n",
    "Use another type of graph or chart to illustrate an interesting pattern in the data.  Be creative in your visualization, and make sure to produce a \"publication-quality\" graph.  Points will be given for useful and creative graphs; points will be deducted for confusing issues like unlabeled axes.  "
   ]
  },
  {
   "cell_type": "code",
   "execution_count": 13,
   "metadata": {
    "autoscroll": "json-false",
    "collapsed": false,
    "ein.tags": [
     "worksheet-0"
    ],
    "slideshow": {
     "slide_type": "-"
    }
   },
   "outputs": [
    {
     "data": {
      "text/plain": [
       "[]"
      ]
     },
     "execution_count": 13,
     "metadata": {},
     "output_type": "execute_result"
    },
    {
     "data": {
      "image/png": "[encoded data removed]",
      "text/plain": [
       "<matplotlib.figure.Figure at 0x11bfcb950>"
      ]
     },
     "metadata": {},
     "output_type": "display_data"
    }
   ],
   "source": [
    "from sklearn.decomposition import PCA\n",
    "from mpl_toolkits.mplot3d import Axes3D\n",
    "# To getter a better understanding of interaction of the dimensions\n",
    "# plot the first three PCA dimensions\n",
    "fig = plt.figure(1, figsize=(8, 6))\n",
    "ax = Axes3D(fig, elev=-150, azim=110)\n",
    "X_reduced = PCA(n_components=3).fit_transform(X)\n",
    "ax.scatter(X_reduced[:, 0], X_reduced[:, 1], X_reduced[:, 2], c=Y,\n",
    "           cmap=plt.cm.Paired)\n",
    "ax.set_title(\"First three PCA directions\")\n",
    "ax.set_xlabel(\"1st eigenvector\")\n",
    "ax.w_xaxis.set_ticklabels([])\n",
    "ax.set_ylabel(\"2nd eigenvector\")\n",
    "ax.w_yaxis.set_ticklabels([])\n",
    "ax.set_zlabel(\"3rd eigenvector\")\n",
    "ax.w_zaxis.set_ticklabels([])"
   ]
  },
  {
   "cell_type": "markdown",
   "metadata": {
    "ein.tags": [
     "worksheet-0"
    ],
    "slideshow": {
     "slide_type": "-"
    }
   },
   "source": [
    "---\n",
    "\n",
    "## Part 2: Experimental Setup\n",
    "\n",
    "The goal of the next few sections is to design an experiment to predict the median home value for an instance in the data.\n",
    "\n",
    "### 2.1 Begin by writing a function to compute the Root Mean Squared Error for a list of numbers\n",
    "\n",
    "You can find the sqrt function in the Numpy package. \n",
    "Details of RMSE can be found in Hastie, Tibishrani, Friedman _The\n",
    "Elements of Statistical Learning_, Ch 2.5.  (Available on the web)\n",
    "\n"
   ]
  },
  {
   "cell_type": "code",
   "execution_count": 14,
   "metadata": {
    "autoscroll": "json-false",
    "collapsed": false,
    "ein.tags": [
     "worksheet-0"
    ],
    "slideshow": {
     "slide_type": "-"
    }
   },
   "outputs": [],
   "source": [
    "def compute_rmse(preds,y):\n",
    "    \"\"\"\n",
    "    Function\n",
    "    --------\n",
    "    compute_rmse\n",
    "\n",
    "    Given two arrays, one of actual values and one of predicted values,\n",
    "    compute the Roote Mean Squared Error\n",
    "\n",
    "    Parameters\n",
    "    ----------\n",
    "    predictions : array\n",
    "        Array of numerical values corresponding to predictions for each of the N observations\n",
    "\n",
    "    yvalues : array\n",
    "        Array of numerical values corresponding to the actual values for each of the N observations\n",
    "\n",
    "    Returns\n",
    "    -------\n",
    "    rmse : int\n",
    "        Root Mean Squared Error of the prediction\n",
    "\n",
    "    Example\n",
    "    -------\n",
    "    >>> print compute_rmse((2,2,3),(0,2,6)\n",
    "    2.08\n",
    "    \"\"\"\n",
    "    preds = np.array(preds)\n",
    "    y = np.array(y)\n",
    "    return np.sqrt(np.mean((preds- y)**2))"
   ]
  },
  {
   "cell_type": "code",
   "execution_count": 15,
   "metadata": {
    "collapsed": false
   },
   "outputs": [
    {
     "name": "stdout",
     "output_type": "stream",
     "text": [
      "2.08166599947\n"
     ]
    }
   ],
   "source": [
    "print compute_rmse((2,2,3),(0,2,6))"
   ]
  },
  {
   "cell_type": "markdown",
   "metadata": {
    "ein.tags": [
     "worksheet-0"
    ],
    "slideshow": {
     "slide_type": "-"
    }
   },
   "source": [
    "### 2.2 Divide your data into training and testing datasets\n",
    "\n",
    "\n",
    "Randomly select 66% of the data and put this in a training dataset\n",
    "(call this \"bdata_train\"), and place the remaining 34% in a testing\n",
    "dataset (call this \"bdata_test\").  Please us 'np.random' for random numbers.\n"
   ]
  },
  {
   "cell_type": "code",
   "execution_count": 16,
   "metadata": {
    "autoscroll": "json-false",
    "collapsed": false,
    "ein.tags": [
     "worksheet-0"
    ],
    "slideshow": {
     "slide_type": "-"
    }
   },
   "outputs": [
    {
     "name": "stdout",
     "output_type": "stream",
     "text": [
      "334\n"
     ]
    },
    {
     "name": "stderr",
     "output_type": "stream",
     "text": [
      "/anaconda/envs/gl-env/lib/python2.7/site-packages/ipykernel/__main__.py:3: DeprecationWarning: using a non-integer number instead of an integer will result in an error in the future\n",
      "  app.launch_new_instance()\n"
     ]
    }
   ],
   "source": [
    "# leave the following line untouched, it will help ensure that your \"random\" split is the same \"random\" split used by the rest of the class\n",
    "np.random.seed(seed=13579)\n",
    "indexes = np.random.choice(506, round(bdata.data.shape[0]*0.66), replace=False)\n",
    "print len(indexes)\n",
    "bdata_train = df.iloc[indexes,:]\n",
    "bdata_test = df.iloc[~(df.index.isin(indexes)),:]"
   ]
  },
  {
   "cell_type": "markdown",
   "metadata": {
    "ein.tags": [
     "worksheet-0"
    ],
    "slideshow": {
     "slide_type": "-"
    }
   },
   "source": [
    "### 2.3 Use a trivial baseline model for prediction, and compute RMSE\n",
    "Create a model that predicts, for every observation x_i, that the median home value is the average (mean) of the median values for all instances in the training set.  Compute the RMSE on the training set.  Now compute the RMSE on the test data set (but use the model you trained on the training set!).  How does RMSE compare for training vs. testing datasets? Is this what you expected, and why?"
   ]
  },
  {
   "cell_type": "code",
   "execution_count": 17,
   "metadata": {
    "autoscroll": "json-false",
    "collapsed": false,
    "ein.tags": [
     "worksheet-0"
    ],
    "slideshow": {
     "slide_type": "-"
    }
   },
   "outputs": [
    {
     "name": "stdout",
     "output_type": "stream",
     "text": [
      "22.0458083832\n",
      "The RMSE for training data is 8.57443441541\n",
      "The RMSE fot the test data is 10.3092622563\n"
     ]
    }
   ],
   "source": [
    "mean_y_train= bdata_train['MEDV'].mean()\n",
    "print mean_y_train\n",
    "print 'The RMSE for training data is {0}'.format(compute_rmse(mean_y_train, bdata_train['MEDV']))\n",
    "print 'The RMSE fot the test data is {0}'.format(compute_rmse(mean_y_train, bdata_test['MEDV']))"
   ]
  },
  {
   "cell_type": "markdown",
   "metadata": {},
   "source": [
    "As we can see the RMSE of the test set is worse than the RMSE on the training set. This was expected because the prediction is just the average value of median home values. Since we're using this same prediction on the test set as well we expect a worse performance on the test set"
   ]
  },
  {
   "cell_type": "markdown",
   "metadata": {
    "ein.tags": [
     "worksheet-0"
    ],
    "slideshow": {
     "slide_type": "-"
    }
   },
   "source": [
    "\n"
   ]
  },
  {
   "cell_type": "markdown",
   "metadata": {
    "ein.tags": [
     "worksheet-0"
    ],
    "slideshow": {
     "slide_type": "-"
    }
   },
   "source": [
    "##Part 3: Nearest Neighbors\n"
   ]
  },
  {
   "cell_type": "markdown",
   "metadata": {
    "ein.tags": [
     "worksheet-0"
    ],
    "slideshow": {
     "slide_type": "-"
    }
   },
   "source": [
    "### 3.1 Nearest Neighbors: Distance function\n",
    "Let's try and build a machine learning algorithm to beat the \"Average\n",
    "Value\" baseline that you computed above.  Soon you will implement the\n",
    "Nearest Neighbor algorithm, but first you need to create a distance\n",
    "metric to measure the distance (and similarity) between two instances.\n",
    "Write a generic function to compute the Lp-Norm distance. Verify that\n",
    "your function works by computing the L-2 (Euclidean) distance and L-1 (Manhattan) distance between the points (3,4) and (6,8), and between (6,8) and (3,4).  Ensure that your distance is correct and positive in both cases!\n"
   ]
  },
  {
   "cell_type": "code",
   "execution_count": 18,
   "metadata": {
    "autoscroll": "json-false",
    "collapsed": false,
    "ein.tags": [
     "worksheet-0"
    ],
    "slideshow": {
     "slide_type": "-"
    }
   },
   "outputs": [],
   "source": [
    "def distance_function(x,y,L=1):\n",
    "    \"\"\"\n",
    "    Function\n",
    "    --------\n",
    "    distance\n",
    "\n",
    "    Given two instances and a value for L, return the L-Norm distance between them\n",
    "\n",
    "    Parameters\n",
    "    ----------\n",
    "    x1, x2 : array\n",
    "        Array of numerical values corresponding to predictions for each of the N observations\n",
    "\n",
    "    L: int\n",
    "        Value of L to use in computing distances\n",
    "\n",
    "    Returns\n",
    "    -------\n",
    "    dist : int\n",
    "        The L-norm distance between instances\n",
    "\n",
    "    Example\n",
    "    -------\n",
    "    >>> print distance((3,4),(5,9),1)\n",
    "    7\n",
    "\n",
    "    \"\"\"\n",
    "    x= np.array(x)\n",
    "    y = np.array(y)\n",
    "    if L == 1:\n",
    "        return sum(abs(x-y))\n",
    "    elif L == 2:\n",
    "        return np.sqrt(sum((x-y)**2))\n",
    "    else:\n",
    "        raise valueError(\"Incorrect L supplied\")"
   ]
  },
  {
   "cell_type": "code",
   "execution_count": 19,
   "metadata": {
    "collapsed": false
   },
   "outputs": [
    {
     "name": "stdout",
     "output_type": "stream",
     "text": [
      "7\n"
     ]
    }
   ],
   "source": [
    "print distance_function([3,4],[5,9])"
   ]
  },
  {
   "cell_type": "markdown",
   "metadata": {
    "ein.tags": [
     "worksheet-0"
    ],
    "slideshow": {
     "slide_type": "-"
    }
   },
   "source": [
    "### 3.2 Basic Nearest Neighbor algorithm\n",
    "\n",
    "Now things get fun.  Your task is to implement a basic nearest neighbor algorithm from scratch.  Your simple model will use two input features (CRIM and RM) and a single output (MEDV).  In other words, you are modelling the relationship between median home value and crime rates and house size.\n",
    "\n",
    "Use your training data (bdata_train) to \"fit\" your model, although as\n",
    "you know, with Nearest Neighbors there is no real training, you just\n",
    "need to keep your training data in memory.  Write a function that\n",
    "predicts, for each instance in the testing data (bdata_test), the\n",
    "median home value using the nearest neighbor algorithm we discussed in\n",
    "class.  Since this is a small dataset, you can simply compare your\n",
    "test instance to every instance in the training set, and return the\n",
    "MEDV value of the closest training instance.  You can just loop over\n",
    "the instances to find the nearest neighbor.  Have your function take L as an input, where L is passed to the distance function.\n",
    "\n",
    "Compute the RMSE for the Nearest Neighbor predictions on the test set, using the Euclidean distance.  Report an estimate of the total time taken by your code to predict the nearest neighbors for all the values in the test data set.\n",
    "\n",
    "Plot the true vs predicted price for your test data\n"
   ]
  },
  {
   "cell_type": "code",
   "execution_count": 20,
   "metadata": {
    "collapsed": true
   },
   "outputs": [],
   "source": [
    "def nearest_to_one(data, one_instance, L=1):\n",
    "    num_row, num_col = data.shape\n",
    "    by_distance = [(i,distance_function(data[i,:num_col-1],one_instance,L)) for i in range(len(data))]\n",
    "    sorted_distance = sorted(by_distance, key = lambda x: x[1])\n",
    "  \n",
    "    index_nearest = sorted_distance[0][0]\n",
    "    return data[index_nearest,num_col-1]"
   ]
  },
  {
   "cell_type": "code",
   "execution_count": 21,
   "metadata": {
    "autoscroll": "json-false",
    "collapsed": false,
    "ein.tags": [
     "worksheet-0"
    ],
    "slideshow": {
     "slide_type": "-"
    }
   },
   "outputs": [],
   "source": [
    "def nearest_neighbor(training_data,test_data,k=1,L=1):\n",
    "    pred = []\n",
    "    if k==1:\n",
    "        for i in range(0,len(test_data)):\n",
    "            pred.append(nearest_to_one(training_data,test_data[i,:], L))\n",
    "    else:\n",
    "        for i in range(0,len(test_data)):\n",
    "            pred.append(nearest_k(training_data,test_data[i,:],k, L))\n",
    "            \n",
    "        \n",
    "    return pred"
   ]
  },
  {
   "cell_type": "code",
   "execution_count": 453,
   "metadata": {
    "collapsed": false
   },
   "outputs": [],
   "source": [
    "#list1 = nearest_to_one(bdata_train.as_matrix()[:,:],bdata_test.as_matrix()[2,:13])"
   ]
  },
  {
   "cell_type": "code",
   "execution_count": 454,
   "metadata": {
    "collapsed": false
   },
   "outputs": [
    {
     "data": {
      "text/plain": [
       "27.100000000000001"
      ]
     },
     "execution_count": 454,
     "metadata": {},
     "output_type": "execute_result"
    }
   ],
   "source": [
    "#list1"
   ]
  },
  {
   "cell_type": "code",
   "execution_count": 22,
   "metadata": {
    "collapsed": false
   },
   "outputs": [],
   "source": [
    "predictions = nearest_neighbor(bdata_train.as_matrix()[:,:],bdata_test.as_matrix()[:,:13],k=1)"
   ]
  },
  {
   "cell_type": "code",
   "execution_count": 23,
   "metadata": {
    "collapsed": false,
    "scrolled": true
   },
   "outputs": [
    {
     "name": "stdout",
     "output_type": "stream",
     "text": [
      "7.0344170516\n"
     ]
    }
   ],
   "source": [
    "pred = np.array(predictions)\n",
    "print compute_rmse(pred, bdata_test.as_matrix()[:,13])"
   ]
  },
  {
   "cell_type": "markdown",
   "metadata": {
    "ein.tags": [
     "worksheet-0"
    ],
    "slideshow": {
     "slide_type": "-"
    }
   },
   "source": [
    "### 3.3 Results and Normalization\n",
    "\n",
    "If you were being astute, you would have noticed that we never normalized our features -- a big no-no with Nearest Neighbor algorithms.  Normalization is similar to Mahalanobis disctance (if the features are independent).  Read more in Daume (2017), _A Course in Machine Learning_ Chapter 4.3.  Write a simple generic normalization function that takes as input an array of values for a given feature, and returns the normalized array.  Do it well, you will need it in the future as well ;-)\n",
    "\n",
    "Re-run the Nearest Neighbor algorithm on the normalized dataset (still just using CRIM and RM as input), and compare the RMSE from this method with your previous RMSE evaluations.\n",
    "\n",
    "*NOTE*: To normalize properly, best practice is to compute the mean and standard deviation on the training set, and use these values to normalize the testing dataset. However, for this problem set, it is okay if you separately normalize each dataset using the respective mean and standard deviation."
   ]
  },
  {
   "cell_type": "code",
   "execution_count": 24,
   "metadata": {
    "autoscroll": "json-false",
    "collapsed": false,
    "ein.tags": [
     "worksheet-0"
    ],
    "slideshow": {
     "slide_type": "-"
    }
   },
   "outputs": [],
   "source": [
    "\"\"\"\n",
    "# write your function specification here!\n",
    "\"\"\"\n",
    "def normalize_data(data):\n",
    "    num_row, num_col = data.shape\n",
    "    \n",
    "    for i in range(num_col-1):\n",
    "        mean = np.mean(data[:,i])\n",
    "        std = np.std(data[:,i])\n",
    "        data[:,i] = (data[:,i] - mean)/std\n",
    "        \n",
    "    \n",
    "    return data"
   ]
  },
  {
   "cell_type": "code",
   "execution_count": 25,
   "metadata": {
    "collapsed": true
   },
   "outputs": [],
   "source": [
    "norm_train_data = bdata_train.as_matrix()\n",
    "norm_test_data = bdata_test.as_matrix()\n",
    "norm_train_data = normalize_data(norm_train_data)\n",
    "norm_test_data = normalize_data(norm_test_data)"
   ]
  },
  {
   "cell_type": "code",
   "execution_count": 26,
   "metadata": {
    "collapsed": false
   },
   "outputs": [],
   "source": [
    "predictions = nearest_neighbor(norm_train_data, norm_test_data[:,:13],k=1,L=1)"
   ]
  },
  {
   "cell_type": "code",
   "execution_count": 27,
   "metadata": {
    "collapsed": false
   },
   "outputs": [
    {
     "name": "stdout",
     "output_type": "stream",
     "text": [
      "5.46021551666\n"
     ]
    }
   ],
   "source": [
    "pred = np.array(predictions)\n",
    "print compute_rmse(pred, bdata_test.as_matrix()[:,13])"
   ]
  },
  {
   "cell_type": "markdown",
   "metadata": {
    "ein.tags": [
     "worksheet-0"
    ],
    "slideshow": {
     "slide_type": "-"
    }
   },
   "source": [
    "### 3.4 Optimization\n",
    "\n",
    "\n",
    "A lot of the decisions we've made so far have been arbitrary.  Try to increase the performance of your nearest neighbor algorithm by adding features that you think might be relevant, and by using different values of L in the distance function.  Try a model that uses a different set of 2 features, then try at least one model that uses more than 4 features, then try using a different value of L.  If you're having fun, try a few different combinations of features and L!  \n",
    "\n",
    "What combination of features and distance function provide the lowest RMSE?  Compre RMSEs with the corresponding true-predicted plots.\n",
    "\n",
    "Do your decisions affect the running time of the algorithm?"
   ]
  },
  {
   "cell_type": "code",
   "execution_count": 28,
   "metadata": {
    "autoscroll": "json-false",
    "collapsed": false,
    "ein.tags": [
     "worksheet-0"
    ],
    "slideshow": {
     "slide_type": "-"
    }
   },
   "outputs": [],
   "source": [
    "'''\n",
    "6 - AGE      proportion of owner-occupied units built prior to 1940\n",
    "11 - B        1000(Bk - 0.63)^2 where Bk is the proportion of blacks by town\n",
    "9 - TAX      full-value property-tax rate per $10,000\n",
    "3 - CHAS     Charles River dummy variable (= 1 if tract bounds river; 0 otherwise)\n",
    "5 - NOX      nitric oxides concentration (parts per 10 million)\n",
    "'''\n",
    "two_feature_train = bdata_train[['CRIM','RM','MEDV']]\n",
    "two_feature_test = bdata_test[['CRIM','RM','MEDV']]"
   ]
  },
  {
   "cell_type": "code",
   "execution_count": 29,
   "metadata": {
    "collapsed": false
   },
   "outputs": [],
   "source": [
    "predictions = nearest_neighbor(two_feature_train.as_matrix(), two_feature_test.as_matrix()[:,:2], L=2)"
   ]
  },
  {
   "cell_type": "code",
   "execution_count": 30,
   "metadata": {
    "collapsed": false
   },
   "outputs": [
    {
     "name": "stdout",
     "output_type": "stream",
     "text": [
      "7.6927555773\n"
     ]
    },
    {
     "data": {
      "text/plain": [
       "<matplotlib.text.Text at 0x11d14a790>"
      ]
     },
     "execution_count": 30,
     "metadata": {},
     "output_type": "execute_result"
    },
    {
     "data": {
      "image/png": "[encoded data removed]",
      "text/plain": [
       "<matplotlib.figure.Figure at 0x11bb44f50>"
      ]
     },
     "metadata": {},
     "output_type": "display_data"
    }
   ],
   "source": [
    "pred = np.array(predictions)\n",
    "print compute_rmse(pred, two_feature_test.as_matrix()[:,2])\n",
    "fig, ax = plt.subplots(figsize=(16,9))\n",
    "\n",
    "ax.scatter(x = two_feature_test.as_matrix()[:,2], y = pred, alpha = 0.5, s = 30)\n",
    "ax.set_xlabel(\"True Values\")\n",
    "ax.set_ylabel(\"Predicted Values\")"
   ]
  },
  {
   "cell_type": "code",
   "execution_count": 31,
   "metadata": {
    "collapsed": true
   },
   "outputs": [],
   "source": [
    "four_feat_train = bdata_train[['CRIM','B','RM','NOX','MEDV']].as_matrix()\n",
    "four_feat_test = bdata_test[['CRIM','B','RM','NOX','MEDV']].as_matrix()"
   ]
  },
  {
   "cell_type": "code",
   "execution_count": 32,
   "metadata": {
    "collapsed": false
   },
   "outputs": [
    {
     "name": "stdout",
     "output_type": "stream",
     "text": [
      "7.24777030669\n"
     ]
    },
    {
     "data": {
      "text/plain": [
       "<matplotlib.text.Text at 0x11d354450>"
      ]
     },
     "execution_count": 32,
     "metadata": {},
     "output_type": "execute_result"
    },
    {
     "data": {
      "image/png": "[encoded data removed]",
      "text/plain": [
       "<matplotlib.figure.Figure at 0x11d3964d0>"
      ]
     },
     "metadata": {},
     "output_type": "display_data"
    }
   ],
   "source": [
    "predictions = nearest_neighbor(four_feat_train, four_feat_test[:,:4], L=2)\n",
    "pred = np.array(predictions)\n",
    "print compute_rmse(pred, four_feat_test[:,4])\n",
    "fig, ax = plt.subplots(figsize=(16,9))\n",
    "\n",
    "ax.scatter(x = four_feat_test[:,2], y = pred, alpha = 0.5, s = 30)\n",
    "ax.set_xlabel(\"True Values\")\n",
    "ax.set_ylabel(\"Predicted Values\")"
   ]
  },
  {
   "cell_type": "markdown",
   "metadata": {
    "ein.tags": [
     "worksheet-0"
    ],
    "slideshow": {
     "slide_type": "-"
    }
   },
   "source": [
    "### 3.5 Cross-Validation\n",
    "\n",
    "The more you tinkered with your features and distance function, the higher the risk that you overfit your training data.  To prevent this sort of overfitting, you need to use cross-validation (see Daume (2017) _A Course in Machine Learning_, Ch 4.6).  Here you must implement a simple k-fold cross-validation algorithm yourself.  Essentially you have to partition your dataset into 10 equally-sized samples, and for each of 10 iterations (the \"folds\"), use 9 samples as \"training data\" (even though there is no training in k-NN!), and the remaining 1 sample for testing.  The function you write here will be used several more times in this problem set, so do your best to write efficient code! (Note that the sklearn package has a built-in K-fold iterator -- do *not* use that here.)\n",
    "\n",
    "Use Euclidean distance with CRIM and RM (0 and 5) as features.  Compute the RMSE of that particular test set, then move on to the next iteration.  Report the average RMSE across the 10 iterations, and the total running time for all 10 iterations.  Compare the k-fold RMSE with the training-testing split RMSE above for the same hyperparameter values."
   ]
  },
  {
   "cell_type": "code",
   "execution_count": 38,
   "metadata": {
    "autoscroll": "json-false",
    "collapsed": false,
    "ein.tags": [
     "worksheet-0"
    ],
    "slideshow": {
     "slide_type": "-"
    }
   },
   "outputs": [],
   "source": [
    "total_data = pd.concat([bdata_train, bdata_test], axis = 0)"
   ]
  },
  {
   "cell_type": "code",
   "execution_count": 85,
   "metadata": {
    "collapsed": false
   },
   "outputs": [],
   "source": [
    "#testing k-cross code \n",
    "def k_cross_validation(data, features, folds = 10, k =1,  L = 1, verbose=False):\n",
    "    if features == []:\n",
    "        total_data = data\n",
    "        len_features = data.shape[1] -1\n",
    "    else:\n",
    "        len_features = len(features)\n",
    "        features += ['MEDV']\n",
    "        total_data = data[features]\n",
    "    \n",
    "    \n",
    "    # creating index slices \n",
    "    total_indices = list(total_data.index)\n",
    "    \n",
    "    random.shuffle(total_indices)\n",
    "    \n",
    "    remaining_k = []\n",
    "    size_partition = len(total_indices)/folds\n",
    "    rmse_list = []\n",
    "    \n",
    "    for i in range(1,folds+1):\n",
    "        if verbose == True:\n",
    "            print 'Iteration :{0}'.format(i)\n",
    "            print '----------------------------'\n",
    "        test = total_indices[(i-1)*size_partition:i*size_partition]\n",
    "        \n",
    "        test_data = total_data.iloc[test].as_matrix()\n",
    "        if verbose == True:\n",
    "            print 'Test data index {0}, {1}'.format((i-1)*size_partition,i*size_partition)\n",
    "            print 'Test data size :{0}'.format(test_data.shape)\n",
    "        remaining_k += test\n",
    "        rem = list(set(test)^set(remaining_k))\n",
    "       \n",
    "        train = rem + total_indices[i*size_partition:]\n",
    "        \n",
    "        train_data = normalize_data(total_data.iloc[train].as_matrix())\n",
    "        if verbose == True:\n",
    "            print 'Train data size :{0}'.format(train_data.shape)\n",
    "        predictions = nearest_neighbor(train_data,normalize_data(test_data[:,:len_features]), k = k, L=L)\n",
    "        pred = np.array(predictions)\n",
    "        rmse = compute_rmse(pred, test_data[:,len_features])\n",
    "        if verbose == True:\n",
    "            print 'RMSE :{0}'.format(rmse)\n",
    "            print ' '\n",
    "        rmse_list.append(rmse)\n",
    "    return rmse_list"
   ]
  },
  {
   "cell_type": "code",
   "execution_count": 54,
   "metadata": {
    "collapsed": false
   },
   "outputs": [
    {
     "name": "stdout",
     "output_type": "stream",
     "text": [
      "506\n",
      "Iteration :1\n",
      "----------------------------\n",
      "Test data index 0, 50\n",
      "Test data size :(50, 3)\n",
      "Train data size :(456, 3)\n",
      "RMSE :5.09562557494\n",
      " \n",
      "Iteration :2\n",
      "----------------------------\n",
      "Test data index 50, 100\n",
      "Test data size :(50, 3)\n",
      "Train data size :(456, 3)\n",
      "RMSE :6.6519921828\n",
      " \n",
      "Iteration :3\n",
      "----------------------------\n",
      "Test data index 100, 150\n",
      "Test data size :(50, 3)\n",
      "Train data size :(456, 3)\n",
      "RMSE :8.44497483714\n",
      " \n",
      "Iteration :4\n",
      "----------------------------\n",
      "Test data index 150, 200\n",
      "Test data size :(50, 3)\n",
      "Train data size :(456, 3)\n",
      "RMSE :7.07399462821\n",
      " \n",
      "Iteration :5\n",
      "----------------------------\n",
      "Test data index 200, 250\n",
      "Test data size :(50, 3)\n",
      "Train data size :(456, 3)\n",
      "RMSE :6.81127007246\n",
      " \n",
      "Iteration :6\n",
      "----------------------------\n",
      "Test data index 250, 300\n",
      "Test data size :(50, 3)\n",
      "Train data size :(456, 3)\n",
      "RMSE :5.89906772295\n",
      " \n",
      "Iteration :7\n",
      "----------------------------\n",
      "Test data index 300, 350\n",
      "Test data size :(50, 3)\n",
      "Train data size :(456, 3)\n",
      "RMSE :8.92323932213\n",
      " \n",
      "Iteration :8\n",
      "----------------------------\n",
      "Test data index 350, 400\n",
      "Test data size :(50, 3)\n",
      "Train data size :(456, 3)\n",
      "RMSE :4.99481731398\n",
      " \n",
      "Iteration :9\n",
      "----------------------------\n",
      "Test data index 400, 450\n",
      "Test data size :(50, 3)\n",
      "Train data size :(456, 3)\n",
      "RMSE :6.74935552479\n",
      " \n",
      "Iteration :10\n",
      "----------------------------\n",
      "Test data index 450, 500\n",
      "Test data size :(50, 3)\n",
      "Train data size :(456, 3)\n",
      "RMSE :8.28089367158\n",
      " \n",
      "Total time of execution (in seconds) : 11.5885028839\n"
     ]
    }
   ],
   "source": [
    "import timeit\n",
    "start_time = timeit.default_timer()\n",
    "rmse = k_cross_validation(total_data, features = ['CRIM','RM'], folds = 10, k = 1, L=2, verbose=True)\n",
    "elapsed = timeit.default_timer() - start_time\n",
    "print 'Total time of execution (in seconds) : {0}'.format(elapsed)"
   ]
  },
  {
   "cell_type": "code",
   "execution_count": 55,
   "metadata": {
    "collapsed": false
   },
   "outputs": [
    {
     "data": {
      "text/plain": [
       "6.8925230850986852"
      ]
     },
     "execution_count": 55,
     "metadata": {},
     "output_type": "execute_result"
    }
   ],
   "source": [
    "np.array(rmse).mean()"
   ]
  },
  {
   "cell_type": "markdown",
   "metadata": {},
   "source": [
    "Considering that we have selected just two features CRIM and RM for our prediction we can see that we still perform better than the two-feature model we created above using CRIM and RM using the training-test split. The RMSE for the model created using training-test split was <b> 7.6927555773 </b> and the avergage RSME for the model on which k-cross validation was performed is <b> 6.8936967746270934 </b> Thus, since the testing set spans across the entire data wecan say with confidence that the model is better than the previous model of two features "
   ]
  },
  {
   "cell_type": "markdown",
   "metadata": {
    "ein.tags": [
     "worksheet-0"
    ],
    "slideshow": {
     "slide_type": "-"
    }
   },
   "source": [
    "### 3.6 K-Nearest Neighbors Algorithm\n",
    "\n",
    "Implement the K-Nearest Neighbors algorithm.  Using 10-fold cross validation, report the RMSE for K=3 and the running time of the algorithm."
   ]
  },
  {
   "cell_type": "code",
   "execution_count": 47,
   "metadata": {
    "autoscroll": "json-false",
    "collapsed": false,
    "ein.tags": [
     "worksheet-0"
    ],
    "slideshow": {
     "slide_type": "-"
    }
   },
   "outputs": [],
   "source": [
    "def nearest_k(data, one_instance, k, L=1):\n",
    "    num_row, num_col = data.shape\n",
    "    by_distance = [(i,distance_function(data[i,:num_col-1],one_instance,L)) for i in range(len(data))]\n",
    "    sorted_distance = sorted(by_distance, key = lambda x: x[1])\n",
    "    k_nearest =  sorted_distance[:k]\n",
    "    index_nearest = [k_nearest[j][0] for j in range(k)]\n",
    "\n",
    "    k_data = data[index_nearest,num_col-1].reshape(-1,1)\n",
    "   \n",
    "    return np.mean(k_data)"
   ]
  },
  {
   "cell_type": "code",
   "execution_count": 56,
   "metadata": {
    "collapsed": false
   },
   "outputs": [
    {
     "name": "stdout",
     "output_type": "stream",
     "text": [
      "506\n",
      "Iteration :1\n",
      "----------------------------\n",
      "Test data index 0, 50\n",
      "Test data size :(50, 14)\n",
      "Train data size :(456, 14)\n",
      "RMSE :6.20222540706\n",
      " \n",
      "Iteration :2\n",
      "----------------------------\n",
      "Test data index 50, 100\n",
      "Test data size :(50, 14)\n",
      "Train data size :(456, 14)\n",
      "RMSE :4.41196857045\n",
      " \n",
      "Iteration :3\n",
      "----------------------------\n",
      "Test data index 100, 150\n",
      "Test data size :(50, 14)\n",
      "Train data size :(456, 14)\n",
      "RMSE :3.10870462483\n",
      " \n",
      "Iteration :4\n",
      "----------------------------\n",
      "Test data index 150, 200\n",
      "Test data size :(50, 14)\n",
      "Train data size :(456, 14)\n",
      "RMSE :4.60827757652\n",
      " \n",
      "Iteration :5\n",
      "----------------------------\n",
      "Test data index 200, 250\n",
      "Test data size :(50, 14)\n",
      "Train data size :(456, 14)\n",
      "RMSE :4.6409888793\n",
      " \n",
      "Iteration :6\n",
      "----------------------------\n",
      "Test data index 250, 300\n",
      "Test data size :(50, 14)\n",
      "Train data size :(456, 14)\n",
      "RMSE :3.34348454294\n",
      " \n",
      "Iteration :7\n",
      "----------------------------\n",
      "Test data index 300, 350\n",
      "Test data size :(50, 14)\n",
      "Train data size :(456, 14)\n",
      "RMSE :4.44710392653\n",
      " \n",
      "Iteration :8\n",
      "----------------------------\n",
      "Test data index 350, 400\n",
      "Test data size :(50, 14)\n",
      "Train data size :(456, 14)\n",
      "RMSE :3.06076606242\n",
      " \n",
      "Iteration :9\n",
      "----------------------------\n",
      "Test data index 400, 450\n",
      "Test data size :(50, 14)\n",
      "Train data size :(456, 14)\n",
      "RMSE :4.85585328352\n",
      " \n",
      "Iteration :10\n",
      "----------------------------\n",
      "Test data index 450, 500\n",
      "Test data size :(50, 14)\n",
      "Train data size :(456, 14)\n",
      "RMSE :2.41324585477\n",
      " \n",
      "Total time of execution (in seconds) : 13.1632130146\n"
     ]
    }
   ],
   "source": [
    "start_time = timeit.default_timer()\n",
    "rmse = k_cross_validation(total_data, features = [], folds = 10, k = 3, L=2, verbose = True)\n",
    "elapsed = timeit.default_timer() - start_time\n",
    "print 'Total time of execution (in seconds) : {0}'.format(elapsed)"
   ]
  },
  {
   "cell_type": "code",
   "execution_count": 57,
   "metadata": {
    "collapsed": false
   },
   "outputs": [
    {
     "data": {
      "text/plain": [
       "4.1092618728346091"
      ]
     },
     "execution_count": 57,
     "metadata": {},
     "output_type": "execute_result"
    }
   ],
   "source": [
    "np.array(rmse).mean()"
   ]
  },
  {
   "cell_type": "raw",
   "metadata": {},
   "source": [
    "Here we implemented a 3-NN using 10-cross validation and we used Euclidean distance as our distance metric. We used all the features in the data set and observed an RMSE fo 4.109 which is the best performance amongst all the different models we created so far. "
   ]
  },
  {
   "cell_type": "markdown",
   "metadata": {
    "ein.tags": [
     "worksheet-0"
    ],
    "slideshow": {
     "slide_type": "-"
    }
   },
   "source": [
    "### 3.7 Using cross validation to find K\n",
    "\n",
    "What is the best choice of K?  Compute the RMSE for values of K between 1 and 25 using 10-fold cross-validation.  Use the following features in your model, and don't forget to normalize: CRIM, ZN, RM, AGE, DIS, TAX.  Create a graph that shows how RMSE changes as K increases from 1 to 25.  Label your axes, and summarize what you see.  What do you think is a reasonable choice of K for this model?"
   ]
  },
  {
   "cell_type": "code",
   "execution_count": 58,
   "metadata": {
    "autoscroll": "json-false",
    "collapsed": false,
    "ein.tags": [
     "worksheet-0"
    ],
    "slideshow": {
     "slide_type": "-"
    }
   },
   "outputs": [
    {
     "name": "stdout",
     "output_type": "stream",
     "text": [
      "1-Nearest Neighbor\n",
      "--------------------\n",
      "506\n",
      "RMSE :5.83219541946\n",
      "2-Nearest Neighbor\n",
      "--------------------\n",
      "506\n",
      "RMSE :5.69309901733\n",
      "3-Nearest Neighbor\n",
      "--------------------\n",
      "506\n",
      "RMSE :5.55086436973\n",
      "4-Nearest Neighbor\n",
      "--------------------\n",
      "506\n",
      "RMSE :4.98238118528\n",
      "5-Nearest Neighbor\n",
      "--------------------\n",
      "506\n",
      "RMSE :5.33926423569\n",
      "6-Nearest Neighbor\n",
      "--------------------\n",
      "506\n",
      "RMSE :5.43158115627\n",
      "7-Nearest Neighbor\n",
      "--------------------\n",
      "506\n",
      "RMSE :5.3203644578\n",
      "8-Nearest Neighbor\n",
      "--------------------\n",
      "506\n",
      "RMSE :5.32740385207\n",
      "9-Nearest Neighbor\n",
      "--------------------\n",
      "506\n",
      "RMSE :5.32486130468\n",
      "10-Nearest Neighbor\n",
      "--------------------\n",
      "506\n",
      "RMSE :5.41004373725\n",
      "11-Nearest Neighbor\n",
      "--------------------\n",
      "506\n",
      "RMSE :5.21356542744\n",
      "12-Nearest Neighbor\n",
      "--------------------\n",
      "506\n",
      "RMSE :5.19601819392\n",
      "13-Nearest Neighbor\n",
      "--------------------\n",
      "506\n",
      "RMSE :5.64404510372\n",
      "14-Nearest Neighbor\n",
      "--------------------\n",
      "506\n",
      "RMSE :5.285504033\n",
      "15-Nearest Neighbor\n",
      "--------------------\n",
      "506\n",
      "RMSE :5.6541286245\n",
      "16-Nearest Neighbor\n",
      "--------------------\n",
      "506\n",
      "RMSE :5.52476977314\n",
      "17-Nearest Neighbor\n",
      "--------------------\n",
      "506\n",
      "RMSE :5.56681074817\n",
      "18-Nearest Neighbor\n",
      "--------------------\n",
      "506\n",
      "RMSE :5.5246825116\n",
      "19-Nearest Neighbor\n",
      "--------------------\n",
      "506\n",
      "RMSE :5.51289775227\n",
      "20-Nearest Neighbor\n",
      "--------------------\n",
      "506\n",
      "RMSE :5.43561852584\n",
      "21-Nearest Neighbor\n",
      "--------------------\n",
      "506\n",
      "RMSE :5.33613177044\n",
      "22-Nearest Neighbor\n",
      "--------------------\n",
      "506\n",
      "RMSE :5.66627638142\n",
      "23-Nearest Neighbor\n",
      "--------------------\n",
      "506\n",
      "RMSE :5.53760359891\n",
      "24-Nearest Neighbor\n",
      "--------------------\n",
      "506\n",
      "RMSE :5.60072117022\n",
      "25-Nearest Neighbor\n",
      "--------------------\n",
      "506\n",
      "RMSE :5.63005484713\n"
     ]
    }
   ],
   "source": [
    "'''\n",
    "CRIM - 0\n",
    "ZN - 1\n",
    "RM - 5\n",
    "AGE - 6\n",
    "DIS - 7\n",
    "TAX - 9\n",
    "'''\n",
    "k_rmse = []\n",
    "k_range = [i for i in range(1,26)]\n",
    "for k in k_range:\n",
    "    print '{0}-Nearest Neighbor'.format(k)\n",
    "    print '--------------------'\n",
    "    rmse =  k_cross_validation(total_data, features = ['CRIM', 'ZN', 'RM', 'AGE', 'DIS', 'TAX'], folds = 10, k = k, L=2, verbose=False)\n",
    "    \n",
    "    k_rmse.append(np.array(rmse).mean())\n",
    "    print 'RMSE :{0}'.format(k_rmse[k-1])\n",
    "    print ' '"
   ]
  },
  {
   "cell_type": "code",
   "execution_count": 64,
   "metadata": {
    "collapsed": false
   },
   "outputs": [
    {
     "data": {
      "text/plain": [
       "<matplotlib.text.Text at 0x12334c0d0>"
      ]
     },
     "execution_count": 64,
     "metadata": {},
     "output_type": "execute_result"
    },
    {
     "data": {
      "image/png": "[encoded data removed]",
      "text/plain": [
       "<matplotlib.figure.Figure at 0x122b38c90>"
      ]
     },
     "metadata": {},
     "output_type": "display_data"
    }
   ],
   "source": [
    "fig, ax = plt.subplots(figsize = (16,9))\n",
    "ax.scatter(x = k_range, y = k_rmse, s = 50, alpha = 0.7)\n",
    "ax.set_xlabel('K-values')\n",
    "ax.set_ylabel('RMSE values for each K')"
   ]
  },
  {
   "cell_type": "markdown",
   "metadata": {
    "ein.tags": [
     "worksheet-0"
    ],
    "slideshow": {
     "slide_type": "-"
    }
   },
   "source": [
    "### Extra-Credit: Forward selection\n",
    "\n",
    "Thus far the choice of predictor variables has been rather arbitrary. For extra credit, implement a basic [forward selection](http://www.stat.ubc.ca/~rollin/teach/643w04/lec/node41.html) algorithm to progressively include features that decrease the cross-validated RMSE of the model. Note that the optimal value of K may be different for each model, so you may want to use cross-validation to choose K each time (but it is also fine if you fix K at the optimal value from 2.7).  Create a graph that shows RMSE as a function of the number of features in the model. Label each point on the x-axis with the name of the feature that is added at that step in the forward selection algorithm. *(For instance, if the optimal single-feature model has CRIM with RMSE = 10, and the optimal two-feature model has CRIM+ZN with RMSE=9, the first x-axis label will say CRIM and the second x-axis lable with say ZN)*"
   ]
  },
  {
   "cell_type": "code",
   "execution_count": 86,
   "metadata": {
    "collapsed": false
   },
   "outputs": [
    {
     "name": "stdout",
     "output_type": "stream",
     "text": [
      "Features :['CRIM']\n",
      "RMSE: 8.55265926944\n",
      "Features :['CRIM', 'ZN']\n",
      "RMSE: 8.42790762386\n",
      "Features :['CRIM', 'ZN', 'INDUS']\n",
      "RMSE: 7.75788434973\n",
      "Features :['CRIM', 'ZN', 'INDUS', 'CHAS']\n",
      "RMSE: 7.54387224946\n",
      "Features :['CRIM', 'ZN', 'INDUS', 'CHAS', 'NOX']\n",
      "RMSE: 7.15242267443\n",
      "Features :['CRIM', 'ZN', 'INDUS', 'CHAS', 'NOX', 'RM']\n",
      "RMSE: 5.20960609461\n",
      "Features :['CRIM', 'ZN', 'INDUS', 'CHAS', 'NOX', 'RM', 'B']\n",
      "RMSE: 5.16430670288\n",
      "Features :['CRIM', 'ZN', 'INDUS', 'CHAS', 'NOX', 'RM', 'B', 'LSTAT']\n",
      "RMSE: 4.61410732651\n",
      "[8.5526592694417367, 8.4279076238563615, 7.7578843497312331, 7.5438722494565607, 7.1524226744265267, 5.209606094612159, 5.1643067028791467, 4.6141073265067707]\n"
     ]
    }
   ],
   "source": [
    "feature_dict = {0: 'CRIM',\n",
    "                1: 'ZN',\n",
    "                2: 'INDUS',\n",
    "                3: 'CHAS',\n",
    "                4: 'NOX',\n",
    "                5: 'RM',\n",
    "                6: 'AGE',\n",
    "                7: 'DIS',\n",
    "                8: 'RAD',\n",
    "                9: 'TAX',\n",
    "                10: 'PTRATIO',\n",
    "                11: 'B',\n",
    "                12: 'LSTAT'}\n",
    "feats = ()\n",
    "rmse_total_list = []\n",
    "for i in range(13):\n",
    "    if i == 0:\n",
    "        feats += (feature_dict.get(i),)\n",
    "        features = list(feats)\n",
    "        rmse_list =  k_cross_validation(total_data, features = features, folds = 10, k = 4, L=2, verbose=False)\n",
    "        rmse = np.array(rmse_list).mean()\n",
    "        rmse_total_list.append(rmse)\n",
    "        print 'Features :{0}'.format(list(feats))\n",
    "        print 'RMSE: {0}'.format(rmse)\n",
    "    else:\n",
    "        feats += (feature_dict.get(i),)\n",
    "        features = list(feats)\n",
    "        rmse2_list = k_cross_validation(total_data, features = features, folds = 10, k = 4, L=2, verbose=False)\n",
    "        rmse2 = np.array(rmse2_list).mean()\n",
    "        if rmse2 > rmse:\n",
    "            l = list(feats)\n",
    "            l.remove(feature_dict.get(i))\n",
    "            feats = tuple(l)\n",
    "        else:\n",
    "            print 'Features :{0}'.format(list(feats))\n",
    "            rmse = rmse2\n",
    "            rmse_total_list.append(rmse)\n",
    "            print 'RMSE: {0}'.format(rmse)\n",
    "        \n",
    "print rmse_total_list"
   ]
  },
  {
   "cell_type": "code",
   "execution_count": 92,
   "metadata": {
    "collapsed": false
   },
   "outputs": [
    {
     "data": {
      "text/plain": [
       "[<matplotlib.text.Text at 0x127b0b250>,\n",
       " <matplotlib.text.Text at 0x127f7f1d0>,\n",
       " <matplotlib.text.Text at 0x127fbdfd0>,\n",
       " <matplotlib.text.Text at 0x127fcb6d0>,\n",
       " <matplotlib.text.Text at 0x127fcbe50>,\n",
       " <matplotlib.text.Text at 0x127fd3610>,\n",
       " <matplotlib.text.Text at 0x127fd3d90>,\n",
       " <matplotlib.text.Text at 0x127fdf550>,\n",
       " <matplotlib.text.Text at 0x127fdfcd0>]"
      ]
     },
     "execution_count": 92,
     "metadata": {},
     "output_type": "execute_result"
    },
    {
     "data": {
      "image/png": "[encoded data removed]",
      "text/plain": [
       "<matplotlib.figure.Figure at 0x127b8c590>"
      ]
     },
     "metadata": {},
     "output_type": "display_data"
    }
   ],
   "source": [
    "fig, ax = plt.subplots(figsize = (16,9))\n",
    "ax.scatter(x = range(len(feats)), y = rmse_total_list, s = 50, alpha = 0.7)\n",
    "ax.set_xlabel('Features used in Forward Selection')\n",
    "ax.set_ylabel('RMSE values for each feature added')\n",
    "ax.set_xticklabels([' '] + list(feats))"
   ]
  },
  {
   "cell_type": "code",
   "execution_count": null,
   "metadata": {
    "collapsed": true
   },
   "outputs": [],
   "source": []
  }
 ],
 "metadata": {
  "anaconda-cloud": {},
  "kernelspec": {
   "display_name": "Python 2",
   "language": "python",
   "name": "python2"
  },
  "language_info": {
   "codemirror_mode": {
    "name": "ipython",
    "version": 2
   },
   "file_extension": ".py",
   "mimetype": "text/x-python",
   "name": "python",
   "nbconvert_exporter": "python",
   "pygments_lexer": "ipython2",
   "version": "2.7.11"
  },
  "name": "infx573-ps3-solutions.ipynb"
 },
 "nbformat": 4,
 "nbformat_minor": 0
}
